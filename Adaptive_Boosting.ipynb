{
  "nbformat": 4,
  "nbformat_minor": 0,
  "metadata": {
    "colab": {
      "provenance": [],
      "authorship_tag": "ABX9TyNjWmBAYdO3lMGiqzNzJJxi",
      "include_colab_link": true
    },
    "kernelspec": {
      "name": "python3",
      "display_name": "Python 3"
    },
    "language_info": {
      "name": "python"
    }
  },
  "cells": [
    {
      "cell_type": "markdown",
      "metadata": {
        "id": "view-in-github",
        "colab_type": "text"
      },
      "source": [
        "<a href=\"https://colab.research.google.com/github/DEVANSARAVANAN/PROJECT-Kaggle/blob/main/Adaptive_Boosting.ipynb\" target=\"_parent\"><img src=\"https://colab.research.google.com/assets/colab-badge.svg\" alt=\"Open In Colab\"/></a>"
      ]
    },
    {
      "cell_type": "code",
      "execution_count": 6,
      "metadata": {
        "id": "iBj1gQcsgFvf"
      },
      "outputs": [],
      "source": [
        "from sklearn.ensemble import AdaBoostClassifier\n",
        "from sklearn.preprocessing import LabelEncoder\n",
        "from sklearn.tree import DecisionTreeClassifier\n",
        "import pandas as pd"
      ]
    },
    {
      "cell_type": "code",
      "source": [
        "#Import train_test_split function\n",
        "from sklearn.model_selection import train_test_split\n",
        "#import scikit metrics modeule for accuracy calculation\n",
        "from sklearn import metrics\n",
        "\n",
        "# from sklearn import datasets"
      ],
      "metadata": {
        "id": "Ysyj1X0QgnGz"
      },
      "execution_count": 16,
      "outputs": []
    },
    {
      "cell_type": "code",
      "source": [
        "#Load in the data and define the column labels\n",
        "# data=datasets.load_iris()\n",
        "# dataset=pd.read_csv(data)\n",
        "\n",
        "# dataset=dataset.sample(frac=1)\n",
        "\n",
        "# # dataset.coulmns=['','']\n"
      ],
      "metadata": {
        "id": "0cdOJSbnhJWb"
      },
      "execution_count": 20,
      "outputs": []
    },
    {
      "cell_type": "code",
      "source": [
        "# for label in dataset.columns:\n",
        "#   dataset[label]=LabelEncoder().fit(dataset[label]).transform(dataset[label])\n",
        "\n",
        "# dataset.info()\n",
        "\n",
        "# x=datse.drop(['target'],axis=1)\n",
        "# y=dataset['target']"
      ],
      "metadata": {
        "id": "awjB0lAYhmVf"
      },
      "execution_count": null,
      "outputs": []
    },
    {
      "cell_type": "code",
      "source": [
        "# x_train,x_test,y_train,y_test=train_test_split(x,y,test_size=0.3)\n",
        "\n",
        "\n",
        "# model=DecisionTreeClassifier(criterion='entropy',max_depth=1)\n",
        "# AdaBoost=AdaBoostCalssifier(base_estimator=model,n_estimation=400,learning_rate=1)\n",
        "\n",
        "# #AdaGoost=AdaBoostClassifier(n_estimator=400,learning_rate=1,algorithm='SAMME)\n",
        "# boostmodel=AdaBoost.fit(x_train,y_train)"
      ],
      "metadata": {
        "id": "WuVe0g3HiGrG"
      },
      "execution_count": null,
      "outputs": []
    },
    {
      "cell_type": "code",
      "source": [
        "# y_pred=boostmodel.predict(x_test)\n",
        "# predictions=metrics.accuracy_score(y_test,y_pred)\n",
        "# #lfdcj ggjk =AdaBoost.score(y_test,y_pred)"
      ],
      "metadata": {
        "id": "jJLUzcY1jA2d"
      },
      "execution_count": null,
      "outputs": []
    },
    {
      "cell_type": "code",
      "source": [],
      "metadata": {
        "id": "uGKF7nEchINL"
      },
      "execution_count": null,
      "outputs": []
    }
  ]
}