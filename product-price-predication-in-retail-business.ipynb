{
 "cells": [
  {
   "cell_type": "code",
   "execution_count": 1,
   "id": "77da4381",
   "metadata": {
    "execution": {
     "iopub.execute_input": "2023-05-29T03:54:42.675307Z",
     "iopub.status.busy": "2023-05-29T03:54:42.674964Z",
     "iopub.status.idle": "2023-05-29T03:54:44.444498Z",
     "shell.execute_reply": "2023-05-29T03:54:44.443066Z"
    },
    "id": "hEz1Gc2NAS5N",
    "papermill": {
     "duration": 1.777969,
     "end_time": "2023-05-29T03:54:44.446999",
     "exception": false,
     "start_time": "2023-05-29T03:54:42.669030",
     "status": "completed"
    },
    "tags": []
   },
   "outputs": [],
   "source": [
    "from sklearn.linear_model import LinearRegression\n",
    "from sklearn.metrics import mean_squared_error\n",
    "import pandas as pd\n",
    "import seaborn as sns\n",
    "import numpy\n",
    "from sklearn import linear_model"
   ]
  },
  {
   "cell_type": "markdown",
   "id": "146723ef",
   "metadata": {
    "id": "7X7KaCGQ44T6",
    "papermill": {
     "duration": 0.003246,
     "end_time": "2023-05-29T03:54:44.454326",
     "exception": false,
     "start_time": "2023-05-29T03:54:44.451080",
     "status": "completed"
    },
    "tags": []
   },
   "source": [
    "##LINEAR_REGRESSION"
   ]
  },
  {
   "cell_type": "code",
   "execution_count": 2,
   "id": "ddc85907",
   "metadata": {
    "execution": {
     "iopub.execute_input": "2023-05-29T03:54:44.462874Z",
     "iopub.status.busy": "2023-05-29T03:54:44.462526Z",
     "iopub.status.idle": "2023-05-29T03:54:44.505950Z",
     "shell.execute_reply": "2023-05-29T03:54:44.505041Z"
    },
    "id": "cUidzzw7m0pQ",
    "papermill": {
     "duration": 0.050038,
     "end_time": "2023-05-29T03:54:44.507862",
     "exception": false,
     "start_time": "2023-05-29T03:54:44.457824",
     "status": "completed"
    },
    "tags": []
   },
   "outputs": [
    {
     "data": {
      "text/html": [
       "<div>\n",
       "<style scoped>\n",
       "    .dataframe tbody tr th:only-of-type {\n",
       "        vertical-align: middle;\n",
       "    }\n",
       "\n",
       "    .dataframe tbody tr th {\n",
       "        vertical-align: top;\n",
       "    }\n",
       "\n",
       "    .dataframe thead th {\n",
       "        text-align: right;\n",
       "    }\n",
       "</style>\n",
       "<table border=\"1\" class=\"dataframe\">\n",
       "  <thead>\n",
       "    <tr style=\"text-align: right;\">\n",
       "      <th></th>\n",
       "      <th>DATE</th>\n",
       "      <th>BOX_PRICE</th>\n",
       "      <th>NUM_BOX_BUY</th>\n",
       "      <th>SALED</th>\n",
       "      <th>UN_SALED</th>\n",
       "      <th>HIGH_TEMP</th>\n",
       "      <th>LOW_TEMP</th>\n",
       "      <th>HIMUDITY</th>\n",
       "      <th>WIND</th>\n",
       "    </tr>\n",
       "  </thead>\n",
       "  <tbody>\n",
       "    <tr>\n",
       "      <th>0</th>\n",
       "      <td>10/4/2022</td>\n",
       "      <td>480</td>\n",
       "      <td>72</td>\n",
       "      <td>72</td>\n",
       "      <td>0</td>\n",
       "      <td>31</td>\n",
       "      <td>28</td>\n",
       "      <td>82</td>\n",
       "      <td>5</td>\n",
       "    </tr>\n",
       "    <tr>\n",
       "      <th>1</th>\n",
       "      <td>10/5/2022</td>\n",
       "      <td>480</td>\n",
       "      <td>60</td>\n",
       "      <td>55</td>\n",
       "      <td>5</td>\n",
       "      <td>31</td>\n",
       "      <td>28</td>\n",
       "      <td>86</td>\n",
       "      <td>4</td>\n",
       "    </tr>\n",
       "    <tr>\n",
       "      <th>2</th>\n",
       "      <td>10/6/2022</td>\n",
       "      <td>530</td>\n",
       "      <td>57</td>\n",
       "      <td>57</td>\n",
       "      <td>0</td>\n",
       "      <td>27</td>\n",
       "      <td>27</td>\n",
       "      <td>92</td>\n",
       "      <td>17</td>\n",
       "    </tr>\n",
       "    <tr>\n",
       "      <th>3</th>\n",
       "      <td>10/7/2022</td>\n",
       "      <td>550</td>\n",
       "      <td>78</td>\n",
       "      <td>75</td>\n",
       "      <td>3</td>\n",
       "      <td>27</td>\n",
       "      <td>27</td>\n",
       "      <td>93</td>\n",
       "      <td>0</td>\n",
       "    </tr>\n",
       "    <tr>\n",
       "      <th>4</th>\n",
       "      <td>10/8/2022</td>\n",
       "      <td>530</td>\n",
       "      <td>75</td>\n",
       "      <td>75</td>\n",
       "      <td>0</td>\n",
       "      <td>29</td>\n",
       "      <td>29</td>\n",
       "      <td>83</td>\n",
       "      <td>6</td>\n",
       "    </tr>\n",
       "    <tr>\n",
       "      <th>5</th>\n",
       "      <td>10/9/2022</td>\n",
       "      <td>450</td>\n",
       "      <td>77</td>\n",
       "      <td>75</td>\n",
       "      <td>2</td>\n",
       "      <td>27</td>\n",
       "      <td>27</td>\n",
       "      <td>90</td>\n",
       "      <td>9</td>\n",
       "    </tr>\n",
       "    <tr>\n",
       "      <th>6</th>\n",
       "      <td>10/10/2022</td>\n",
       "      <td>460</td>\n",
       "      <td>74</td>\n",
       "      <td>74</td>\n",
       "      <td>0</td>\n",
       "      <td>26</td>\n",
       "      <td>26</td>\n",
       "      <td>96</td>\n",
       "      <td>0</td>\n",
       "    </tr>\n",
       "    <tr>\n",
       "      <th>7</th>\n",
       "      <td>10/11/2022</td>\n",
       "      <td>460</td>\n",
       "      <td>72</td>\n",
       "      <td>72</td>\n",
       "      <td>0</td>\n",
       "      <td>32</td>\n",
       "      <td>27</td>\n",
       "      <td>88</td>\n",
       "      <td>7</td>\n",
       "    </tr>\n",
       "    <tr>\n",
       "      <th>8</th>\n",
       "      <td>10/12/2022</td>\n",
       "      <td>500</td>\n",
       "      <td>72</td>\n",
       "      <td>72</td>\n",
       "      <td>0</td>\n",
       "      <td>31</td>\n",
       "      <td>28</td>\n",
       "      <td>84</td>\n",
       "      <td>5</td>\n",
       "    </tr>\n",
       "    <tr>\n",
       "      <th>9</th>\n",
       "      <td>10/13/2022</td>\n",
       "      <td>480</td>\n",
       "      <td>72</td>\n",
       "      <td>69</td>\n",
       "      <td>3</td>\n",
       "      <td>32</td>\n",
       "      <td>29</td>\n",
       "      <td>78</td>\n",
       "      <td>3</td>\n",
       "    </tr>\n",
       "  </tbody>\n",
       "</table>\n",
       "</div>"
      ],
      "text/plain": [
       "         DATE  BOX_PRICE  NUM_BOX_BUY  SALED  UN_SALED  HIGH_TEMP  LOW_TEMP  \\\n",
       "0   10/4/2022        480           72     72         0         31        28   \n",
       "1   10/5/2022        480           60     55         5         31        28   \n",
       "2   10/6/2022        530           57     57         0         27        27   \n",
       "3   10/7/2022        550           78     75         3         27        27   \n",
       "4   10/8/2022        530           75     75         0         29        29   \n",
       "5   10/9/2022        450           77     75         2         27        27   \n",
       "6  10/10/2022        460           74     74         0         26        26   \n",
       "7  10/11/2022        460           72     72         0         32        27   \n",
       "8  10/12/2022        500           72     72         0         31        28   \n",
       "9  10/13/2022        480           72     69         3         32        29   \n",
       "\n",
       "   HIMUDITY  WIND  \n",
       "0        82     5  \n",
       "1        86     4  \n",
       "2        92    17  \n",
       "3        93     0  \n",
       "4        83     6  \n",
       "5        90     9  \n",
       "6        96     0  \n",
       "7        88     7  \n",
       "8        84     5  \n",
       "9        78     3  "
      ]
     },
     "execution_count": 2,
     "metadata": {},
     "output_type": "execute_result"
    }
   ],
   "source": [
    "data=pd.read_csv('/kaggle/input/protom-dec2022-csv-data-updated/PROTOM_DEC2022_CSV_DATA_UPDATED.csv')\n",
    "data.head(10)\n"
   ]
  },
  {
   "cell_type": "code",
   "execution_count": 3,
   "id": "aa71716d",
   "metadata": {
    "execution": {
     "iopub.execute_input": "2023-05-29T03:54:44.517433Z",
     "iopub.status.busy": "2023-05-29T03:54:44.516916Z",
     "iopub.status.idle": "2023-05-29T03:54:44.522250Z",
     "shell.execute_reply": "2023-05-29T03:54:44.521271Z"
    },
    "id": "Y4tQmh6ytPNA",
    "outputId": "c90e97a0-bc0b-4ae5-f6d1-5fb488087119",
    "papermill": {
     "duration": 0.012338,
     "end_time": "2023-05-29T03:54:44.524117",
     "exception": false,
     "start_time": "2023-05-29T03:54:44.511779",
     "status": "completed"
    },
    "tags": []
   },
   "outputs": [
    {
     "data": {
      "text/plain": [
       "59.849999999999994"
      ]
     },
     "execution_count": 3,
     "metadata": {},
     "output_type": "execute_result"
    }
   ],
   "source": [
    "data.shape\n",
    "63*0.95"
   ]
  },
  {
   "cell_type": "code",
   "execution_count": 4,
   "id": "8fc35a86",
   "metadata": {
    "execution": {
     "iopub.execute_input": "2023-05-29T03:54:44.534593Z",
     "iopub.status.busy": "2023-05-29T03:54:44.533699Z",
     "iopub.status.idle": "2023-05-29T03:54:44.553155Z",
     "shell.execute_reply": "2023-05-29T03:54:44.552319Z"
    },
    "id": "wd6uhPfopff4",
    "outputId": "002aa501-69da-4fac-e6a6-ce565357cc69",
    "papermill": {
     "duration": 0.0269,
     "end_time": "2023-05-29T03:54:44.555188",
     "exception": false,
     "start_time": "2023-05-29T03:54:44.528288",
     "status": "completed"
    },
    "tags": []
   },
   "outputs": [
    {
     "name": "stderr",
     "output_type": "stream",
     "text": [
      "/tmp/ipykernel_20/2627137660.py:1: FutureWarning: The default value of numeric_only in DataFrame.corr is deprecated. In a future version, it will default to False. Select only valid columns or specify the value of numeric_only to silence this warning.\n",
      "  data.corr()\n"
     ]
    },
    {
     "data": {
      "text/html": [
       "<div>\n",
       "<style scoped>\n",
       "    .dataframe tbody tr th:only-of-type {\n",
       "        vertical-align: middle;\n",
       "    }\n",
       "\n",
       "    .dataframe tbody tr th {\n",
       "        vertical-align: top;\n",
       "    }\n",
       "\n",
       "    .dataframe thead th {\n",
       "        text-align: right;\n",
       "    }\n",
       "</style>\n",
       "<table border=\"1\" class=\"dataframe\">\n",
       "  <thead>\n",
       "    <tr style=\"text-align: right;\">\n",
       "      <th></th>\n",
       "      <th>BOX_PRICE</th>\n",
       "      <th>NUM_BOX_BUY</th>\n",
       "      <th>SALED</th>\n",
       "      <th>UN_SALED</th>\n",
       "      <th>HIGH_TEMP</th>\n",
       "      <th>LOW_TEMP</th>\n",
       "      <th>HIMUDITY</th>\n",
       "      <th>WIND</th>\n",
       "    </tr>\n",
       "  </thead>\n",
       "  <tbody>\n",
       "    <tr>\n",
       "      <th>BOX_PRICE</th>\n",
       "      <td>1.000000</td>\n",
       "      <td>-0.580322</td>\n",
       "      <td>-0.540879</td>\n",
       "      <td>-0.068813</td>\n",
       "      <td>0.086105</td>\n",
       "      <td>0.563410</td>\n",
       "      <td>0.434228</td>\n",
       "      <td>-0.100967</td>\n",
       "    </tr>\n",
       "    <tr>\n",
       "      <th>NUM_BOX_BUY</th>\n",
       "      <td>-0.580322</td>\n",
       "      <td>1.000000</td>\n",
       "      <td>0.973051</td>\n",
       "      <td>-0.058991</td>\n",
       "      <td>-0.112047</td>\n",
       "      <td>-0.302335</td>\n",
       "      <td>-0.219684</td>\n",
       "      <td>0.158492</td>\n",
       "    </tr>\n",
       "    <tr>\n",
       "      <th>SALED</th>\n",
       "      <td>-0.540879</td>\n",
       "      <td>0.973051</td>\n",
       "      <td>1.000000</td>\n",
       "      <td>-0.287592</td>\n",
       "      <td>-0.100613</td>\n",
       "      <td>-0.310046</td>\n",
       "      <td>-0.233587</td>\n",
       "      <td>0.184100</td>\n",
       "    </tr>\n",
       "    <tr>\n",
       "      <th>UN_SALED</th>\n",
       "      <td>-0.068813</td>\n",
       "      <td>-0.058991</td>\n",
       "      <td>-0.287592</td>\n",
       "      <td>1.000000</td>\n",
       "      <td>-0.029815</td>\n",
       "      <td>0.086486</td>\n",
       "      <td>0.098777</td>\n",
       "      <td>-0.138704</td>\n",
       "    </tr>\n",
       "    <tr>\n",
       "      <th>HIGH_TEMP</th>\n",
       "      <td>0.086105</td>\n",
       "      <td>-0.112047</td>\n",
       "      <td>-0.100613</td>\n",
       "      <td>-0.029815</td>\n",
       "      <td>1.000000</td>\n",
       "      <td>0.607864</td>\n",
       "      <td>-0.517553</td>\n",
       "      <td>-0.016498</td>\n",
       "    </tr>\n",
       "    <tr>\n",
       "      <th>LOW_TEMP</th>\n",
       "      <td>0.563410</td>\n",
       "      <td>-0.302335</td>\n",
       "      <td>-0.310046</td>\n",
       "      <td>0.086486</td>\n",
       "      <td>0.607864</td>\n",
       "      <td>1.000000</td>\n",
       "      <td>-0.020784</td>\n",
       "      <td>-0.022478</td>\n",
       "    </tr>\n",
       "    <tr>\n",
       "      <th>HIMUDITY</th>\n",
       "      <td>0.434228</td>\n",
       "      <td>-0.219684</td>\n",
       "      <td>-0.233587</td>\n",
       "      <td>0.098777</td>\n",
       "      <td>-0.517553</td>\n",
       "      <td>-0.020784</td>\n",
       "      <td>1.000000</td>\n",
       "      <td>-0.208498</td>\n",
       "    </tr>\n",
       "    <tr>\n",
       "      <th>WIND</th>\n",
       "      <td>-0.100967</td>\n",
       "      <td>0.158492</td>\n",
       "      <td>0.184100</td>\n",
       "      <td>-0.138704</td>\n",
       "      <td>-0.016498</td>\n",
       "      <td>-0.022478</td>\n",
       "      <td>-0.208498</td>\n",
       "      <td>1.000000</td>\n",
       "    </tr>\n",
       "  </tbody>\n",
       "</table>\n",
       "</div>"
      ],
      "text/plain": [
       "             BOX_PRICE  NUM_BOX_BUY     SALED  UN_SALED  HIGH_TEMP  LOW_TEMP  \\\n",
       "BOX_PRICE     1.000000    -0.580322 -0.540879 -0.068813   0.086105  0.563410   \n",
       "NUM_BOX_BUY  -0.580322     1.000000  0.973051 -0.058991  -0.112047 -0.302335   \n",
       "SALED        -0.540879     0.973051  1.000000 -0.287592  -0.100613 -0.310046   \n",
       "UN_SALED     -0.068813    -0.058991 -0.287592  1.000000  -0.029815  0.086486   \n",
       "HIGH_TEMP     0.086105    -0.112047 -0.100613 -0.029815   1.000000  0.607864   \n",
       "LOW_TEMP      0.563410    -0.302335 -0.310046  0.086486   0.607864  1.000000   \n",
       "HIMUDITY      0.434228    -0.219684 -0.233587  0.098777  -0.517553 -0.020784   \n",
       "WIND         -0.100967     0.158492  0.184100 -0.138704  -0.016498 -0.022478   \n",
       "\n",
       "             HIMUDITY      WIND  \n",
       "BOX_PRICE    0.434228 -0.100967  \n",
       "NUM_BOX_BUY -0.219684  0.158492  \n",
       "SALED       -0.233587  0.184100  \n",
       "UN_SALED     0.098777 -0.138704  \n",
       "HIGH_TEMP   -0.517553 -0.016498  \n",
       "LOW_TEMP    -0.020784 -0.022478  \n",
       "HIMUDITY     1.000000 -0.208498  \n",
       "WIND        -0.208498  1.000000  "
      ]
     },
     "execution_count": 4,
     "metadata": {},
     "output_type": "execute_result"
    }
   ],
   "source": [
    "data.corr()"
   ]
  },
  {
   "cell_type": "code",
   "execution_count": 5,
   "id": "d9b083e7",
   "metadata": {
    "execution": {
     "iopub.execute_input": "2023-05-29T03:54:44.565209Z",
     "iopub.status.busy": "2023-05-29T03:54:44.564870Z",
     "iopub.status.idle": "2023-05-29T03:54:44.569669Z",
     "shell.execute_reply": "2023-05-29T03:54:44.568393Z"
    },
    "id": "nHda0VO3taRO",
    "papermill": {
     "duration": 0.011934,
     "end_time": "2023-05-29T03:54:44.571422",
     "exception": false,
     "start_time": "2023-05-29T03:54:44.559488",
     "status": "completed"
    },
    "tags": []
   },
   "outputs": [],
   "source": [
    "data=data.head(59)"
   ]
  },
  {
   "cell_type": "code",
   "execution_count": 6,
   "id": "6acae85b",
   "metadata": {
    "execution": {
     "iopub.execute_input": "2023-05-29T03:54:44.583220Z",
     "iopub.status.busy": "2023-05-29T03:54:44.582119Z",
     "iopub.status.idle": "2023-05-29T03:54:44.594106Z",
     "shell.execute_reply": "2023-05-29T03:54:44.593426Z"
    },
    "id": "5yMP5oKim0rr",
    "outputId": "28b41c50-1c33-40f5-a3d0-092b87357b59",
    "papermill": {
     "duration": 0.018969,
     "end_time": "2023-05-29T03:54:44.595875",
     "exception": false,
     "start_time": "2023-05-29T03:54:44.576906",
     "status": "completed"
    },
    "tags": []
   },
   "outputs": [
    {
     "data": {
      "text/plain": [
       "(59, 7)"
      ]
     },
     "execution_count": 6,
     "metadata": {},
     "output_type": "execute_result"
    }
   ],
   "source": [
    "y=data['BOX_PRICE'].values\n",
    "x=data[[\"NUM_BOX_BUY\",\"SALED\",\"UN_SALED\",\"HIGH_TEMP\",\"LOW_TEMP\",\"HIMUDITY\",\"WIND\"]].values\n",
    "x.shape"
   ]
  },
  {
   "cell_type": "code",
   "execution_count": 7,
   "id": "aa7df619",
   "metadata": {
    "execution": {
     "iopub.execute_input": "2023-05-29T03:54:44.607545Z",
     "iopub.status.busy": "2023-05-29T03:54:44.606534Z",
     "iopub.status.idle": "2023-05-29T03:54:44.611829Z",
     "shell.execute_reply": "2023-05-29T03:54:44.610418Z"
    },
    "id": "lO6dI_Cfm0t8",
    "papermill": {
     "duration": 0.013452,
     "end_time": "2023-05-29T03:54:44.614128",
     "exception": false,
     "start_time": "2023-05-29T03:54:44.600676",
     "status": "completed"
    },
    "tags": []
   },
   "outputs": [],
   "source": [
    "# x=x.reshape(59,1)\n",
    "# y=y.reshape(59,1)\n",
    "\n",
    "\n"
   ]
  },
  {
   "cell_type": "code",
   "execution_count": 8,
   "id": "5ff95afe",
   "metadata": {
    "execution": {
     "iopub.execute_input": "2023-05-29T03:54:44.624900Z",
     "iopub.status.busy": "2023-05-29T03:54:44.624518Z",
     "iopub.status.idle": "2023-05-29T03:54:44.650203Z",
     "shell.execute_reply": "2023-05-29T03:54:44.649250Z"
    },
    "id": "-oL6iDBYm0y2",
    "outputId": "2e7a4334-3ef5-4be3-8f73-b4637e225810",
    "papermill": {
     "duration": 0.033017,
     "end_time": "2023-05-29T03:54:44.651905",
     "exception": false,
     "start_time": "2023-05-29T03:54:44.618888",
     "status": "completed"
    },
    "tags": []
   },
   "outputs": [
    {
     "data": {
      "text/plain": [
       "68.59757828091533"
      ]
     },
     "execution_count": 8,
     "metadata": {},
     "output_type": "execute_result"
    }
   ],
   "source": [
    "reg=LinearRegression()\n",
    "reg=reg.fit(x,y)\n",
    "\n",
    "y_predict=reg.predict(x)\n",
    "r2_score=reg.score(x,y)\n",
    "r2_score*100"
   ]
  },
  {
   "cell_type": "markdown",
   "id": "aaeff356",
   "metadata": {
    "id": "1EbujEdr5Ei2",
    "papermill": {
     "duration": 0.004101,
     "end_time": "2023-05-29T03:54:44.660533",
     "exception": false,
     "start_time": "2023-05-29T03:54:44.656432",
     "status": "completed"
    },
    "tags": []
   },
   "source": [
    "##LOGISTIC REGRESSION"
   ]
  },
  {
   "cell_type": "code",
   "execution_count": 9,
   "id": "1a6c3602",
   "metadata": {
    "execution": {
     "iopub.execute_input": "2023-05-29T03:54:44.671085Z",
     "iopub.status.busy": "2023-05-29T03:54:44.670452Z",
     "iopub.status.idle": "2023-05-29T03:54:44.707446Z",
     "shell.execute_reply": "2023-05-29T03:54:44.705699Z"
    },
    "id": "fXttWiXr5HTk",
    "outputId": "51000678-9661-4741-a50d-f04e31934861",
    "papermill": {
     "duration": 0.045092,
     "end_time": "2023-05-29T03:54:44.709994",
     "exception": false,
     "start_time": "2023-05-29T03:54:44.664902",
     "status": "completed"
    },
    "tags": []
   },
   "outputs": [
    {
     "name": "stderr",
     "output_type": "stream",
     "text": [
      "/opt/conda/lib/python3.10/site-packages/sklearn/linear_model/_logistic.py:458: ConvergenceWarning: lbfgs failed to converge (status=1):\n",
      "STOP: TOTAL NO. of ITERATIONS REACHED LIMIT.\n",
      "\n",
      "Increase the number of iterations (max_iter) or scale the data as shown in:\n",
      "    https://scikit-learn.org/stable/modules/preprocessing.html\n",
      "Please also refer to the documentation for alternative solver options:\n",
      "    https://scikit-learn.org/stable/modules/linear_model.html#logistic-regression\n",
      "  n_iter_i = _check_optimize_result(\n"
     ]
    }
   ],
   "source": [
    "\n",
    "\n",
    "#Reshaped for Logistic function.\n",
    "# X = numpy.array([3.78, 2.44, 2.09, 0.14, 1.72, 1.65, 4.92, 4.37, 4.96, 4.52, 3.69, 5.88]).reshape(-1,1)\n",
    "# y = numpy.array([0, 0, 0, 0, 0, 0, 1, 1, 1, 1, 1, 1])\n",
    "\n",
    "\n",
    "y=data['BOX_PRICE'].values\n",
    "x=data[[\"NUM_BOX_BUY\",\"SALED\",\"UN_SALED\",\"HIGH_TEMP\",\"LOW_TEMP\",\"HIMUDITY\",\"WIND\"]].values\n",
    "\n",
    "logr = linear_model.LogisticRegression()\n",
    "logr.fit(x,y)\n",
    "\n",
    "log_odds = logr.coef_\n",
    "odds = numpy.exp(log_odds)\n",
    "\n",
    "# print(odds)\n",
    "\n",
    "r2_score=logr.score(x,y)\n",
    "\n"
   ]
  },
  {
   "cell_type": "code",
   "execution_count": 10,
   "id": "5e0a257e",
   "metadata": {
    "execution": {
     "iopub.execute_input": "2023-05-29T03:54:44.721134Z",
     "iopub.status.busy": "2023-05-29T03:54:44.720424Z",
     "iopub.status.idle": "2023-05-29T03:54:44.725480Z",
     "shell.execute_reply": "2023-05-29T03:54:44.724504Z"
    },
    "id": "xIT6NsBy6ma4",
    "outputId": "1850182d-93cd-4615-a56e-8319f0351707",
    "papermill": {
     "duration": 0.013049,
     "end_time": "2023-05-29T03:54:44.727854",
     "exception": false,
     "start_time": "2023-05-29T03:54:44.714805",
     "status": "completed"
    },
    "tags": []
   },
   "outputs": [
    {
     "name": "stdout",
     "output_type": "stream",
     "text": [
      "52.54237288135594\n"
     ]
    }
   ],
   "source": [
    "\n",
    "print(r2_score*100)"
   ]
  },
  {
   "cell_type": "markdown",
   "id": "d7db82cd",
   "metadata": {
    "id": "5pgbi65G_fl8",
    "papermill": {
     "duration": 0.004454,
     "end_time": "2023-05-29T03:54:44.737388",
     "exception": false,
     "start_time": "2023-05-29T03:54:44.732934",
     "status": "completed"
    },
    "tags": []
   },
   "source": [
    "##DECISION TREE"
   ]
  },
  {
   "cell_type": "code",
   "execution_count": 11,
   "id": "034d2223",
   "metadata": {
    "execution": {
     "iopub.execute_input": "2023-05-29T03:54:44.748877Z",
     "iopub.status.busy": "2023-05-29T03:54:44.748499Z",
     "iopub.status.idle": "2023-05-29T03:54:44.920901Z",
     "shell.execute_reply": "2023-05-29T03:54:44.919182Z"
    },
    "id": "sgcrT0ZU_ivw",
    "outputId": "196934ad-4da9-4fe9-e60c-6bf6069ee58e",
    "papermill": {
     "duration": 0.180847,
     "end_time": "2023-05-29T03:54:44.922887",
     "exception": false,
     "start_time": "2023-05-29T03:54:44.742040",
     "status": "completed"
    },
    "tags": []
   },
   "outputs": [
    {
     "data": {
      "text/html": [
       "<style>#sk-container-id-1 {color: black;background-color: white;}#sk-container-id-1 pre{padding: 0;}#sk-container-id-1 div.sk-toggleable {background-color: white;}#sk-container-id-1 label.sk-toggleable__label {cursor: pointer;display: block;width: 100%;margin-bottom: 0;padding: 0.3em;box-sizing: border-box;text-align: center;}#sk-container-id-1 label.sk-toggleable__label-arrow:before {content: \"▸\";float: left;margin-right: 0.25em;color: #696969;}#sk-container-id-1 label.sk-toggleable__label-arrow:hover:before {color: black;}#sk-container-id-1 div.sk-estimator:hover label.sk-toggleable__label-arrow:before {color: black;}#sk-container-id-1 div.sk-toggleable__content {max-height: 0;max-width: 0;overflow: hidden;text-align: left;background-color: #f0f8ff;}#sk-container-id-1 div.sk-toggleable__content pre {margin: 0.2em;color: black;border-radius: 0.25em;background-color: #f0f8ff;}#sk-container-id-1 input.sk-toggleable__control:checked~div.sk-toggleable__content {max-height: 200px;max-width: 100%;overflow: auto;}#sk-container-id-1 input.sk-toggleable__control:checked~label.sk-toggleable__label-arrow:before {content: \"▾\";}#sk-container-id-1 div.sk-estimator input.sk-toggleable__control:checked~label.sk-toggleable__label {background-color: #d4ebff;}#sk-container-id-1 div.sk-label input.sk-toggleable__control:checked~label.sk-toggleable__label {background-color: #d4ebff;}#sk-container-id-1 input.sk-hidden--visually {border: 0;clip: rect(1px 1px 1px 1px);clip: rect(1px, 1px, 1px, 1px);height: 1px;margin: -1px;overflow: hidden;padding: 0;position: absolute;width: 1px;}#sk-container-id-1 div.sk-estimator {font-family: monospace;background-color: #f0f8ff;border: 1px dotted black;border-radius: 0.25em;box-sizing: border-box;margin-bottom: 0.5em;}#sk-container-id-1 div.sk-estimator:hover {background-color: #d4ebff;}#sk-container-id-1 div.sk-parallel-item::after {content: \"\";width: 100%;border-bottom: 1px solid gray;flex-grow: 1;}#sk-container-id-1 div.sk-label:hover label.sk-toggleable__label {background-color: #d4ebff;}#sk-container-id-1 div.sk-serial::before {content: \"\";position: absolute;border-left: 1px solid gray;box-sizing: border-box;top: 0;bottom: 0;left: 50%;z-index: 0;}#sk-container-id-1 div.sk-serial {display: flex;flex-direction: column;align-items: center;background-color: white;padding-right: 0.2em;padding-left: 0.2em;position: relative;}#sk-container-id-1 div.sk-item {position: relative;z-index: 1;}#sk-container-id-1 div.sk-parallel {display: flex;align-items: stretch;justify-content: center;background-color: white;position: relative;}#sk-container-id-1 div.sk-item::before, #sk-container-id-1 div.sk-parallel-item::before {content: \"\";position: absolute;border-left: 1px solid gray;box-sizing: border-box;top: 0;bottom: 0;left: 50%;z-index: -1;}#sk-container-id-1 div.sk-parallel-item {display: flex;flex-direction: column;z-index: 1;position: relative;background-color: white;}#sk-container-id-1 div.sk-parallel-item:first-child::after {align-self: flex-end;width: 50%;}#sk-container-id-1 div.sk-parallel-item:last-child::after {align-self: flex-start;width: 50%;}#sk-container-id-1 div.sk-parallel-item:only-child::after {width: 0;}#sk-container-id-1 div.sk-dashed-wrapped {border: 1px dashed gray;margin: 0 0.4em 0.5em 0.4em;box-sizing: border-box;padding-bottom: 0.4em;background-color: white;}#sk-container-id-1 div.sk-label label {font-family: monospace;font-weight: bold;display: inline-block;line-height: 1.2em;}#sk-container-id-1 div.sk-label-container {text-align: center;}#sk-container-id-1 div.sk-container {/* jupyter's `normalize.less` sets `[hidden] { display: none; }` but bootstrap.min.css set `[hidden] { display: none !important; }` so we also need the `!important` here to be able to override the default hidden behavior on the sphinx rendered scikit-learn.org. See: https://github.com/scikit-learn/scikit-learn/issues/21755 */display: inline-block !important;position: relative;}#sk-container-id-1 div.sk-text-repr-fallback {display: none;}</style><div id=\"sk-container-id-1\" class=\"sk-top-container\"><div class=\"sk-text-repr-fallback\"><pre>DecisionTreeRegressor(random_state=0)</pre><b>In a Jupyter environment, please rerun this cell to show the HTML representation or trust the notebook. <br />On GitHub, the HTML representation is unable to render, please try loading this page with nbviewer.org.</b></div><div class=\"sk-container\" hidden><div class=\"sk-item\"><div class=\"sk-estimator sk-toggleable\"><input class=\"sk-toggleable__control sk-hidden--visually\" id=\"sk-estimator-id-1\" type=\"checkbox\" checked><label for=\"sk-estimator-id-1\" class=\"sk-toggleable__label sk-toggleable__label-arrow\">DecisionTreeRegressor</label><div class=\"sk-toggleable__content\"><pre>DecisionTreeRegressor(random_state=0)</pre></div></div></div></div></div>"
      ],
      "text/plain": [
       "DecisionTreeRegressor(random_state=0)"
      ]
     },
     "execution_count": 11,
     "metadata": {},
     "output_type": "execute_result"
    }
   ],
   "source": [
    "\n",
    "# import the regressor\n",
    "from sklearn.tree import DecisionTreeRegressor \n",
    "  \n",
    "# create a regressor object\n",
    "regressor = DecisionTreeRegressor(random_state = 0) \n",
    "  \n",
    "y=data['BOX_PRICE'].values\n",
    "x=data[[\"HIGH_TEMP\",\"LOW_TEMP\",\"HIMUDITY\"]].values\n",
    "\n",
    "# fit the regressor with X and Y data\n",
    "regressor.fit(x,y)"
   ]
  },
  {
   "cell_type": "code",
   "execution_count": 12,
   "id": "515663e6",
   "metadata": {
    "execution": {
     "iopub.execute_input": "2023-05-29T03:54:44.934547Z",
     "iopub.status.busy": "2023-05-29T03:54:44.934211Z",
     "iopub.status.idle": "2023-05-29T03:54:44.941759Z",
     "shell.execute_reply": "2023-05-29T03:54:44.940447Z"
    },
    "id": "VayrwxCy_pGy",
    "outputId": "878e6973-9ae4-4d04-b107-9de1112e1b6b",
    "papermill": {
     "duration": 0.015866,
     "end_time": "2023-05-29T03:54:44.943965",
     "exception": false,
     "start_time": "2023-05-29T03:54:44.928099",
     "status": "completed"
    },
    "tags": []
   },
   "outputs": [
    {
     "data": {
      "text/plain": [
       "98.06322511017179"
      ]
     },
     "execution_count": 12,
     "metadata": {},
     "output_type": "execute_result"
    }
   ],
   "source": [
    "r2_score=regressor.score(x,y)\n",
    "r2_score*100\n",
    "\n"
   ]
  },
  {
   "cell_type": "code",
   "execution_count": 13,
   "id": "c9dc3fff",
   "metadata": {
    "execution": {
     "iopub.execute_input": "2023-05-29T03:54:44.955795Z",
     "iopub.status.busy": "2023-05-29T03:54:44.955433Z",
     "iopub.status.idle": "2023-05-29T03:54:44.962822Z",
     "shell.execute_reply": "2023-05-29T03:54:44.961427Z"
    },
    "id": "NvXXAydEDJT7",
    "outputId": "b77a0d9f-9be7-4e18-b5dc-a33ae3e0a8d6",
    "papermill": {
     "duration": 0.016208,
     "end_time": "2023-05-29T03:54:44.965418",
     "exception": false,
     "start_time": "2023-05-29T03:54:44.949210",
     "status": "completed"
    },
    "tags": []
   },
   "outputs": [
    {
     "data": {
      "text/plain": [
       "array([230.])"
      ]
     },
     "execution_count": 13,
     "metadata": {},
     "output_type": "execute_result"
    }
   ],
   "source": [
    "price=regressor.predict([[31,26,79]])\n",
    "price"
   ]
  }
 ],
 "metadata": {
  "kernelspec": {
   "display_name": "Python 3",
   "language": "python",
   "name": "python3"
  },
  "language_info": {
   "codemirror_mode": {
    "name": "ipython",
    "version": 3
   },
   "file_extension": ".py",
   "mimetype": "text/x-python",
   "name": "python",
   "nbconvert_exporter": "python",
   "pygments_lexer": "ipython3",
   "version": "3.10.10"
  },
  "papermill": {
   "default_parameters": {},
   "duration": 14.041682,
   "end_time": "2023-05-29T03:54:45.893757",
   "environment_variables": {},
   "exception": null,
   "input_path": "__notebook__.ipynb",
   "output_path": "__notebook__.ipynb",
   "parameters": {},
   "start_time": "2023-05-29T03:54:31.852075",
   "version": "2.4.0"
  }
 },
 "nbformat": 4,
 "nbformat_minor": 5
}
