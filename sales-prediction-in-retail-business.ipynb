{
 "cells": [
  {
   "cell_type": "code",
   "execution_count": 1,
   "id": "9b6330ed",
   "metadata": {
    "execution": {
     "iopub.execute_input": "2023-07-17T15:36:57.240126Z",
     "iopub.status.busy": "2023-07-17T15:36:57.239493Z",
     "iopub.status.idle": "2023-07-17T15:36:59.006828Z",
     "shell.execute_reply": "2023-07-17T15:36:59.005696Z"
    },
    "id": "PKatBBtT4lNH",
    "papermill": {
     "duration": 1.77714,
     "end_time": "2023-07-17T15:36:59.009426",
     "exception": false,
     "start_time": "2023-07-17T15:36:57.232286",
     "status": "completed"
    },
    "tags": []
   },
   "outputs": [],
   "source": [
    "import pandas as pd\n",
    "import matplotlib.pyplot as plt\n",
    "from sklearn import linear_model\n",
    "import seaborn as sns\n",
    "import numpy as np\n",
    "from sklearn.model_selection import train_test_split"
   ]
  },
  {
   "cell_type": "markdown",
   "id": "695d779f",
   "metadata": {
    "id": "nboUTnwHAWKz",
    "papermill": {
     "duration": 0.004884,
     "end_time": "2023-07-17T15:36:59.019713",
     "exception": false,
     "start_time": "2023-07-17T15:36:59.014829",
     "status": "completed"
    },
    "tags": []
   },
   "source": [
    "LINEAR REGRESSION"
   ]
  },
  {
   "cell_type": "code",
   "execution_count": 2,
   "id": "6ee45ea9",
   "metadata": {
    "execution": {
     "iopub.execute_input": "2023-07-17T15:36:59.031399Z",
     "iopub.status.busy": "2023-07-17T15:36:59.031028Z",
     "iopub.status.idle": "2023-07-17T15:36:59.076997Z",
     "shell.execute_reply": "2023-07-17T15:36:59.075954Z"
    },
    "id": "eXfVaLEn4ymz",
    "outputId": "4204c555-1821-4254-8cc7-6b2aa3e414ec",
    "papermill": {
     "duration": 0.054874,
     "end_time": "2023-07-17T15:36:59.079626",
     "exception": false,
     "start_time": "2023-07-17T15:36:59.024752",
     "status": "completed"
    },
    "tags": []
   },
   "outputs": [
    {
     "data": {
      "text/html": [
       "<div>\n",
       "<style scoped>\n",
       "    .dataframe tbody tr th:only-of-type {\n",
       "        vertical-align: middle;\n",
       "    }\n",
       "\n",
       "    .dataframe tbody tr th {\n",
       "        vertical-align: top;\n",
       "    }\n",
       "\n",
       "    .dataframe thead th {\n",
       "        text-align: right;\n",
       "    }\n",
       "</style>\n",
       "<table border=\"1\" class=\"dataframe\">\n",
       "  <thead>\n",
       "    <tr style=\"text-align: right;\">\n",
       "      <th></th>\n",
       "      <th>DATE</th>\n",
       "      <th>BOX_PRICE</th>\n",
       "      <th>NUM_BOX_BUY</th>\n",
       "      <th>SALED</th>\n",
       "      <th>UN_SALED</th>\n",
       "      <th>HIGH_TEMP</th>\n",
       "      <th>LOW_TEMP</th>\n",
       "      <th>HIMUDITY</th>\n",
       "      <th>WIND</th>\n",
       "    </tr>\n",
       "  </thead>\n",
       "  <tbody>\n",
       "    <tr>\n",
       "      <th>0</th>\n",
       "      <td>10/4/2022</td>\n",
       "      <td>480</td>\n",
       "      <td>72</td>\n",
       "      <td>72</td>\n",
       "      <td>0</td>\n",
       "      <td>31</td>\n",
       "      <td>28</td>\n",
       "      <td>82</td>\n",
       "      <td>5</td>\n",
       "    </tr>\n",
       "    <tr>\n",
       "      <th>1</th>\n",
       "      <td>10/5/2022</td>\n",
       "      <td>480</td>\n",
       "      <td>60</td>\n",
       "      <td>55</td>\n",
       "      <td>5</td>\n",
       "      <td>31</td>\n",
       "      <td>28</td>\n",
       "      <td>86</td>\n",
       "      <td>4</td>\n",
       "    </tr>\n",
       "    <tr>\n",
       "      <th>2</th>\n",
       "      <td>10/6/2022</td>\n",
       "      <td>530</td>\n",
       "      <td>57</td>\n",
       "      <td>57</td>\n",
       "      <td>0</td>\n",
       "      <td>27</td>\n",
       "      <td>27</td>\n",
       "      <td>92</td>\n",
       "      <td>17</td>\n",
       "    </tr>\n",
       "    <tr>\n",
       "      <th>3</th>\n",
       "      <td>10/7/2022</td>\n",
       "      <td>550</td>\n",
       "      <td>78</td>\n",
       "      <td>75</td>\n",
       "      <td>3</td>\n",
       "      <td>27</td>\n",
       "      <td>27</td>\n",
       "      <td>93</td>\n",
       "      <td>0</td>\n",
       "    </tr>\n",
       "    <tr>\n",
       "      <th>4</th>\n",
       "      <td>10/8/2022</td>\n",
       "      <td>530</td>\n",
       "      <td>75</td>\n",
       "      <td>75</td>\n",
       "      <td>0</td>\n",
       "      <td>29</td>\n",
       "      <td>29</td>\n",
       "      <td>83</td>\n",
       "      <td>6</td>\n",
       "    </tr>\n",
       "    <tr>\n",
       "      <th>...</th>\n",
       "      <td>...</td>\n",
       "      <td>...</td>\n",
       "      <td>...</td>\n",
       "      <td>...</td>\n",
       "      <td>...</td>\n",
       "      <td>...</td>\n",
       "      <td>...</td>\n",
       "      <td>...</td>\n",
       "      <td>...</td>\n",
       "    </tr>\n",
       "    <tr>\n",
       "      <th>59</th>\n",
       "      <td>12/2/2022</td>\n",
       "      <td>190</td>\n",
       "      <td>90</td>\n",
       "      <td>90</td>\n",
       "      <td>0</td>\n",
       "      <td>32</td>\n",
       "      <td>27</td>\n",
       "      <td>76</td>\n",
       "      <td>8</td>\n",
       "    </tr>\n",
       "    <tr>\n",
       "      <th>60</th>\n",
       "      <td>12/3/2022</td>\n",
       "      <td>200</td>\n",
       "      <td>85</td>\n",
       "      <td>85</td>\n",
       "      <td>0</td>\n",
       "      <td>31</td>\n",
       "      <td>27</td>\n",
       "      <td>80</td>\n",
       "      <td>10</td>\n",
       "    </tr>\n",
       "    <tr>\n",
       "      <th>61</th>\n",
       "      <td>12/4/2022</td>\n",
       "      <td>240</td>\n",
       "      <td>77</td>\n",
       "      <td>77</td>\n",
       "      <td>0</td>\n",
       "      <td>31</td>\n",
       "      <td>26</td>\n",
       "      <td>80</td>\n",
       "      <td>6</td>\n",
       "    </tr>\n",
       "    <tr>\n",
       "      <th>62</th>\n",
       "      <td>12/5/2022</td>\n",
       "      <td>200</td>\n",
       "      <td>90</td>\n",
       "      <td>90</td>\n",
       "      <td>0</td>\n",
       "      <td>30</td>\n",
       "      <td>26</td>\n",
       "      <td>80</td>\n",
       "      <td>5</td>\n",
       "    </tr>\n",
       "    <tr>\n",
       "      <th>63</th>\n",
       "      <td>12/6/2022</td>\n",
       "      <td>200</td>\n",
       "      <td>86</td>\n",
       "      <td>86</td>\n",
       "      <td>0</td>\n",
       "      <td>28</td>\n",
       "      <td>24</td>\n",
       "      <td>81</td>\n",
       "      <td>6</td>\n",
       "    </tr>\n",
       "  </tbody>\n",
       "</table>\n",
       "<p>64 rows × 9 columns</p>\n",
       "</div>"
      ],
      "text/plain": [
       "         DATE  BOX_PRICE  NUM_BOX_BUY  SALED  UN_SALED  HIGH_TEMP  LOW_TEMP  \\\n",
       "0   10/4/2022        480           72     72         0         31        28   \n",
       "1   10/5/2022        480           60     55         5         31        28   \n",
       "2   10/6/2022        530           57     57         0         27        27   \n",
       "3   10/7/2022        550           78     75         3         27        27   \n",
       "4   10/8/2022        530           75     75         0         29        29   \n",
       "..        ...        ...          ...    ...       ...        ...       ...   \n",
       "59  12/2/2022        190           90     90         0         32        27   \n",
       "60  12/3/2022        200           85     85         0         31        27   \n",
       "61  12/4/2022        240           77     77         0         31        26   \n",
       "62  12/5/2022        200           90     90         0         30        26   \n",
       "63  12/6/2022        200           86     86         0         28        24   \n",
       "\n",
       "    HIMUDITY  WIND  \n",
       "0         82     5  \n",
       "1         86     4  \n",
       "2         92    17  \n",
       "3         93     0  \n",
       "4         83     6  \n",
       "..       ...   ...  \n",
       "59        76     8  \n",
       "60        80    10  \n",
       "61        80     6  \n",
       "62        80     5  \n",
       "63        81     6  \n",
       "\n",
       "[64 rows x 9 columns]"
      ]
     },
     "execution_count": 2,
     "metadata": {},
     "output_type": "execute_result"
    }
   ],
   "source": [
    "data=pd.read_csv(\"/kaggle/input/protom-dec2022-csv-data-updated/PROTOM_DEC2022_CSV_DATA_UPDATED.csv\")\n",
    "data"
   ]
  },
  {
   "cell_type": "code",
   "execution_count": 3,
   "id": "de9395a6",
   "metadata": {
    "execution": {
     "iopub.execute_input": "2023-07-17T15:36:59.093051Z",
     "iopub.status.busy": "2023-07-17T15:36:59.092667Z",
     "iopub.status.idle": "2023-07-17T15:36:59.099766Z",
     "shell.execute_reply": "2023-07-17T15:36:59.098657Z"
    },
    "id": "CLBnFwGg4yqP",
    "outputId": "8410d85b-0177-428d-fe7a-65a4edbad8a1",
    "papermill": {
     "duration": 0.016705,
     "end_time": "2023-07-17T15:36:59.101931",
     "exception": false,
     "start_time": "2023-07-17T15:36:59.085226",
     "status": "completed"
    },
    "tags": []
   },
   "outputs": [
    {
     "data": {
      "text/plain": [
       "Index(['DATE', 'BOX_PRICE', 'NUM_BOX_BUY', 'SALED', 'UN_SALED', 'HIGH_TEMP',\n",
       "       'LOW_TEMP', 'HIMUDITY', 'WIND'],\n",
       "      dtype='object')"
      ]
     },
     "execution_count": 3,
     "metadata": {},
     "output_type": "execute_result"
    }
   ],
   "source": [
    "data.columns\n",
    "\n"
   ]
  },
  {
   "cell_type": "code",
   "execution_count": 4,
   "id": "e3f554be",
   "metadata": {
    "execution": {
     "iopub.execute_input": "2023-07-17T15:36:59.116369Z",
     "iopub.status.busy": "2023-07-17T15:36:59.116002Z",
     "iopub.status.idle": "2023-07-17T15:36:59.130955Z",
     "shell.execute_reply": "2023-07-17T15:36:59.129881Z"
    },
    "id": "1giUICI14ys_",
    "outputId": "4570770a-0863-4edd-8d44-87a8f73395ad",
    "papermill": {
     "duration": 0.025352,
     "end_time": "2023-07-17T15:36:59.133039",
     "exception": false,
     "start_time": "2023-07-17T15:36:59.107687",
     "status": "completed"
    },
    "tags": []
   },
   "outputs": [
    {
     "data": {
      "text/html": [
       "<div>\n",
       "<style scoped>\n",
       "    .dataframe tbody tr th:only-of-type {\n",
       "        vertical-align: middle;\n",
       "    }\n",
       "\n",
       "    .dataframe tbody tr th {\n",
       "        vertical-align: top;\n",
       "    }\n",
       "\n",
       "    .dataframe thead th {\n",
       "        text-align: right;\n",
       "    }\n",
       "</style>\n",
       "<table border=\"1\" class=\"dataframe\">\n",
       "  <thead>\n",
       "    <tr style=\"text-align: right;\">\n",
       "      <th></th>\n",
       "      <th>DATE</th>\n",
       "      <th>BOX_PRICE</th>\n",
       "      <th>NUM_BOX_BUY</th>\n",
       "      <th>SALED</th>\n",
       "      <th>UN_SALED</th>\n",
       "      <th>HIGH_TEMP</th>\n",
       "      <th>LOW_TEMP</th>\n",
       "      <th>HIMUDITY</th>\n",
       "      <th>WIND</th>\n",
       "    </tr>\n",
       "  </thead>\n",
       "  <tbody>\n",
       "    <tr>\n",
       "      <th>0</th>\n",
       "      <td>10/4/2022</td>\n",
       "      <td>480</td>\n",
       "      <td>72</td>\n",
       "      <td>72</td>\n",
       "      <td>0</td>\n",
       "      <td>31</td>\n",
       "      <td>28</td>\n",
       "      <td>82</td>\n",
       "      <td>5</td>\n",
       "    </tr>\n",
       "    <tr>\n",
       "      <th>1</th>\n",
       "      <td>10/5/2022</td>\n",
       "      <td>480</td>\n",
       "      <td>60</td>\n",
       "      <td>55</td>\n",
       "      <td>5</td>\n",
       "      <td>31</td>\n",
       "      <td>28</td>\n",
       "      <td>86</td>\n",
       "      <td>4</td>\n",
       "    </tr>\n",
       "    <tr>\n",
       "      <th>2</th>\n",
       "      <td>10/6/2022</td>\n",
       "      <td>530</td>\n",
       "      <td>57</td>\n",
       "      <td>57</td>\n",
       "      <td>0</td>\n",
       "      <td>27</td>\n",
       "      <td>27</td>\n",
       "      <td>92</td>\n",
       "      <td>17</td>\n",
       "    </tr>\n",
       "    <tr>\n",
       "      <th>3</th>\n",
       "      <td>10/7/2022</td>\n",
       "      <td>550</td>\n",
       "      <td>78</td>\n",
       "      <td>75</td>\n",
       "      <td>3</td>\n",
       "      <td>27</td>\n",
       "      <td>27</td>\n",
       "      <td>93</td>\n",
       "      <td>0</td>\n",
       "    </tr>\n",
       "    <tr>\n",
       "      <th>4</th>\n",
       "      <td>10/8/2022</td>\n",
       "      <td>530</td>\n",
       "      <td>75</td>\n",
       "      <td>75</td>\n",
       "      <td>0</td>\n",
       "      <td>29</td>\n",
       "      <td>29</td>\n",
       "      <td>83</td>\n",
       "      <td>6</td>\n",
       "    </tr>\n",
       "    <tr>\n",
       "      <th>...</th>\n",
       "      <td>...</td>\n",
       "      <td>...</td>\n",
       "      <td>...</td>\n",
       "      <td>...</td>\n",
       "      <td>...</td>\n",
       "      <td>...</td>\n",
       "      <td>...</td>\n",
       "      <td>...</td>\n",
       "      <td>...</td>\n",
       "    </tr>\n",
       "    <tr>\n",
       "      <th>59</th>\n",
       "      <td>12/2/2022</td>\n",
       "      <td>190</td>\n",
       "      <td>90</td>\n",
       "      <td>90</td>\n",
       "      <td>0</td>\n",
       "      <td>32</td>\n",
       "      <td>27</td>\n",
       "      <td>76</td>\n",
       "      <td>8</td>\n",
       "    </tr>\n",
       "    <tr>\n",
       "      <th>60</th>\n",
       "      <td>12/3/2022</td>\n",
       "      <td>200</td>\n",
       "      <td>85</td>\n",
       "      <td>85</td>\n",
       "      <td>0</td>\n",
       "      <td>31</td>\n",
       "      <td>27</td>\n",
       "      <td>80</td>\n",
       "      <td>10</td>\n",
       "    </tr>\n",
       "    <tr>\n",
       "      <th>61</th>\n",
       "      <td>12/4/2022</td>\n",
       "      <td>240</td>\n",
       "      <td>77</td>\n",
       "      <td>77</td>\n",
       "      <td>0</td>\n",
       "      <td>31</td>\n",
       "      <td>26</td>\n",
       "      <td>80</td>\n",
       "      <td>6</td>\n",
       "    </tr>\n",
       "    <tr>\n",
       "      <th>62</th>\n",
       "      <td>12/5/2022</td>\n",
       "      <td>200</td>\n",
       "      <td>90</td>\n",
       "      <td>90</td>\n",
       "      <td>0</td>\n",
       "      <td>30</td>\n",
       "      <td>26</td>\n",
       "      <td>80</td>\n",
       "      <td>5</td>\n",
       "    </tr>\n",
       "    <tr>\n",
       "      <th>63</th>\n",
       "      <td>12/6/2022</td>\n",
       "      <td>200</td>\n",
       "      <td>86</td>\n",
       "      <td>86</td>\n",
       "      <td>0</td>\n",
       "      <td>28</td>\n",
       "      <td>24</td>\n",
       "      <td>81</td>\n",
       "      <td>6</td>\n",
       "    </tr>\n",
       "  </tbody>\n",
       "</table>\n",
       "<p>64 rows × 9 columns</p>\n",
       "</div>"
      ],
      "text/plain": [
       "         DATE  BOX_PRICE  NUM_BOX_BUY  SALED  UN_SALED  HIGH_TEMP  LOW_TEMP  \\\n",
       "0   10/4/2022        480           72     72         0         31        28   \n",
       "1   10/5/2022        480           60     55         5         31        28   \n",
       "2   10/6/2022        530           57     57         0         27        27   \n",
       "3   10/7/2022        550           78     75         3         27        27   \n",
       "4   10/8/2022        530           75     75         0         29        29   \n",
       "..        ...        ...          ...    ...       ...        ...       ...   \n",
       "59  12/2/2022        190           90     90         0         32        27   \n",
       "60  12/3/2022        200           85     85         0         31        27   \n",
       "61  12/4/2022        240           77     77         0         31        26   \n",
       "62  12/5/2022        200           90     90         0         30        26   \n",
       "63  12/6/2022        200           86     86         0         28        24   \n",
       "\n",
       "    HIMUDITY  WIND  \n",
       "0         82     5  \n",
       "1         86     4  \n",
       "2         92    17  \n",
       "3         93     0  \n",
       "4         83     6  \n",
       "..       ...   ...  \n",
       "59        76     8  \n",
       "60        80    10  \n",
       "61        80     6  \n",
       "62        80     5  \n",
       "63        81     6  \n",
       "\n",
       "[64 rows x 9 columns]"
      ]
     },
     "execution_count": 4,
     "metadata": {},
     "output_type": "execute_result"
    }
   ],
   "source": [
    "# data=data[['BOX_PRICE','SALED']]\n",
    "data"
   ]
  },
  {
   "cell_type": "code",
   "execution_count": 5,
   "id": "72e605d1",
   "metadata": {
    "execution": {
     "iopub.execute_input": "2023-07-17T15:36:59.146206Z",
     "iopub.status.busy": "2023-07-17T15:36:59.145857Z",
     "iopub.status.idle": "2023-07-17T15:36:59.166099Z",
     "shell.execute_reply": "2023-07-17T15:36:59.165039Z"
    },
    "id": "S0jmfERi4y4o",
    "outputId": "a8939bf7-f7e3-46b3-c003-7b998474bcbb",
    "papermill": {
     "duration": 0.029001,
     "end_time": "2023-07-17T15:36:59.167878",
     "exception": false,
     "start_time": "2023-07-17T15:36:59.138877",
     "status": "completed"
    },
    "tags": []
   },
   "outputs": [
    {
     "name": "stderr",
     "output_type": "stream",
     "text": [
      "/tmp/ipykernel_20/2627137660.py:1: FutureWarning: The default value of numeric_only in DataFrame.corr is deprecated. In a future version, it will default to False. Select only valid columns or specify the value of numeric_only to silence this warning.\n",
      "  data.corr()\n"
     ]
    },
    {
     "data": {
      "text/html": [
       "<div>\n",
       "<style scoped>\n",
       "    .dataframe tbody tr th:only-of-type {\n",
       "        vertical-align: middle;\n",
       "    }\n",
       "\n",
       "    .dataframe tbody tr th {\n",
       "        vertical-align: top;\n",
       "    }\n",
       "\n",
       "    .dataframe thead th {\n",
       "        text-align: right;\n",
       "    }\n",
       "</style>\n",
       "<table border=\"1\" class=\"dataframe\">\n",
       "  <thead>\n",
       "    <tr style=\"text-align: right;\">\n",
       "      <th></th>\n",
       "      <th>BOX_PRICE</th>\n",
       "      <th>NUM_BOX_BUY</th>\n",
       "      <th>SALED</th>\n",
       "      <th>UN_SALED</th>\n",
       "      <th>HIGH_TEMP</th>\n",
       "      <th>LOW_TEMP</th>\n",
       "      <th>HIMUDITY</th>\n",
       "      <th>WIND</th>\n",
       "    </tr>\n",
       "  </thead>\n",
       "  <tbody>\n",
       "    <tr>\n",
       "      <th>BOX_PRICE</th>\n",
       "      <td>1.000000</td>\n",
       "      <td>-0.580322</td>\n",
       "      <td>-0.540879</td>\n",
       "      <td>-0.068813</td>\n",
       "      <td>0.086105</td>\n",
       "      <td>0.563410</td>\n",
       "      <td>0.434228</td>\n",
       "      <td>-0.100967</td>\n",
       "    </tr>\n",
       "    <tr>\n",
       "      <th>NUM_BOX_BUY</th>\n",
       "      <td>-0.580322</td>\n",
       "      <td>1.000000</td>\n",
       "      <td>0.973051</td>\n",
       "      <td>-0.058991</td>\n",
       "      <td>-0.112047</td>\n",
       "      <td>-0.302335</td>\n",
       "      <td>-0.219684</td>\n",
       "      <td>0.158492</td>\n",
       "    </tr>\n",
       "    <tr>\n",
       "      <th>SALED</th>\n",
       "      <td>-0.540879</td>\n",
       "      <td>0.973051</td>\n",
       "      <td>1.000000</td>\n",
       "      <td>-0.287592</td>\n",
       "      <td>-0.100613</td>\n",
       "      <td>-0.310046</td>\n",
       "      <td>-0.233587</td>\n",
       "      <td>0.184100</td>\n",
       "    </tr>\n",
       "    <tr>\n",
       "      <th>UN_SALED</th>\n",
       "      <td>-0.068813</td>\n",
       "      <td>-0.058991</td>\n",
       "      <td>-0.287592</td>\n",
       "      <td>1.000000</td>\n",
       "      <td>-0.029815</td>\n",
       "      <td>0.086486</td>\n",
       "      <td>0.098777</td>\n",
       "      <td>-0.138704</td>\n",
       "    </tr>\n",
       "    <tr>\n",
       "      <th>HIGH_TEMP</th>\n",
       "      <td>0.086105</td>\n",
       "      <td>-0.112047</td>\n",
       "      <td>-0.100613</td>\n",
       "      <td>-0.029815</td>\n",
       "      <td>1.000000</td>\n",
       "      <td>0.607864</td>\n",
       "      <td>-0.517553</td>\n",
       "      <td>-0.016498</td>\n",
       "    </tr>\n",
       "    <tr>\n",
       "      <th>LOW_TEMP</th>\n",
       "      <td>0.563410</td>\n",
       "      <td>-0.302335</td>\n",
       "      <td>-0.310046</td>\n",
       "      <td>0.086486</td>\n",
       "      <td>0.607864</td>\n",
       "      <td>1.000000</td>\n",
       "      <td>-0.020784</td>\n",
       "      <td>-0.022478</td>\n",
       "    </tr>\n",
       "    <tr>\n",
       "      <th>HIMUDITY</th>\n",
       "      <td>0.434228</td>\n",
       "      <td>-0.219684</td>\n",
       "      <td>-0.233587</td>\n",
       "      <td>0.098777</td>\n",
       "      <td>-0.517553</td>\n",
       "      <td>-0.020784</td>\n",
       "      <td>1.000000</td>\n",
       "      <td>-0.208498</td>\n",
       "    </tr>\n",
       "    <tr>\n",
       "      <th>WIND</th>\n",
       "      <td>-0.100967</td>\n",
       "      <td>0.158492</td>\n",
       "      <td>0.184100</td>\n",
       "      <td>-0.138704</td>\n",
       "      <td>-0.016498</td>\n",
       "      <td>-0.022478</td>\n",
       "      <td>-0.208498</td>\n",
       "      <td>1.000000</td>\n",
       "    </tr>\n",
       "  </tbody>\n",
       "</table>\n",
       "</div>"
      ],
      "text/plain": [
       "             BOX_PRICE  NUM_BOX_BUY     SALED  UN_SALED  HIGH_TEMP  LOW_TEMP  \\\n",
       "BOX_PRICE     1.000000    -0.580322 -0.540879 -0.068813   0.086105  0.563410   \n",
       "NUM_BOX_BUY  -0.580322     1.000000  0.973051 -0.058991  -0.112047 -0.302335   \n",
       "SALED        -0.540879     0.973051  1.000000 -0.287592  -0.100613 -0.310046   \n",
       "UN_SALED     -0.068813    -0.058991 -0.287592  1.000000  -0.029815  0.086486   \n",
       "HIGH_TEMP     0.086105    -0.112047 -0.100613 -0.029815   1.000000  0.607864   \n",
       "LOW_TEMP      0.563410    -0.302335 -0.310046  0.086486   0.607864  1.000000   \n",
       "HIMUDITY      0.434228    -0.219684 -0.233587  0.098777  -0.517553 -0.020784   \n",
       "WIND         -0.100967     0.158492  0.184100 -0.138704  -0.016498 -0.022478   \n",
       "\n",
       "             HIMUDITY      WIND  \n",
       "BOX_PRICE    0.434228 -0.100967  \n",
       "NUM_BOX_BUY -0.219684  0.158492  \n",
       "SALED       -0.233587  0.184100  \n",
       "UN_SALED     0.098777 -0.138704  \n",
       "HIGH_TEMP   -0.517553 -0.016498  \n",
       "LOW_TEMP    -0.020784 -0.022478  \n",
       "HIMUDITY     1.000000 -0.208498  \n",
       "WIND        -0.208498  1.000000  "
      ]
     },
     "execution_count": 5,
     "metadata": {},
     "output_type": "execute_result"
    }
   ],
   "source": [
    "data.corr()"
   ]
  },
  {
   "cell_type": "code",
   "execution_count": 6,
   "id": "d0db9245",
   "metadata": {
    "execution": {
     "iopub.execute_input": "2023-07-17T15:36:59.182571Z",
     "iopub.status.busy": "2023-07-17T15:36:59.181721Z",
     "iopub.status.idle": "2023-07-17T15:36:59.563210Z",
     "shell.execute_reply": "2023-07-17T15:36:59.562267Z"
    },
    "id": "zOUow3Z88Sjw",
    "outputId": "8f0ae5b0-66bd-4c48-e978-31d750adf61f",
    "papermill": {
     "duration": 0.391535,
     "end_time": "2023-07-17T15:36:59.565599",
     "exception": false,
     "start_time": "2023-07-17T15:36:59.174064",
     "status": "completed"
    },
    "tags": []
   },
   "outputs": [
    {
     "name": "stderr",
     "output_type": "stream",
     "text": [
      "/tmp/ipykernel_20/1794321463.py:1: FutureWarning: The default value of numeric_only in DataFrame.corr is deprecated. In a future version, it will default to False. Select only valid columns or specify the value of numeric_only to silence this warning.\n",
      "  sns.heatmap(data.corr())\n"
     ]
    },
    {
     "data": {
      "text/plain": [
       "<Axes: >"
      ]
     },
     "execution_count": 6,
     "metadata": {},
     "output_type": "execute_result"
    },
    {
     "data": {
      "image/png": "[encoded data removed]",
      "text/plain": [
       "<Figure size 640x480 with 2 Axes>"
      ]
     },
     "metadata": {},
     "output_type": "display_data"
    }
   ],
   "source": [
    "sns.heatmap(data.corr())"
   ]
  },
  {
   "cell_type": "code",
   "execution_count": 7,
   "id": "0b88e2fb",
   "metadata": {
    "execution": {
     "iopub.execute_input": "2023-07-17T15:36:59.581490Z",
     "iopub.status.busy": "2023-07-17T15:36:59.581101Z",
     "iopub.status.idle": "2023-07-17T15:36:59.598310Z",
     "shell.execute_reply": "2023-07-17T15:36:59.597371Z"
    },
    "id": "DgFIMqOI4y1V",
    "outputId": "2a414e48-9600-4841-de13-d3f1fb23fe11",
    "papermill": {
     "duration": 0.027697,
     "end_time": "2023-07-17T15:36:59.600383",
     "exception": false,
     "start_time": "2023-07-17T15:36:59.572686",
     "status": "completed"
    },
    "tags": []
   },
   "outputs": [
    {
     "name": "stderr",
     "output_type": "stream",
     "text": [
      "/tmp/ipykernel_20/2627137660.py:1: FutureWarning: The default value of numeric_only in DataFrame.corr is deprecated. In a future version, it will default to False. Select only valid columns or specify the value of numeric_only to silence this warning.\n",
      "  data.corr()\n"
     ]
    },
    {
     "data": {
      "text/html": [
       "<div>\n",
       "<style scoped>\n",
       "    .dataframe tbody tr th:only-of-type {\n",
       "        vertical-align: middle;\n",
       "    }\n",
       "\n",
       "    .dataframe tbody tr th {\n",
       "        vertical-align: top;\n",
       "    }\n",
       "\n",
       "    .dataframe thead th {\n",
       "        text-align: right;\n",
       "    }\n",
       "</style>\n",
       "<table border=\"1\" class=\"dataframe\">\n",
       "  <thead>\n",
       "    <tr style=\"text-align: right;\">\n",
       "      <th></th>\n",
       "      <th>BOX_PRICE</th>\n",
       "      <th>NUM_BOX_BUY</th>\n",
       "      <th>SALED</th>\n",
       "      <th>UN_SALED</th>\n",
       "      <th>HIGH_TEMP</th>\n",
       "      <th>LOW_TEMP</th>\n",
       "      <th>HIMUDITY</th>\n",
       "      <th>WIND</th>\n",
       "    </tr>\n",
       "  </thead>\n",
       "  <tbody>\n",
       "    <tr>\n",
       "      <th>BOX_PRICE</th>\n",
       "      <td>1.000000</td>\n",
       "      <td>-0.580322</td>\n",
       "      <td>-0.540879</td>\n",
       "      <td>-0.068813</td>\n",
       "      <td>0.086105</td>\n",
       "      <td>0.563410</td>\n",
       "      <td>0.434228</td>\n",
       "      <td>-0.100967</td>\n",
       "    </tr>\n",
       "    <tr>\n",
       "      <th>NUM_BOX_BUY</th>\n",
       "      <td>-0.580322</td>\n",
       "      <td>1.000000</td>\n",
       "      <td>0.973051</td>\n",
       "      <td>-0.058991</td>\n",
       "      <td>-0.112047</td>\n",
       "      <td>-0.302335</td>\n",
       "      <td>-0.219684</td>\n",
       "      <td>0.158492</td>\n",
       "    </tr>\n",
       "    <tr>\n",
       "      <th>SALED</th>\n",
       "      <td>-0.540879</td>\n",
       "      <td>0.973051</td>\n",
       "      <td>1.000000</td>\n",
       "      <td>-0.287592</td>\n",
       "      <td>-0.100613</td>\n",
       "      <td>-0.310046</td>\n",
       "      <td>-0.233587</td>\n",
       "      <td>0.184100</td>\n",
       "    </tr>\n",
       "    <tr>\n",
       "      <th>UN_SALED</th>\n",
       "      <td>-0.068813</td>\n",
       "      <td>-0.058991</td>\n",
       "      <td>-0.287592</td>\n",
       "      <td>1.000000</td>\n",
       "      <td>-0.029815</td>\n",
       "      <td>0.086486</td>\n",
       "      <td>0.098777</td>\n",
       "      <td>-0.138704</td>\n",
       "    </tr>\n",
       "    <tr>\n",
       "      <th>HIGH_TEMP</th>\n",
       "      <td>0.086105</td>\n",
       "      <td>-0.112047</td>\n",
       "      <td>-0.100613</td>\n",
       "      <td>-0.029815</td>\n",
       "      <td>1.000000</td>\n",
       "      <td>0.607864</td>\n",
       "      <td>-0.517553</td>\n",
       "      <td>-0.016498</td>\n",
       "    </tr>\n",
       "    <tr>\n",
       "      <th>LOW_TEMP</th>\n",
       "      <td>0.563410</td>\n",
       "      <td>-0.302335</td>\n",
       "      <td>-0.310046</td>\n",
       "      <td>0.086486</td>\n",
       "      <td>0.607864</td>\n",
       "      <td>1.000000</td>\n",
       "      <td>-0.020784</td>\n",
       "      <td>-0.022478</td>\n",
       "    </tr>\n",
       "    <tr>\n",
       "      <th>HIMUDITY</th>\n",
       "      <td>0.434228</td>\n",
       "      <td>-0.219684</td>\n",
       "      <td>-0.233587</td>\n",
       "      <td>0.098777</td>\n",
       "      <td>-0.517553</td>\n",
       "      <td>-0.020784</td>\n",
       "      <td>1.000000</td>\n",
       "      <td>-0.208498</td>\n",
       "    </tr>\n",
       "    <tr>\n",
       "      <th>WIND</th>\n",
       "      <td>-0.100967</td>\n",
       "      <td>0.158492</td>\n",
       "      <td>0.184100</td>\n",
       "      <td>-0.138704</td>\n",
       "      <td>-0.016498</td>\n",
       "      <td>-0.022478</td>\n",
       "      <td>-0.208498</td>\n",
       "      <td>1.000000</td>\n",
       "    </tr>\n",
       "  </tbody>\n",
       "</table>\n",
       "</div>"
      ],
      "text/plain": [
       "             BOX_PRICE  NUM_BOX_BUY     SALED  UN_SALED  HIGH_TEMP  LOW_TEMP  \\\n",
       "BOX_PRICE     1.000000    -0.580322 -0.540879 -0.068813   0.086105  0.563410   \n",
       "NUM_BOX_BUY  -0.580322     1.000000  0.973051 -0.058991  -0.112047 -0.302335   \n",
       "SALED        -0.540879     0.973051  1.000000 -0.287592  -0.100613 -0.310046   \n",
       "UN_SALED     -0.068813    -0.058991 -0.287592  1.000000  -0.029815  0.086486   \n",
       "HIGH_TEMP     0.086105    -0.112047 -0.100613 -0.029815   1.000000  0.607864   \n",
       "LOW_TEMP      0.563410    -0.302335 -0.310046  0.086486   0.607864  1.000000   \n",
       "HIMUDITY      0.434228    -0.219684 -0.233587  0.098777  -0.517553 -0.020784   \n",
       "WIND         -0.100967     0.158492  0.184100 -0.138704  -0.016498 -0.022478   \n",
       "\n",
       "             HIMUDITY      WIND  \n",
       "BOX_PRICE    0.434228 -0.100967  \n",
       "NUM_BOX_BUY -0.219684  0.158492  \n",
       "SALED       -0.233587  0.184100  \n",
       "UN_SALED     0.098777 -0.138704  \n",
       "HIGH_TEMP   -0.517553 -0.016498  \n",
       "LOW_TEMP    -0.020784 -0.022478  \n",
       "HIMUDITY     1.000000 -0.208498  \n",
       "WIND        -0.208498  1.000000  "
      ]
     },
     "execution_count": 7,
     "metadata": {},
     "output_type": "execute_result"
    }
   ],
   "source": [
    "data.corr()"
   ]
  },
  {
   "cell_type": "code",
   "execution_count": 8,
   "id": "e8e68abd",
   "metadata": {
    "execution": {
     "iopub.execute_input": "2023-07-17T15:36:59.616960Z",
     "iopub.status.busy": "2023-07-17T15:36:59.616563Z",
     "iopub.status.idle": "2023-07-17T15:36:59.623678Z",
     "shell.execute_reply": "2023-07-17T15:36:59.622739Z"
    },
    "id": "vejqALsi5l5F",
    "outputId": "1fb75ae8-605c-445a-9988-6e844d9e1ab2",
    "papermill": {
     "duration": 0.017613,
     "end_time": "2023-07-17T15:36:59.625752",
     "exception": false,
     "start_time": "2023-07-17T15:36:59.608139",
     "status": "completed"
    },
    "tags": []
   },
   "outputs": [
    {
     "data": {
      "text/plain": [
       "(64, 9)"
      ]
     },
     "execution_count": 8,
     "metadata": {},
     "output_type": "execute_result"
    }
   ],
   "source": [
    "data.shape"
   ]
  },
  {
   "cell_type": "code",
   "execution_count": 9,
   "id": "1606ebbb",
   "metadata": {
    "execution": {
     "iopub.execute_input": "2023-07-17T15:36:59.642687Z",
     "iopub.status.busy": "2023-07-17T15:36:59.641936Z",
     "iopub.status.idle": "2023-07-17T15:36:59.654261Z",
     "shell.execute_reply": "2023-07-17T15:36:59.653424Z"
    },
    "id": "SuJFCDWH_FLl",
    "outputId": "1fe78e2b-14e5-42b7-a83a-943627a8e836",
    "papermill": {
     "duration": 0.022691,
     "end_time": "2023-07-17T15:36:59.656234",
     "exception": false,
     "start_time": "2023-07-17T15:36:59.633543",
     "status": "completed"
    },
    "tags": []
   },
   "outputs": [
    {
     "data": {
      "text/html": [
       "<div>\n",
       "<style scoped>\n",
       "    .dataframe tbody tr th:only-of-type {\n",
       "        vertical-align: middle;\n",
       "    }\n",
       "\n",
       "    .dataframe tbody tr th {\n",
       "        vertical-align: top;\n",
       "    }\n",
       "\n",
       "    .dataframe thead th {\n",
       "        text-align: right;\n",
       "    }\n",
       "</style>\n",
       "<table border=\"1\" class=\"dataframe\">\n",
       "  <thead>\n",
       "    <tr style=\"text-align: right;\">\n",
       "      <th></th>\n",
       "      <th>DATE</th>\n",
       "      <th>BOX_PRICE</th>\n",
       "      <th>NUM_BOX_BUY</th>\n",
       "      <th>SALED</th>\n",
       "      <th>UN_SALED</th>\n",
       "      <th>HIGH_TEMP</th>\n",
       "      <th>LOW_TEMP</th>\n",
       "      <th>HIMUDITY</th>\n",
       "      <th>WIND</th>\n",
       "    </tr>\n",
       "  </thead>\n",
       "  <tbody>\n",
       "    <tr>\n",
       "      <th>0</th>\n",
       "      <td>10/4/2022</td>\n",
       "      <td>480</td>\n",
       "      <td>72</td>\n",
       "      <td>72</td>\n",
       "      <td>0</td>\n",
       "      <td>31</td>\n",
       "      <td>28</td>\n",
       "      <td>82</td>\n",
       "      <td>5</td>\n",
       "    </tr>\n",
       "    <tr>\n",
       "      <th>1</th>\n",
       "      <td>10/5/2022</td>\n",
       "      <td>480</td>\n",
       "      <td>60</td>\n",
       "      <td>55</td>\n",
       "      <td>5</td>\n",
       "      <td>31</td>\n",
       "      <td>28</td>\n",
       "      <td>86</td>\n",
       "      <td>4</td>\n",
       "    </tr>\n",
       "    <tr>\n",
       "      <th>2</th>\n",
       "      <td>10/6/2022</td>\n",
       "      <td>530</td>\n",
       "      <td>57</td>\n",
       "      <td>57</td>\n",
       "      <td>0</td>\n",
       "      <td>27</td>\n",
       "      <td>27</td>\n",
       "      <td>92</td>\n",
       "      <td>17</td>\n",
       "    </tr>\n",
       "    <tr>\n",
       "      <th>3</th>\n",
       "      <td>10/7/2022</td>\n",
       "      <td>550</td>\n",
       "      <td>78</td>\n",
       "      <td>75</td>\n",
       "      <td>3</td>\n",
       "      <td>27</td>\n",
       "      <td>27</td>\n",
       "      <td>93</td>\n",
       "      <td>0</td>\n",
       "    </tr>\n",
       "    <tr>\n",
       "      <th>4</th>\n",
       "      <td>10/8/2022</td>\n",
       "      <td>530</td>\n",
       "      <td>75</td>\n",
       "      <td>75</td>\n",
       "      <td>0</td>\n",
       "      <td>29</td>\n",
       "      <td>29</td>\n",
       "      <td>83</td>\n",
       "      <td>6</td>\n",
       "    </tr>\n",
       "    <tr>\n",
       "      <th>5</th>\n",
       "      <td>10/9/2022</td>\n",
       "      <td>450</td>\n",
       "      <td>77</td>\n",
       "      <td>75</td>\n",
       "      <td>2</td>\n",
       "      <td>27</td>\n",
       "      <td>27</td>\n",
       "      <td>90</td>\n",
       "      <td>9</td>\n",
       "    </tr>\n",
       "    <tr>\n",
       "      <th>6</th>\n",
       "      <td>10/10/2022</td>\n",
       "      <td>460</td>\n",
       "      <td>74</td>\n",
       "      <td>74</td>\n",
       "      <td>0</td>\n",
       "      <td>26</td>\n",
       "      <td>26</td>\n",
       "      <td>96</td>\n",
       "      <td>0</td>\n",
       "    </tr>\n",
       "    <tr>\n",
       "      <th>7</th>\n",
       "      <td>10/11/2022</td>\n",
       "      <td>460</td>\n",
       "      <td>72</td>\n",
       "      <td>72</td>\n",
       "      <td>0</td>\n",
       "      <td>32</td>\n",
       "      <td>27</td>\n",
       "      <td>88</td>\n",
       "      <td>7</td>\n",
       "    </tr>\n",
       "    <tr>\n",
       "      <th>8</th>\n",
       "      <td>10/12/2022</td>\n",
       "      <td>500</td>\n",
       "      <td>72</td>\n",
       "      <td>72</td>\n",
       "      <td>0</td>\n",
       "      <td>31</td>\n",
       "      <td>28</td>\n",
       "      <td>84</td>\n",
       "      <td>5</td>\n",
       "    </tr>\n",
       "    <tr>\n",
       "      <th>9</th>\n",
       "      <td>10/13/2022</td>\n",
       "      <td>480</td>\n",
       "      <td>72</td>\n",
       "      <td>69</td>\n",
       "      <td>3</td>\n",
       "      <td>32</td>\n",
       "      <td>29</td>\n",
       "      <td>78</td>\n",
       "      <td>3</td>\n",
       "    </tr>\n",
       "  </tbody>\n",
       "</table>\n",
       "</div>"
      ],
      "text/plain": [
       "         DATE  BOX_PRICE  NUM_BOX_BUY  SALED  UN_SALED  HIGH_TEMP  LOW_TEMP  \\\n",
       "0   10/4/2022        480           72     72         0         31        28   \n",
       "1   10/5/2022        480           60     55         5         31        28   \n",
       "2   10/6/2022        530           57     57         0         27        27   \n",
       "3   10/7/2022        550           78     75         3         27        27   \n",
       "4   10/8/2022        530           75     75         0         29        29   \n",
       "5   10/9/2022        450           77     75         2         27        27   \n",
       "6  10/10/2022        460           74     74         0         26        26   \n",
       "7  10/11/2022        460           72     72         0         32        27   \n",
       "8  10/12/2022        500           72     72         0         31        28   \n",
       "9  10/13/2022        480           72     69         3         32        29   \n",
       "\n",
       "   HIMUDITY  WIND  \n",
       "0        82     5  \n",
       "1        86     4  \n",
       "2        92    17  \n",
       "3        93     0  \n",
       "4        83     6  \n",
       "5        90     9  \n",
       "6        96     0  \n",
       "7        88     7  \n",
       "8        84     5  \n",
       "9        78     3  "
      ]
     },
     "execution_count": 9,
     "metadata": {},
     "output_type": "execute_result"
    }
   ],
   "source": [
    "data=data.head(10)\n",
    "data"
   ]
  },
  {
   "cell_type": "code",
   "execution_count": 10,
   "id": "69417030",
   "metadata": {
    "execution": {
     "iopub.execute_input": "2023-07-17T15:36:59.674382Z",
     "iopub.status.busy": "2023-07-17T15:36:59.673361Z",
     "iopub.status.idle": "2023-07-17T15:36:59.679429Z",
     "shell.execute_reply": "2023-07-17T15:36:59.678713Z"
    },
    "id": "uzdV5PyyCC_B",
    "outputId": "ea43cc34-c83d-4c45-cbc9-3c5b23018516",
    "papermill": {
     "duration": 0.017527,
     "end_time": "2023-07-17T15:36:59.681464",
     "exception": false,
     "start_time": "2023-07-17T15:36:59.663937",
     "status": "completed"
    },
    "tags": []
   },
   "outputs": [
    {
     "data": {
      "text/plain": [
       "(10, 9)"
      ]
     },
     "execution_count": 10,
     "metadata": {},
     "output_type": "execute_result"
    }
   ],
   "source": [
    "data.shape"
   ]
  },
  {
   "cell_type": "code",
   "execution_count": 11,
   "id": "cc935eac",
   "metadata": {
    "execution": {
     "iopub.execute_input": "2023-07-17T15:36:59.698934Z",
     "iopub.status.busy": "2023-07-17T15:36:59.698543Z",
     "iopub.status.idle": "2023-07-17T15:36:59.706432Z",
     "shell.execute_reply": "2023-07-17T15:36:59.705568Z"
    },
    "id": "tZqUbWOG_FOa",
    "papermill": {
     "duration": 0.018955,
     "end_time": "2023-07-17T15:36:59.708205",
     "exception": false,
     "start_time": "2023-07-17T15:36:59.689250",
     "status": "completed"
    },
    "tags": []
   },
   "outputs": [],
   "source": [
    "\n",
    "# data=data[[\"BOX_PRICE\",\"SALED\"]]\n",
    "x=pd.DataFrame(data[[\"BOX_PRICE\",\"LOW_TEMP\",\"HIGH_TEMP\",\"HIMUDITY\",\"WIND\",\"NUM_BOX_BUY\"]])\n",
    "y=pd.DataFrame(data['SALED'])\n",
    "\n",
    "#price=price.dropna()\n",
    "#saled=saled.dropna()\n",
    "\n"
   ]
  },
  {
   "cell_type": "code",
   "execution_count": 12,
   "id": "2faf6da9",
   "metadata": {
    "execution": {
     "iopub.execute_input": "2023-07-17T15:36:59.725921Z",
     "iopub.status.busy": "2023-07-17T15:36:59.725531Z",
     "iopub.status.idle": "2023-07-17T15:36:59.751779Z",
     "shell.execute_reply": "2023-07-17T15:36:59.750695Z"
    },
    "id": "OHr8lmQF_FP6",
    "papermill": {
     "duration": 0.037417,
     "end_time": "2023-07-17T15:36:59.753902",
     "exception": false,
     "start_time": "2023-07-17T15:36:59.716485",
     "status": "completed"
    },
    "tags": []
   },
   "outputs": [],
   "source": [
    "lm=linear_model.LinearRegression()\n",
    "model=lm.fit(x,y)\n"
   ]
  },
  {
   "cell_type": "code",
   "execution_count": 13,
   "id": "3d59f7b2",
   "metadata": {
    "execution": {
     "iopub.execute_input": "2023-07-17T15:36:59.771581Z",
     "iopub.status.busy": "2023-07-17T15:36:59.771201Z",
     "iopub.status.idle": "2023-07-17T15:36:59.780697Z",
     "shell.execute_reply": "2023-07-17T15:36:59.779682Z"
    },
    "id": "gCvWIOJ4_FSf",
    "outputId": "0c5d84bf-424a-41dc-f49b-baec5112a0a3",
    "papermill": {
     "duration": 0.020691,
     "end_time": "2023-07-17T15:36:59.782810",
     "exception": false,
     "start_time": "2023-07-17T15:36:59.762119",
     "status": "completed"
    },
    "tags": []
   },
   "outputs": [
    {
     "data": {
      "text/plain": [
       "96.3441041005435"
      ]
     },
     "execution_count": 13,
     "metadata": {},
     "output_type": "execute_result"
    }
   ],
   "source": [
    "model.score(x,y)*100\n"
   ]
  },
  {
   "cell_type": "code",
   "execution_count": 14,
   "id": "3ca78163",
   "metadata": {
    "execution": {
     "iopub.execute_input": "2023-07-17T15:36:59.800741Z",
     "iopub.status.busy": "2023-07-17T15:36:59.800343Z",
     "iopub.status.idle": "2023-07-17T15:36:59.804608Z",
     "shell.execute_reply": "2023-07-17T15:36:59.803676Z"
    },
    "id": "5RMd4WnW_FUa",
    "papermill": {
     "duration": 0.015817,
     "end_time": "2023-07-17T15:36:59.806673",
     "exception": false,
     "start_time": "2023-07-17T15:36:59.790856",
     "status": "completed"
    },
    "tags": []
   },
   "outputs": [],
   "source": [
    "# new_price=120\n",
    "# new_price=model.predict([[new_price,25]])\n",
    "# new_price"
   ]
  },
  {
   "cell_type": "markdown",
   "id": "b650dbbc",
   "metadata": {
    "papermill": {
     "duration": 0.007512,
     "end_time": "2023-07-17T15:36:59.822244",
     "exception": false,
     "start_time": "2023-07-17T15:36:59.814732",
     "status": "completed"
    },
    "tags": []
   },
   "source": [
    "DECISION TREE"
   ]
  },
  {
   "cell_type": "code",
   "execution_count": 15,
   "id": "ac50ea58",
   "metadata": {
    "execution": {
     "iopub.execute_input": "2023-07-17T15:36:59.839856Z",
     "iopub.status.busy": "2023-07-17T15:36:59.839457Z",
     "iopub.status.idle": "2023-07-17T15:37:00.004595Z",
     "shell.execute_reply": "2023-07-17T15:37:00.003493Z"
    },
    "id": "f8sGoLXGIEw2",
    "outputId": "3bfb3d49-e988-4653-a21c-370b761e9a34",
    "papermill": {
     "duration": 0.176917,
     "end_time": "2023-07-17T15:37:00.006975",
     "exception": false,
     "start_time": "2023-07-17T15:36:59.830058",
     "status": "completed"
    },
    "tags": []
   },
   "outputs": [
    {
     "data": {
      "text/plain": [
       "50.0"
      ]
     },
     "execution_count": 15,
     "metadata": {},
     "output_type": "execute_result"
    }
   ],
   "source": [
    "from sklearn.tree import DecisionTreeRegressor \n",
    "from sklearn.metrics import accuracy_score,mean_squared_error,r2_score\n",
    "  \n",
    "# create a regressor object\n",
    "regressor = DecisionTreeRegressor(random_state = 0) \n",
    "  \n",
    "x=pd.DataFrame(data[[\"BOX_PRICE\",\"LOW_TEMP\",\"HIGH_TEMP\",\"HIMUDITY\",\"WIND\",\"NUM_BOX_BUY\"]])\n",
    "y=pd.DataFrame(data['SALED'])\n",
    "x_train, x_test, y_train, y_test = train_test_split(x, y, test_size=0.15, random_state=42)\n",
    "# fit the regressor with X and Y data\n",
    "regressor.fit(x_train,y_train)\n",
    "prd_y=regressor.predict(x_test)\n",
    "\n",
    "r2_score=accuracy_score(y_test,prd_y)\n",
    "r2_score*100\n"
   ]
  },
  {
   "cell_type": "markdown",
   "id": "b59b2111",
   "metadata": {
    "papermill": {
     "duration": 0.007807,
     "end_time": "2023-07-17T15:37:00.023130",
     "exception": false,
     "start_time": "2023-07-17T15:37:00.015323",
     "status": "completed"
    },
    "tags": []
   },
   "source": [
    "Linear Regression"
   ]
  },
  {
   "cell_type": "code",
   "execution_count": 16,
   "id": "11aed898",
   "metadata": {
    "execution": {
     "iopub.execute_input": "2023-07-17T15:37:00.040777Z",
     "iopub.status.busy": "2023-07-17T15:37:00.040386Z",
     "iopub.status.idle": "2023-07-17T15:37:00.054689Z",
     "shell.execute_reply": "2023-07-17T15:37:00.053660Z"
    },
    "papermill": {
     "duration": 0.025669,
     "end_time": "2023-07-17T15:37:00.056821",
     "exception": false,
     "start_time": "2023-07-17T15:37:00.031152",
     "status": "completed"
    },
    "tags": []
   },
   "outputs": [
    {
     "data": {
      "text/plain": [
       "2186.259492111311"
      ]
     },
     "execution_count": 16,
     "metadata": {},
     "output_type": "execute_result"
    }
   ],
   "source": [
    "lm=linear_model.LinearRegression()\n",
    "model=lm.fit(x_train,y_train)\n",
    "prd_y2=model.predict(x_test)\n",
    "\n",
    "r2_score=mean_squared_error(y_test,prd_y2)\n",
    "r2_score*100"
   ]
  },
  {
   "cell_type": "markdown",
   "id": "ad309bdd",
   "metadata": {
    "papermill": {
     "duration": 0.007808,
     "end_time": "2023-07-17T15:37:00.073150",
     "exception": false,
     "start_time": "2023-07-17T15:37:00.065342",
     "status": "completed"
    },
    "tags": []
   },
   "source": [
    "Random Forest"
   ]
  },
  {
   "cell_type": "code",
   "execution_count": 17,
   "id": "9e3c6e42",
   "metadata": {
    "execution": {
     "iopub.execute_input": "2023-07-17T15:37:00.090987Z",
     "iopub.status.busy": "2023-07-17T15:37:00.090592Z",
     "iopub.status.idle": "2023-07-17T15:37:00.216335Z",
     "shell.execute_reply": "2023-07-17T15:37:00.214929Z"
    },
    "papermill": {
     "duration": 0.137983,
     "end_time": "2023-07-17T15:37:00.219139",
     "exception": false,
     "start_time": "2023-07-17T15:37:00.081156",
     "status": "completed"
    },
    "tags": []
   },
   "outputs": [
    {
     "name": "stderr",
     "output_type": "stream",
     "text": [
      "/tmp/ipykernel_20/131060554.py:3: DataConversionWarning: A column-vector y was passed when a 1d array was expected. Please change the shape of y to (n_samples,), for example using ravel().\n",
      "  model.fit(x_train,y_train)\n"
     ]
    },
    {
     "data": {
      "text/plain": [
       "14450.0"
      ]
     },
     "execution_count": 17,
     "metadata": {},
     "output_type": "execute_result"
    }
   ],
   "source": [
    "from sklearn.ensemble import RandomForestRegressor\n",
    "model=RandomForestRegressor(n_estimators= 1, criterion=\"squared_error\")\n",
    "model.fit(x_train,y_train)\n",
    "prd_y=model.predict(x_test)\n",
    "\n",
    "r2_score=mean_squared_error(y_test,prd_y)\n",
    "r2_score*100\n"
   ]
  },
  {
   "cell_type": "code",
   "execution_count": null,
   "id": "29c1d502",
   "metadata": {
    "papermill": {
     "duration": 0.008256,
     "end_time": "2023-07-17T15:37:00.235741",
     "exception": false,
     "start_time": "2023-07-17T15:37:00.227485",
     "status": "completed"
    },
    "tags": []
   },
   "outputs": [],
   "source": []
  }
 ],
 "metadata": {
  "kernelspec": {
   "display_name": "Python 3",
   "language": "python",
   "name": "python3"
  },
  "language_info": {
   "codemirror_mode": {
    "name": "ipython",
    "version": 3
   },
   "file_extension": ".py",
   "mimetype": "text/x-python",
   "name": "python",
   "nbconvert_exporter": "python",
   "pygments_lexer": "ipython3",
   "version": "3.10.10"
  },
  "papermill": {
   "default_parameters": {},
   "duration": 15.281728,
   "end_time": "2023-07-17T15:37:01.265888",
   "environment_variables": {},
   "exception": null,
   "input_path": "__notebook__.ipynb",
   "output_path": "__notebook__.ipynb",
   "parameters": {},
   "start_time": "2023-07-17T15:36:45.984160",
   "version": "2.4.0"
  }
 },
 "nbformat": 4,
 "nbformat_minor": 5
}
