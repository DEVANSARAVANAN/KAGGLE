{
 "cells": [
  {
   "cell_type": "code",
   "execution_count": 1,
   "id": "defe366e",
   "metadata": {
    "execution": {
     "iopub.execute_input": "2023-07-03T14:15:32.619452Z",
     "iopub.status.busy": "2023-07-03T14:15:32.618992Z",
     "iopub.status.idle": "2023-07-03T14:15:34.572078Z",
     "shell.execute_reply": "2023-07-03T14:15:34.570863Z"
    },
    "papermill": {
     "duration": 1.974107,
     "end_time": "2023-07-03T14:15:34.575144",
     "exception": false,
     "start_time": "2023-07-03T14:15:32.601037",
     "status": "completed"
    },
    "tags": []
   },
   "outputs": [],
   "source": [
    "#Imported libraries\n",
    "import pandas as pd\n",
    "import matplotlib.pyplot as plt\n",
    "import numpy as np\n",
    "from sklearn.ensemble import AdaBoostClassifier\n",
    "import sklearn.metrics"
   ]
  },
  {
   "cell_type": "code",
   "execution_count": 2,
   "id": "0201cbf6",
   "metadata": {
    "execution": {
     "iopub.execute_input": "2023-07-03T14:15:34.605265Z",
     "iopub.status.busy": "2023-07-03T14:15:34.604117Z",
     "iopub.status.idle": "2023-07-03T14:15:34.649150Z",
     "shell.execute_reply": "2023-07-03T14:15:34.647847Z"
    },
    "papermill": {
     "duration": 0.063243,
     "end_time": "2023-07-03T14:15:34.652389",
     "exception": false,
     "start_time": "2023-07-03T14:15:34.589146",
     "status": "completed"
    },
    "tags": []
   },
   "outputs": [],
   "source": [
    "#Loaded DataSet\n",
    "test_df=pd.read_csv(\"/kaggle/input/titanic/test.csv\")\n",
    "train_df=pd.read_csv(\"/kaggle/input/titanic/train.csv\")\n",
    "GS_df=pd.read_csv(\"/kaggle/input/titanic/gender_submission.csv\")"
   ]
  },
  {
   "cell_type": "code",
   "execution_count": 3,
   "id": "d7d8b43f",
   "metadata": {
    "execution": {
     "iopub.execute_input": "2023-07-03T14:15:34.685500Z",
     "iopub.status.busy": "2023-07-03T14:15:34.684892Z",
     "iopub.status.idle": "2023-07-03T14:15:34.746075Z",
     "shell.execute_reply": "2023-07-03T14:15:34.744810Z"
    },
    "papermill": {
     "duration": 0.081685,
     "end_time": "2023-07-03T14:15:34.749041",
     "exception": false,
     "start_time": "2023-07-03T14:15:34.667356",
     "status": "completed"
    },
    "tags": []
   },
   "outputs": [
    {
     "data": {
      "text/html": [
       "<div>\n",
       "<style scoped>\n",
       "    .dataframe tbody tr th:only-of-type {\n",
       "        vertical-align: middle;\n",
       "    }\n",
       "\n",
       "    .dataframe tbody tr th {\n",
       "        vertical-align: top;\n",
       "    }\n",
       "\n",
       "    .dataframe thead th {\n",
       "        text-align: right;\n",
       "    }\n",
       "</style>\n",
       "<table border=\"1\" class=\"dataframe\">\n",
       "  <thead>\n",
       "    <tr style=\"text-align: right;\">\n",
       "      <th></th>\n",
       "      <th>PassengerId</th>\n",
       "      <th>Pclass</th>\n",
       "      <th>Name</th>\n",
       "      <th>Sex</th>\n",
       "      <th>Age</th>\n",
       "      <th>SibSp</th>\n",
       "      <th>Parch</th>\n",
       "      <th>Ticket</th>\n",
       "      <th>Fare</th>\n",
       "      <th>Cabin</th>\n",
       "      <th>Embarked</th>\n",
       "    </tr>\n",
       "  </thead>\n",
       "  <tbody>\n",
       "    <tr>\n",
       "      <th>0</th>\n",
       "      <td>892</td>\n",
       "      <td>3</td>\n",
       "      <td>Kelly, Mr. James</td>\n",
       "      <td>male</td>\n",
       "      <td>34.5</td>\n",
       "      <td>0</td>\n",
       "      <td>0</td>\n",
       "      <td>330911</td>\n",
       "      <td>7.8292</td>\n",
       "      <td>NaN</td>\n",
       "      <td>Q</td>\n",
       "    </tr>\n",
       "    <tr>\n",
       "      <th>1</th>\n",
       "      <td>893</td>\n",
       "      <td>3</td>\n",
       "      <td>Wilkes, Mrs. James (Ellen Needs)</td>\n",
       "      <td>female</td>\n",
       "      <td>47.0</td>\n",
       "      <td>1</td>\n",
       "      <td>0</td>\n",
       "      <td>363272</td>\n",
       "      <td>7.0000</td>\n",
       "      <td>NaN</td>\n",
       "      <td>S</td>\n",
       "    </tr>\n",
       "    <tr>\n",
       "      <th>2</th>\n",
       "      <td>894</td>\n",
       "      <td>2</td>\n",
       "      <td>Myles, Mr. Thomas Francis</td>\n",
       "      <td>male</td>\n",
       "      <td>62.0</td>\n",
       "      <td>0</td>\n",
       "      <td>0</td>\n",
       "      <td>240276</td>\n",
       "      <td>9.6875</td>\n",
       "      <td>NaN</td>\n",
       "      <td>Q</td>\n",
       "    </tr>\n",
       "    <tr>\n",
       "      <th>3</th>\n",
       "      <td>895</td>\n",
       "      <td>3</td>\n",
       "      <td>Wirz, Mr. Albert</td>\n",
       "      <td>male</td>\n",
       "      <td>27.0</td>\n",
       "      <td>0</td>\n",
       "      <td>0</td>\n",
       "      <td>315154</td>\n",
       "      <td>8.6625</td>\n",
       "      <td>NaN</td>\n",
       "      <td>S</td>\n",
       "    </tr>\n",
       "    <tr>\n",
       "      <th>4</th>\n",
       "      <td>896</td>\n",
       "      <td>3</td>\n",
       "      <td>Hirvonen, Mrs. Alexander (Helga E Lindqvist)</td>\n",
       "      <td>female</td>\n",
       "      <td>22.0</td>\n",
       "      <td>1</td>\n",
       "      <td>1</td>\n",
       "      <td>3101298</td>\n",
       "      <td>12.2875</td>\n",
       "      <td>NaN</td>\n",
       "      <td>S</td>\n",
       "    </tr>\n",
       "    <tr>\n",
       "      <th>...</th>\n",
       "      <td>...</td>\n",
       "      <td>...</td>\n",
       "      <td>...</td>\n",
       "      <td>...</td>\n",
       "      <td>...</td>\n",
       "      <td>...</td>\n",
       "      <td>...</td>\n",
       "      <td>...</td>\n",
       "      <td>...</td>\n",
       "      <td>...</td>\n",
       "      <td>...</td>\n",
       "    </tr>\n",
       "    <tr>\n",
       "      <th>413</th>\n",
       "      <td>1305</td>\n",
       "      <td>3</td>\n",
       "      <td>Spector, Mr. Woolf</td>\n",
       "      <td>male</td>\n",
       "      <td>NaN</td>\n",
       "      <td>0</td>\n",
       "      <td>0</td>\n",
       "      <td>A.5. 3236</td>\n",
       "      <td>8.0500</td>\n",
       "      <td>NaN</td>\n",
       "      <td>S</td>\n",
       "    </tr>\n",
       "    <tr>\n",
       "      <th>414</th>\n",
       "      <td>1306</td>\n",
       "      <td>1</td>\n",
       "      <td>Oliva y Ocana, Dona. Fermina</td>\n",
       "      <td>female</td>\n",
       "      <td>39.0</td>\n",
       "      <td>0</td>\n",
       "      <td>0</td>\n",
       "      <td>PC 17758</td>\n",
       "      <td>108.9000</td>\n",
       "      <td>C105</td>\n",
       "      <td>C</td>\n",
       "    </tr>\n",
       "    <tr>\n",
       "      <th>415</th>\n",
       "      <td>1307</td>\n",
       "      <td>3</td>\n",
       "      <td>Saether, Mr. Simon Sivertsen</td>\n",
       "      <td>male</td>\n",
       "      <td>38.5</td>\n",
       "      <td>0</td>\n",
       "      <td>0</td>\n",
       "      <td>SOTON/O.Q. 3101262</td>\n",
       "      <td>7.2500</td>\n",
       "      <td>NaN</td>\n",
       "      <td>S</td>\n",
       "    </tr>\n",
       "    <tr>\n",
       "      <th>416</th>\n",
       "      <td>1308</td>\n",
       "      <td>3</td>\n",
       "      <td>Ware, Mr. Frederick</td>\n",
       "      <td>male</td>\n",
       "      <td>NaN</td>\n",
       "      <td>0</td>\n",
       "      <td>0</td>\n",
       "      <td>359309</td>\n",
       "      <td>8.0500</td>\n",
       "      <td>NaN</td>\n",
       "      <td>S</td>\n",
       "    </tr>\n",
       "    <tr>\n",
       "      <th>417</th>\n",
       "      <td>1309</td>\n",
       "      <td>3</td>\n",
       "      <td>Peter, Master. Michael J</td>\n",
       "      <td>male</td>\n",
       "      <td>NaN</td>\n",
       "      <td>1</td>\n",
       "      <td>1</td>\n",
       "      <td>2668</td>\n",
       "      <td>22.3583</td>\n",
       "      <td>NaN</td>\n",
       "      <td>C</td>\n",
       "    </tr>\n",
       "  </tbody>\n",
       "</table>\n",
       "<p>418 rows × 11 columns</p>\n",
       "</div>"
      ],
      "text/plain": [
       "     PassengerId  Pclass                                          Name  \\\n",
       "0            892       3                              Kelly, Mr. James   \n",
       "1            893       3              Wilkes, Mrs. James (Ellen Needs)   \n",
       "2            894       2                     Myles, Mr. Thomas Francis   \n",
       "3            895       3                              Wirz, Mr. Albert   \n",
       "4            896       3  Hirvonen, Mrs. Alexander (Helga E Lindqvist)   \n",
       "..           ...     ...                                           ...   \n",
       "413         1305       3                            Spector, Mr. Woolf   \n",
       "414         1306       1                  Oliva y Ocana, Dona. Fermina   \n",
       "415         1307       3                  Saether, Mr. Simon Sivertsen   \n",
       "416         1308       3                           Ware, Mr. Frederick   \n",
       "417         1309       3                      Peter, Master. Michael J   \n",
       "\n",
       "        Sex   Age  SibSp  Parch              Ticket      Fare Cabin Embarked  \n",
       "0      male  34.5      0      0              330911    7.8292   NaN        Q  \n",
       "1    female  47.0      1      0              363272    7.0000   NaN        S  \n",
       "2      male  62.0      0      0              240276    9.6875   NaN        Q  \n",
       "3      male  27.0      0      0              315154    8.6625   NaN        S  \n",
       "4    female  22.0      1      1             3101298   12.2875   NaN        S  \n",
       "..      ...   ...    ...    ...                 ...       ...   ...      ...  \n",
       "413    male   NaN      0      0           A.5. 3236    8.0500   NaN        S  \n",
       "414  female  39.0      0      0            PC 17758  108.9000  C105        C  \n",
       "415    male  38.5      0      0  SOTON/O.Q. 3101262    7.2500   NaN        S  \n",
       "416    male   NaN      0      0              359309    8.0500   NaN        S  \n",
       "417    male   NaN      1      1                2668   22.3583   NaN        C  \n",
       "\n",
       "[418 rows x 11 columns]"
      ]
     },
     "execution_count": 3,
     "metadata": {},
     "output_type": "execute_result"
    }
   ],
   "source": [
    "test_df"
   ]
  },
  {
   "cell_type": "code",
   "execution_count": 4,
   "id": "335dc334",
   "metadata": {
    "execution": {
     "iopub.execute_input": "2023-07-03T14:15:34.779226Z",
     "iopub.status.busy": "2023-07-03T14:15:34.778842Z",
     "iopub.status.idle": "2023-07-03T14:15:34.809779Z",
     "shell.execute_reply": "2023-07-03T14:15:34.808567Z"
    },
    "papermill": {
     "duration": 0.048914,
     "end_time": "2023-07-03T14:15:34.812185",
     "exception": false,
     "start_time": "2023-07-03T14:15:34.763271",
     "status": "completed"
    },
    "tags": []
   },
   "outputs": [
    {
     "data": {
      "text/html": [
       "<div>\n",
       "<style scoped>\n",
       "    .dataframe tbody tr th:only-of-type {\n",
       "        vertical-align: middle;\n",
       "    }\n",
       "\n",
       "    .dataframe tbody tr th {\n",
       "        vertical-align: top;\n",
       "    }\n",
       "\n",
       "    .dataframe thead th {\n",
       "        text-align: right;\n",
       "    }\n",
       "</style>\n",
       "<table border=\"1\" class=\"dataframe\">\n",
       "  <thead>\n",
       "    <tr style=\"text-align: right;\">\n",
       "      <th></th>\n",
       "      <th>Survived</th>\n",
       "      <th>Pclass</th>\n",
       "      <th>Name</th>\n",
       "      <th>Sex</th>\n",
       "      <th>Age</th>\n",
       "      <th>SibSp</th>\n",
       "      <th>Parch</th>\n",
       "      <th>Ticket</th>\n",
       "      <th>Fare</th>\n",
       "      <th>Cabin</th>\n",
       "      <th>Embarked</th>\n",
       "    </tr>\n",
       "  </thead>\n",
       "  <tbody>\n",
       "    <tr>\n",
       "      <th>0</th>\n",
       "      <td>0</td>\n",
       "      <td>3</td>\n",
       "      <td>Braund, Mr. Owen Harris</td>\n",
       "      <td>male</td>\n",
       "      <td>22.0</td>\n",
       "      <td>1</td>\n",
       "      <td>0</td>\n",
       "      <td>A/5 21171</td>\n",
       "      <td>7.2500</td>\n",
       "      <td>NaN</td>\n",
       "      <td>S</td>\n",
       "    </tr>\n",
       "    <tr>\n",
       "      <th>1</th>\n",
       "      <td>1</td>\n",
       "      <td>1</td>\n",
       "      <td>Cumings, Mrs. John Bradley (Florence Briggs Th...</td>\n",
       "      <td>female</td>\n",
       "      <td>38.0</td>\n",
       "      <td>1</td>\n",
       "      <td>0</td>\n",
       "      <td>PC 17599</td>\n",
       "      <td>71.2833</td>\n",
       "      <td>C85</td>\n",
       "      <td>C</td>\n",
       "    </tr>\n",
       "    <tr>\n",
       "      <th>2</th>\n",
       "      <td>1</td>\n",
       "      <td>3</td>\n",
       "      <td>Heikkinen, Miss. Laina</td>\n",
       "      <td>female</td>\n",
       "      <td>26.0</td>\n",
       "      <td>0</td>\n",
       "      <td>0</td>\n",
       "      <td>STON/O2. 3101282</td>\n",
       "      <td>7.9250</td>\n",
       "      <td>NaN</td>\n",
       "      <td>S</td>\n",
       "    </tr>\n",
       "    <tr>\n",
       "      <th>3</th>\n",
       "      <td>1</td>\n",
       "      <td>1</td>\n",
       "      <td>Futrelle, Mrs. Jacques Heath (Lily May Peel)</td>\n",
       "      <td>female</td>\n",
       "      <td>35.0</td>\n",
       "      <td>1</td>\n",
       "      <td>0</td>\n",
       "      <td>113803</td>\n",
       "      <td>53.1000</td>\n",
       "      <td>C123</td>\n",
       "      <td>S</td>\n",
       "    </tr>\n",
       "    <tr>\n",
       "      <th>4</th>\n",
       "      <td>0</td>\n",
       "      <td>3</td>\n",
       "      <td>Allen, Mr. William Henry</td>\n",
       "      <td>male</td>\n",
       "      <td>35.0</td>\n",
       "      <td>0</td>\n",
       "      <td>0</td>\n",
       "      <td>373450</td>\n",
       "      <td>8.0500</td>\n",
       "      <td>NaN</td>\n",
       "      <td>S</td>\n",
       "    </tr>\n",
       "    <tr>\n",
       "      <th>...</th>\n",
       "      <td>...</td>\n",
       "      <td>...</td>\n",
       "      <td>...</td>\n",
       "      <td>...</td>\n",
       "      <td>...</td>\n",
       "      <td>...</td>\n",
       "      <td>...</td>\n",
       "      <td>...</td>\n",
       "      <td>...</td>\n",
       "      <td>...</td>\n",
       "      <td>...</td>\n",
       "    </tr>\n",
       "    <tr>\n",
       "      <th>886</th>\n",
       "      <td>0</td>\n",
       "      <td>2</td>\n",
       "      <td>Montvila, Rev. Juozas</td>\n",
       "      <td>male</td>\n",
       "      <td>27.0</td>\n",
       "      <td>0</td>\n",
       "      <td>0</td>\n",
       "      <td>211536</td>\n",
       "      <td>13.0000</td>\n",
       "      <td>NaN</td>\n",
       "      <td>S</td>\n",
       "    </tr>\n",
       "    <tr>\n",
       "      <th>887</th>\n",
       "      <td>1</td>\n",
       "      <td>1</td>\n",
       "      <td>Graham, Miss. Margaret Edith</td>\n",
       "      <td>female</td>\n",
       "      <td>19.0</td>\n",
       "      <td>0</td>\n",
       "      <td>0</td>\n",
       "      <td>112053</td>\n",
       "      <td>30.0000</td>\n",
       "      <td>B42</td>\n",
       "      <td>S</td>\n",
       "    </tr>\n",
       "    <tr>\n",
       "      <th>888</th>\n",
       "      <td>0</td>\n",
       "      <td>3</td>\n",
       "      <td>Johnston, Miss. Catherine Helen \"Carrie\"</td>\n",
       "      <td>female</td>\n",
       "      <td>NaN</td>\n",
       "      <td>1</td>\n",
       "      <td>2</td>\n",
       "      <td>W./C. 6607</td>\n",
       "      <td>23.4500</td>\n",
       "      <td>NaN</td>\n",
       "      <td>S</td>\n",
       "    </tr>\n",
       "    <tr>\n",
       "      <th>889</th>\n",
       "      <td>1</td>\n",
       "      <td>1</td>\n",
       "      <td>Behr, Mr. Karl Howell</td>\n",
       "      <td>male</td>\n",
       "      <td>26.0</td>\n",
       "      <td>0</td>\n",
       "      <td>0</td>\n",
       "      <td>111369</td>\n",
       "      <td>30.0000</td>\n",
       "      <td>C148</td>\n",
       "      <td>C</td>\n",
       "    </tr>\n",
       "    <tr>\n",
       "      <th>890</th>\n",
       "      <td>0</td>\n",
       "      <td>3</td>\n",
       "      <td>Dooley, Mr. Patrick</td>\n",
       "      <td>male</td>\n",
       "      <td>32.0</td>\n",
       "      <td>0</td>\n",
       "      <td>0</td>\n",
       "      <td>370376</td>\n",
       "      <td>7.7500</td>\n",
       "      <td>NaN</td>\n",
       "      <td>Q</td>\n",
       "    </tr>\n",
       "  </tbody>\n",
       "</table>\n",
       "<p>891 rows × 11 columns</p>\n",
       "</div>"
      ],
      "text/plain": [
       "     Survived  Pclass                                               Name  \\\n",
       "0           0       3                            Braund, Mr. Owen Harris   \n",
       "1           1       1  Cumings, Mrs. John Bradley (Florence Briggs Th...   \n",
       "2           1       3                             Heikkinen, Miss. Laina   \n",
       "3           1       1       Futrelle, Mrs. Jacques Heath (Lily May Peel)   \n",
       "4           0       3                           Allen, Mr. William Henry   \n",
       "..        ...     ...                                                ...   \n",
       "886         0       2                              Montvila, Rev. Juozas   \n",
       "887         1       1                       Graham, Miss. Margaret Edith   \n",
       "888         0       3           Johnston, Miss. Catherine Helen \"Carrie\"   \n",
       "889         1       1                              Behr, Mr. Karl Howell   \n",
       "890         0       3                                Dooley, Mr. Patrick   \n",
       "\n",
       "        Sex   Age  SibSp  Parch            Ticket     Fare Cabin Embarked  \n",
       "0      male  22.0      1      0         A/5 21171   7.2500   NaN        S  \n",
       "1    female  38.0      1      0          PC 17599  71.2833   C85        C  \n",
       "2    female  26.0      0      0  STON/O2. 3101282   7.9250   NaN        S  \n",
       "3    female  35.0      1      0            113803  53.1000  C123        S  \n",
       "4      male  35.0      0      0            373450   8.0500   NaN        S  \n",
       "..      ...   ...    ...    ...               ...      ...   ...      ...  \n",
       "886    male  27.0      0      0            211536  13.0000   NaN        S  \n",
       "887  female  19.0      0      0            112053  30.0000   B42        S  \n",
       "888  female   NaN      1      2        W./C. 6607  23.4500   NaN        S  \n",
       "889    male  26.0      0      0            111369  30.0000  C148        C  \n",
       "890    male  32.0      0      0            370376   7.7500   NaN        Q  \n",
       "\n",
       "[891 rows x 11 columns]"
      ]
     },
     "execution_count": 4,
     "metadata": {},
     "output_type": "execute_result"
    }
   ],
   "source": [
    "train_df=train_df.drop(\"PassengerId\",axis=1)\n",
    "train_df"
   ]
  },
  {
   "cell_type": "code",
   "execution_count": 5,
   "id": "c0517b12",
   "metadata": {
    "execution": {
     "iopub.execute_input": "2023-07-03T14:15:34.843376Z",
     "iopub.status.busy": "2023-07-03T14:15:34.842998Z",
     "iopub.status.idle": "2023-07-03T14:15:34.855377Z",
     "shell.execute_reply": "2023-07-03T14:15:34.854302Z"
    },
    "papermill": {
     "duration": 0.03064,
     "end_time": "2023-07-03T14:15:34.857513",
     "exception": false,
     "start_time": "2023-07-03T14:15:34.826873",
     "status": "completed"
    },
    "tags": []
   },
   "outputs": [
    {
     "data": {
      "text/html": [
       "<div>\n",
       "<style scoped>\n",
       "    .dataframe tbody tr th:only-of-type {\n",
       "        vertical-align: middle;\n",
       "    }\n",
       "\n",
       "    .dataframe tbody tr th {\n",
       "        vertical-align: top;\n",
       "    }\n",
       "\n",
       "    .dataframe thead th {\n",
       "        text-align: right;\n",
       "    }\n",
       "</style>\n",
       "<table border=\"1\" class=\"dataframe\">\n",
       "  <thead>\n",
       "    <tr style=\"text-align: right;\">\n",
       "      <th></th>\n",
       "      <th>PassengerId</th>\n",
       "      <th>Survived</th>\n",
       "    </tr>\n",
       "  </thead>\n",
       "  <tbody>\n",
       "    <tr>\n",
       "      <th>0</th>\n",
       "      <td>892</td>\n",
       "      <td>0</td>\n",
       "    </tr>\n",
       "    <tr>\n",
       "      <th>1</th>\n",
       "      <td>893</td>\n",
       "      <td>1</td>\n",
       "    </tr>\n",
       "    <tr>\n",
       "      <th>2</th>\n",
       "      <td>894</td>\n",
       "      <td>0</td>\n",
       "    </tr>\n",
       "    <tr>\n",
       "      <th>3</th>\n",
       "      <td>895</td>\n",
       "      <td>0</td>\n",
       "    </tr>\n",
       "    <tr>\n",
       "      <th>4</th>\n",
       "      <td>896</td>\n",
       "      <td>1</td>\n",
       "    </tr>\n",
       "    <tr>\n",
       "      <th>...</th>\n",
       "      <td>...</td>\n",
       "      <td>...</td>\n",
       "    </tr>\n",
       "    <tr>\n",
       "      <th>413</th>\n",
       "      <td>1305</td>\n",
       "      <td>0</td>\n",
       "    </tr>\n",
       "    <tr>\n",
       "      <th>414</th>\n",
       "      <td>1306</td>\n",
       "      <td>1</td>\n",
       "    </tr>\n",
       "    <tr>\n",
       "      <th>415</th>\n",
       "      <td>1307</td>\n",
       "      <td>0</td>\n",
       "    </tr>\n",
       "    <tr>\n",
       "      <th>416</th>\n",
       "      <td>1308</td>\n",
       "      <td>0</td>\n",
       "    </tr>\n",
       "    <tr>\n",
       "      <th>417</th>\n",
       "      <td>1309</td>\n",
       "      <td>0</td>\n",
       "    </tr>\n",
       "  </tbody>\n",
       "</table>\n",
       "<p>418 rows × 2 columns</p>\n",
       "</div>"
      ],
      "text/plain": [
       "     PassengerId  Survived\n",
       "0            892         0\n",
       "1            893         1\n",
       "2            894         0\n",
       "3            895         0\n",
       "4            896         1\n",
       "..           ...       ...\n",
       "413         1305         0\n",
       "414         1306         1\n",
       "415         1307         0\n",
       "416         1308         0\n",
       "417         1309         0\n",
       "\n",
       "[418 rows x 2 columns]"
      ]
     },
     "execution_count": 5,
     "metadata": {},
     "output_type": "execute_result"
    }
   ],
   "source": [
    "GS_df"
   ]
  },
  {
   "cell_type": "code",
   "execution_count": 6,
   "id": "f18aaac9",
   "metadata": {
    "execution": {
     "iopub.execute_input": "2023-07-03T14:15:34.889754Z",
     "iopub.status.busy": "2023-07-03T14:15:34.889225Z",
     "iopub.status.idle": "2023-07-03T14:15:34.923982Z",
     "shell.execute_reply": "2023-07-03T14:15:34.922670Z"
    },
    "papermill": {
     "duration": 0.053824,
     "end_time": "2023-07-03T14:15:34.926367",
     "exception": false,
     "start_time": "2023-07-03T14:15:34.872543",
     "status": "completed"
    },
    "tags": []
   },
   "outputs": [
    {
     "data": {
      "text/html": [
       "<div>\n",
       "<style scoped>\n",
       "    .dataframe tbody tr th:only-of-type {\n",
       "        vertical-align: middle;\n",
       "    }\n",
       "\n",
       "    .dataframe tbody tr th {\n",
       "        vertical-align: top;\n",
       "    }\n",
       "\n",
       "    .dataframe thead th {\n",
       "        text-align: right;\n",
       "    }\n",
       "</style>\n",
       "<table border=\"1\" class=\"dataframe\">\n",
       "  <thead>\n",
       "    <tr style=\"text-align: right;\">\n",
       "      <th></th>\n",
       "      <th>PassengerId</th>\n",
       "      <th>Pclass</th>\n",
       "      <th>Name</th>\n",
       "      <th>Sex</th>\n",
       "      <th>Age</th>\n",
       "      <th>SibSp</th>\n",
       "      <th>Parch</th>\n",
       "      <th>Ticket</th>\n",
       "      <th>Fare</th>\n",
       "      <th>Cabin</th>\n",
       "      <th>Embarked</th>\n",
       "      <th>Survived</th>\n",
       "    </tr>\n",
       "  </thead>\n",
       "  <tbody>\n",
       "    <tr>\n",
       "      <th>0</th>\n",
       "      <td>892</td>\n",
       "      <td>3</td>\n",
       "      <td>Kelly, Mr. James</td>\n",
       "      <td>male</td>\n",
       "      <td>34.5</td>\n",
       "      <td>0</td>\n",
       "      <td>0</td>\n",
       "      <td>330911</td>\n",
       "      <td>7.8292</td>\n",
       "      <td>NaN</td>\n",
       "      <td>Q</td>\n",
       "      <td>0</td>\n",
       "    </tr>\n",
       "    <tr>\n",
       "      <th>1</th>\n",
       "      <td>893</td>\n",
       "      <td>3</td>\n",
       "      <td>Wilkes, Mrs. James (Ellen Needs)</td>\n",
       "      <td>female</td>\n",
       "      <td>47.0</td>\n",
       "      <td>1</td>\n",
       "      <td>0</td>\n",
       "      <td>363272</td>\n",
       "      <td>7.0000</td>\n",
       "      <td>NaN</td>\n",
       "      <td>S</td>\n",
       "      <td>1</td>\n",
       "    </tr>\n",
       "    <tr>\n",
       "      <th>2</th>\n",
       "      <td>894</td>\n",
       "      <td>2</td>\n",
       "      <td>Myles, Mr. Thomas Francis</td>\n",
       "      <td>male</td>\n",
       "      <td>62.0</td>\n",
       "      <td>0</td>\n",
       "      <td>0</td>\n",
       "      <td>240276</td>\n",
       "      <td>9.6875</td>\n",
       "      <td>NaN</td>\n",
       "      <td>Q</td>\n",
       "      <td>0</td>\n",
       "    </tr>\n",
       "    <tr>\n",
       "      <th>3</th>\n",
       "      <td>895</td>\n",
       "      <td>3</td>\n",
       "      <td>Wirz, Mr. Albert</td>\n",
       "      <td>male</td>\n",
       "      <td>27.0</td>\n",
       "      <td>0</td>\n",
       "      <td>0</td>\n",
       "      <td>315154</td>\n",
       "      <td>8.6625</td>\n",
       "      <td>NaN</td>\n",
       "      <td>S</td>\n",
       "      <td>0</td>\n",
       "    </tr>\n",
       "    <tr>\n",
       "      <th>4</th>\n",
       "      <td>896</td>\n",
       "      <td>3</td>\n",
       "      <td>Hirvonen, Mrs. Alexander (Helga E Lindqvist)</td>\n",
       "      <td>female</td>\n",
       "      <td>22.0</td>\n",
       "      <td>1</td>\n",
       "      <td>1</td>\n",
       "      <td>3101298</td>\n",
       "      <td>12.2875</td>\n",
       "      <td>NaN</td>\n",
       "      <td>S</td>\n",
       "      <td>1</td>\n",
       "    </tr>\n",
       "    <tr>\n",
       "      <th>...</th>\n",
       "      <td>...</td>\n",
       "      <td>...</td>\n",
       "      <td>...</td>\n",
       "      <td>...</td>\n",
       "      <td>...</td>\n",
       "      <td>...</td>\n",
       "      <td>...</td>\n",
       "      <td>...</td>\n",
       "      <td>...</td>\n",
       "      <td>...</td>\n",
       "      <td>...</td>\n",
       "      <td>...</td>\n",
       "    </tr>\n",
       "    <tr>\n",
       "      <th>413</th>\n",
       "      <td>1305</td>\n",
       "      <td>3</td>\n",
       "      <td>Spector, Mr. Woolf</td>\n",
       "      <td>male</td>\n",
       "      <td>NaN</td>\n",
       "      <td>0</td>\n",
       "      <td>0</td>\n",
       "      <td>A.5. 3236</td>\n",
       "      <td>8.0500</td>\n",
       "      <td>NaN</td>\n",
       "      <td>S</td>\n",
       "      <td>0</td>\n",
       "    </tr>\n",
       "    <tr>\n",
       "      <th>414</th>\n",
       "      <td>1306</td>\n",
       "      <td>1</td>\n",
       "      <td>Oliva y Ocana, Dona. Fermina</td>\n",
       "      <td>female</td>\n",
       "      <td>39.0</td>\n",
       "      <td>0</td>\n",
       "      <td>0</td>\n",
       "      <td>PC 17758</td>\n",
       "      <td>108.9000</td>\n",
       "      <td>C105</td>\n",
       "      <td>C</td>\n",
       "      <td>1</td>\n",
       "    </tr>\n",
       "    <tr>\n",
       "      <th>415</th>\n",
       "      <td>1307</td>\n",
       "      <td>3</td>\n",
       "      <td>Saether, Mr. Simon Sivertsen</td>\n",
       "      <td>male</td>\n",
       "      <td>38.5</td>\n",
       "      <td>0</td>\n",
       "      <td>0</td>\n",
       "      <td>SOTON/O.Q. 3101262</td>\n",
       "      <td>7.2500</td>\n",
       "      <td>NaN</td>\n",
       "      <td>S</td>\n",
       "      <td>0</td>\n",
       "    </tr>\n",
       "    <tr>\n",
       "      <th>416</th>\n",
       "      <td>1308</td>\n",
       "      <td>3</td>\n",
       "      <td>Ware, Mr. Frederick</td>\n",
       "      <td>male</td>\n",
       "      <td>NaN</td>\n",
       "      <td>0</td>\n",
       "      <td>0</td>\n",
       "      <td>359309</td>\n",
       "      <td>8.0500</td>\n",
       "      <td>NaN</td>\n",
       "      <td>S</td>\n",
       "      <td>0</td>\n",
       "    </tr>\n",
       "    <tr>\n",
       "      <th>417</th>\n",
       "      <td>1309</td>\n",
       "      <td>3</td>\n",
       "      <td>Peter, Master. Michael J</td>\n",
       "      <td>male</td>\n",
       "      <td>NaN</td>\n",
       "      <td>1</td>\n",
       "      <td>1</td>\n",
       "      <td>2668</td>\n",
       "      <td>22.3583</td>\n",
       "      <td>NaN</td>\n",
       "      <td>C</td>\n",
       "      <td>0</td>\n",
       "    </tr>\n",
       "  </tbody>\n",
       "</table>\n",
       "<p>418 rows × 12 columns</p>\n",
       "</div>"
      ],
      "text/plain": [
       "     PassengerId  Pclass                                          Name  \\\n",
       "0            892       3                              Kelly, Mr. James   \n",
       "1            893       3              Wilkes, Mrs. James (Ellen Needs)   \n",
       "2            894       2                     Myles, Mr. Thomas Francis   \n",
       "3            895       3                              Wirz, Mr. Albert   \n",
       "4            896       3  Hirvonen, Mrs. Alexander (Helga E Lindqvist)   \n",
       "..           ...     ...                                           ...   \n",
       "413         1305       3                            Spector, Mr. Woolf   \n",
       "414         1306       1                  Oliva y Ocana, Dona. Fermina   \n",
       "415         1307       3                  Saether, Mr. Simon Sivertsen   \n",
       "416         1308       3                           Ware, Mr. Frederick   \n",
       "417         1309       3                      Peter, Master. Michael J   \n",
       "\n",
       "        Sex   Age  SibSp  Parch              Ticket      Fare Cabin Embarked  \\\n",
       "0      male  34.5      0      0              330911    7.8292   NaN        Q   \n",
       "1    female  47.0      1      0              363272    7.0000   NaN        S   \n",
       "2      male  62.0      0      0              240276    9.6875   NaN        Q   \n",
       "3      male  27.0      0      0              315154    8.6625   NaN        S   \n",
       "4    female  22.0      1      1             3101298   12.2875   NaN        S   \n",
       "..      ...   ...    ...    ...                 ...       ...   ...      ...   \n",
       "413    male   NaN      0      0           A.5. 3236    8.0500   NaN        S   \n",
       "414  female  39.0      0      0            PC 17758  108.9000  C105        C   \n",
       "415    male  38.5      0      0  SOTON/O.Q. 3101262    7.2500   NaN        S   \n",
       "416    male   NaN      0      0              359309    8.0500   NaN        S   \n",
       "417    male   NaN      1      1                2668   22.3583   NaN        C   \n",
       "\n",
       "     Survived  \n",
       "0           0  \n",
       "1           1  \n",
       "2           0  \n",
       "3           0  \n",
       "4           1  \n",
       "..        ...  \n",
       "413         0  \n",
       "414         1  \n",
       "415         0  \n",
       "416         0  \n",
       "417         0  \n",
       "\n",
       "[418 rows x 12 columns]"
      ]
     },
     "execution_count": 6,
     "metadata": {},
     "output_type": "execute_result"
    }
   ],
   "source": [
    "test_df = pd.merge(test_df, GS_df, on='PassengerId', how='inner')\n",
    "test_df"
   ]
  },
  {
   "cell_type": "markdown",
   "id": "6d25ce93",
   "metadata": {
    "papermill": {
     "duration": 0.015385,
     "end_time": "2023-07-03T14:15:34.960688",
     "exception": false,
     "start_time": "2023-07-03T14:15:34.945303",
     "status": "completed"
    },
    "tags": []
   },
   "source": [
    "#   ****Data preparation****\n",
    "\n",
    "* Handle Missing Values\n",
    "* Extract varaible \n",
    "* Remove outliers\n",
    "\n"
   ]
  },
  {
   "cell_type": "code",
   "execution_count": 7,
   "id": "892cbbcd",
   "metadata": {
    "execution": {
     "iopub.execute_input": "2023-07-03T14:15:34.993865Z",
     "iopub.status.busy": "2023-07-03T14:15:34.993103Z",
     "iopub.status.idle": "2023-07-03T14:15:35.002966Z",
     "shell.execute_reply": "2023-07-03T14:15:35.002119Z"
    },
    "papermill": {
     "duration": 0.029445,
     "end_time": "2023-07-03T14:15:35.005562",
     "exception": false,
     "start_time": "2023-07-03T14:15:34.976117",
     "status": "completed"
    },
    "tags": []
   },
   "outputs": [
    {
     "data": {
      "text/plain": [
       "Survived      0\n",
       "Pclass        0\n",
       "Name          0\n",
       "Sex           0\n",
       "Age         177\n",
       "SibSp         0\n",
       "Parch         0\n",
       "Ticket        0\n",
       "Fare          0\n",
       "Cabin       687\n",
       "Embarked      2\n",
       "dtype: int64"
      ]
     },
     "execution_count": 7,
     "metadata": {},
     "output_type": "execute_result"
    }
   ],
   "source": [
    "#Handle Missing Values\n",
    "train_df.isnull().sum()"
   ]
  },
  {
   "cell_type": "code",
   "execution_count": 8,
   "id": "70eb3eb9",
   "metadata": {
    "execution": {
     "iopub.execute_input": "2023-07-03T14:15:35.052246Z",
     "iopub.status.busy": "2023-07-03T14:15:35.051514Z",
     "iopub.status.idle": "2023-07-03T14:15:35.060620Z",
     "shell.execute_reply": "2023-07-03T14:15:35.059760Z"
    },
    "papermill": {
     "duration": 0.035745,
     "end_time": "2023-07-03T14:15:35.063581",
     "exception": false,
     "start_time": "2023-07-03T14:15:35.027836",
     "status": "completed"
    },
    "tags": []
   },
   "outputs": [],
   "source": [
    "train_df=train_df.dropna()\n",
    "test_df=test_df.dropna()"
   ]
  },
  {
   "cell_type": "code",
   "execution_count": 9,
   "id": "fd84a2b3",
   "metadata": {
    "execution": {
     "iopub.execute_input": "2023-07-03T14:15:35.112400Z",
     "iopub.status.busy": "2023-07-03T14:15:35.111691Z",
     "iopub.status.idle": "2023-07-03T14:15:35.121224Z",
     "shell.execute_reply": "2023-07-03T14:15:35.119911Z"
    },
    "papermill": {
     "duration": 0.038051,
     "end_time": "2023-07-03T14:15:35.124574",
     "exception": false,
     "start_time": "2023-07-03T14:15:35.086523",
     "status": "completed"
    },
    "tags": []
   },
   "outputs": [
    {
     "data": {
      "text/plain": [
       "Survived    0\n",
       "Pclass      0\n",
       "Name        0\n",
       "Sex         0\n",
       "Age         0\n",
       "SibSp       0\n",
       "Parch       0\n",
       "Ticket      0\n",
       "Fare        0\n",
       "Cabin       0\n",
       "Embarked    0\n",
       "dtype: int64"
      ]
     },
     "execution_count": 9,
     "metadata": {},
     "output_type": "execute_result"
    }
   ],
   "source": [
    "train_df.isnull().sum()"
   ]
  },
  {
   "cell_type": "code",
   "execution_count": 10,
   "id": "6e1835ca",
   "metadata": {
    "execution": {
     "iopub.execute_input": "2023-07-03T14:15:35.168822Z",
     "iopub.status.busy": "2023-07-03T14:15:35.167695Z",
     "iopub.status.idle": "2023-07-03T14:15:36.295620Z",
     "shell.execute_reply": "2023-07-03T14:15:36.294464Z"
    },
    "papermill": {
     "duration": 1.153549,
     "end_time": "2023-07-03T14:15:36.298310",
     "exception": false,
     "start_time": "2023-07-03T14:15:35.144761",
     "status": "completed"
    },
    "tags": []
   },
   "outputs": [
    {
     "data": {
      "text/plain": [
       "<seaborn.axisgrid.FacetGrid at 0x79a99d372830>"
      ]
     },
     "execution_count": 10,
     "metadata": {},
     "output_type": "execute_result"
    },
    {
     "data": {
      "image/png": "[encoded data removed]",
      "text/plain": [
       "<Figure size 600x300 with 2 Axes>"
      ]
     },
     "metadata": {},
     "output_type": "display_data"
    }
   ],
   "source": [
    "# Removing Outliers\n",
    "import seaborn as sns\n",
    "g = sns.FacetGrid(train_df, col='Survived')\n",
    "g.map(plt.hist,'Age', bins=20)"
   ]
  },
  {
   "cell_type": "code",
   "execution_count": 11,
   "id": "4f22dd38",
   "metadata": {
    "execution": {
     "iopub.execute_input": "2023-07-03T14:15:36.335791Z",
     "iopub.status.busy": "2023-07-03T14:15:36.334648Z",
     "iopub.status.idle": "2023-07-03T14:15:36.341649Z",
     "shell.execute_reply": "2023-07-03T14:15:36.340900Z"
    },
    "papermill": {
     "duration": 0.028296,
     "end_time": "2023-07-03T14:15:36.343698",
     "exception": false,
     "start_time": "2023-07-03T14:15:36.315402",
     "status": "completed"
    },
    "tags": []
   },
   "outputs": [
    {
     "data": {
      "text/plain": [
       "0.92"
      ]
     },
     "execution_count": 11,
     "metadata": {},
     "output_type": "execute_result"
    }
   ],
   "source": [
    "train_df['Age'].min()"
   ]
  },
  {
   "cell_type": "code",
   "execution_count": 12,
   "id": "182058a7",
   "metadata": {
    "execution": {
     "iopub.execute_input": "2023-07-03T14:15:36.378449Z",
     "iopub.status.busy": "2023-07-03T14:15:36.377751Z",
     "iopub.status.idle": "2023-07-03T14:15:36.404417Z",
     "shell.execute_reply": "2023-07-03T14:15:36.403312Z"
    },
    "papermill": {
     "duration": 0.046922,
     "end_time": "2023-07-03T14:15:36.406717",
     "exception": false,
     "start_time": "2023-07-03T14:15:36.359795",
     "status": "completed"
    },
    "tags": []
   },
   "outputs": [
    {
     "data": {
      "text/html": [
       "<div>\n",
       "<style scoped>\n",
       "    .dataframe tbody tr th:only-of-type {\n",
       "        vertical-align: middle;\n",
       "    }\n",
       "\n",
       "    .dataframe tbody tr th {\n",
       "        vertical-align: top;\n",
       "    }\n",
       "\n",
       "    .dataframe thead th {\n",
       "        text-align: right;\n",
       "    }\n",
       "</style>\n",
       "<table border=\"1\" class=\"dataframe\">\n",
       "  <thead>\n",
       "    <tr style=\"text-align: right;\">\n",
       "      <th></th>\n",
       "      <th>Survived</th>\n",
       "      <th>Pclass</th>\n",
       "      <th>Name</th>\n",
       "      <th>Sex</th>\n",
       "      <th>Age</th>\n",
       "      <th>SibSp</th>\n",
       "      <th>Parch</th>\n",
       "      <th>Ticket</th>\n",
       "      <th>Fare</th>\n",
       "      <th>Cabin</th>\n",
       "      <th>Embarked</th>\n",
       "    </tr>\n",
       "  </thead>\n",
       "  <tbody>\n",
       "    <tr>\n",
       "      <th>1</th>\n",
       "      <td>1</td>\n",
       "      <td>1</td>\n",
       "      <td>Cumings, Mrs. John Bradley (Florence Briggs Th...</td>\n",
       "      <td>female</td>\n",
       "      <td>38.0</td>\n",
       "      <td>1</td>\n",
       "      <td>0</td>\n",
       "      <td>PC 17599</td>\n",
       "      <td>71.2833</td>\n",
       "      <td>C85</td>\n",
       "      <td>C</td>\n",
       "    </tr>\n",
       "    <tr>\n",
       "      <th>3</th>\n",
       "      <td>1</td>\n",
       "      <td>1</td>\n",
       "      <td>Futrelle, Mrs. Jacques Heath (Lily May Peel)</td>\n",
       "      <td>female</td>\n",
       "      <td>35.0</td>\n",
       "      <td>1</td>\n",
       "      <td>0</td>\n",
       "      <td>113803</td>\n",
       "      <td>53.1000</td>\n",
       "      <td>C123</td>\n",
       "      <td>S</td>\n",
       "    </tr>\n",
       "    <tr>\n",
       "      <th>6</th>\n",
       "      <td>0</td>\n",
       "      <td>1</td>\n",
       "      <td>McCarthy, Mr. Timothy J</td>\n",
       "      <td>male</td>\n",
       "      <td>54.0</td>\n",
       "      <td>0</td>\n",
       "      <td>0</td>\n",
       "      <td>17463</td>\n",
       "      <td>51.8625</td>\n",
       "      <td>E46</td>\n",
       "      <td>S</td>\n",
       "    </tr>\n",
       "    <tr>\n",
       "      <th>11</th>\n",
       "      <td>1</td>\n",
       "      <td>1</td>\n",
       "      <td>Bonnell, Miss. Elizabeth</td>\n",
       "      <td>female</td>\n",
       "      <td>58.0</td>\n",
       "      <td>0</td>\n",
       "      <td>0</td>\n",
       "      <td>113783</td>\n",
       "      <td>26.5500</td>\n",
       "      <td>C103</td>\n",
       "      <td>S</td>\n",
       "    </tr>\n",
       "    <tr>\n",
       "      <th>21</th>\n",
       "      <td>1</td>\n",
       "      <td>2</td>\n",
       "      <td>Beesley, Mr. Lawrence</td>\n",
       "      <td>male</td>\n",
       "      <td>34.0</td>\n",
       "      <td>0</td>\n",
       "      <td>0</td>\n",
       "      <td>248698</td>\n",
       "      <td>13.0000</td>\n",
       "      <td>D56</td>\n",
       "      <td>S</td>\n",
       "    </tr>\n",
       "    <tr>\n",
       "      <th>...</th>\n",
       "      <td>...</td>\n",
       "      <td>...</td>\n",
       "      <td>...</td>\n",
       "      <td>...</td>\n",
       "      <td>...</td>\n",
       "      <td>...</td>\n",
       "      <td>...</td>\n",
       "      <td>...</td>\n",
       "      <td>...</td>\n",
       "      <td>...</td>\n",
       "      <td>...</td>\n",
       "    </tr>\n",
       "    <tr>\n",
       "      <th>867</th>\n",
       "      <td>0</td>\n",
       "      <td>1</td>\n",
       "      <td>Roebling, Mr. Washington Augustus II</td>\n",
       "      <td>male</td>\n",
       "      <td>31.0</td>\n",
       "      <td>0</td>\n",
       "      <td>0</td>\n",
       "      <td>PC 17590</td>\n",
       "      <td>50.4958</td>\n",
       "      <td>A24</td>\n",
       "      <td>S</td>\n",
       "    </tr>\n",
       "    <tr>\n",
       "      <th>871</th>\n",
       "      <td>1</td>\n",
       "      <td>1</td>\n",
       "      <td>Beckwith, Mrs. Richard Leonard (Sallie Monypeny)</td>\n",
       "      <td>female</td>\n",
       "      <td>47.0</td>\n",
       "      <td>1</td>\n",
       "      <td>1</td>\n",
       "      <td>11751</td>\n",
       "      <td>52.5542</td>\n",
       "      <td>D35</td>\n",
       "      <td>S</td>\n",
       "    </tr>\n",
       "    <tr>\n",
       "      <th>872</th>\n",
       "      <td>0</td>\n",
       "      <td>1</td>\n",
       "      <td>Carlsson, Mr. Frans Olof</td>\n",
       "      <td>male</td>\n",
       "      <td>33.0</td>\n",
       "      <td>0</td>\n",
       "      <td>0</td>\n",
       "      <td>695</td>\n",
       "      <td>5.0000</td>\n",
       "      <td>B51 B53 B55</td>\n",
       "      <td>S</td>\n",
       "    </tr>\n",
       "    <tr>\n",
       "      <th>879</th>\n",
       "      <td>1</td>\n",
       "      <td>1</td>\n",
       "      <td>Potter, Mrs. Thomas Jr (Lily Alexenia Wilson)</td>\n",
       "      <td>female</td>\n",
       "      <td>56.0</td>\n",
       "      <td>0</td>\n",
       "      <td>1</td>\n",
       "      <td>11767</td>\n",
       "      <td>83.1583</td>\n",
       "      <td>C50</td>\n",
       "      <td>C</td>\n",
       "    </tr>\n",
       "    <tr>\n",
       "      <th>889</th>\n",
       "      <td>1</td>\n",
       "      <td>1</td>\n",
       "      <td>Behr, Mr. Karl Howell</td>\n",
       "      <td>male</td>\n",
       "      <td>26.0</td>\n",
       "      <td>0</td>\n",
       "      <td>0</td>\n",
       "      <td>111369</td>\n",
       "      <td>30.0000</td>\n",
       "      <td>C148</td>\n",
       "      <td>C</td>\n",
       "    </tr>\n",
       "  </tbody>\n",
       "</table>\n",
       "<p>144 rows × 11 columns</p>\n",
       "</div>"
      ],
      "text/plain": [
       "     Survived  Pclass                                               Name  \\\n",
       "1           1       1  Cumings, Mrs. John Bradley (Florence Briggs Th...   \n",
       "3           1       1       Futrelle, Mrs. Jacques Heath (Lily May Peel)   \n",
       "6           0       1                            McCarthy, Mr. Timothy J   \n",
       "11          1       1                           Bonnell, Miss. Elizabeth   \n",
       "21          1       2                              Beesley, Mr. Lawrence   \n",
       "..        ...     ...                                                ...   \n",
       "867         0       1               Roebling, Mr. Washington Augustus II   \n",
       "871         1       1   Beckwith, Mrs. Richard Leonard (Sallie Monypeny)   \n",
       "872         0       1                           Carlsson, Mr. Frans Olof   \n",
       "879         1       1      Potter, Mrs. Thomas Jr (Lily Alexenia Wilson)   \n",
       "889         1       1                              Behr, Mr. Karl Howell   \n",
       "\n",
       "        Sex   Age  SibSp  Parch    Ticket     Fare        Cabin Embarked  \n",
       "1    female  38.0      1      0  PC 17599  71.2833          C85        C  \n",
       "3    female  35.0      1      0    113803  53.1000         C123        S  \n",
       "6      male  54.0      0      0     17463  51.8625          E46        S  \n",
       "11   female  58.0      0      0    113783  26.5500         C103        S  \n",
       "21     male  34.0      0      0    248698  13.0000          D56        S  \n",
       "..      ...   ...    ...    ...       ...      ...          ...      ...  \n",
       "867    male  31.0      0      0  PC 17590  50.4958          A24        S  \n",
       "871  female  47.0      1      1     11751  52.5542          D35        S  \n",
       "872    male  33.0      0      0       695   5.0000  B51 B53 B55        S  \n",
       "879  female  56.0      0      1     11767  83.1583          C50        C  \n",
       "889    male  26.0      0      0    111369  30.0000         C148        C  \n",
       "\n",
       "[144 rows x 11 columns]"
      ]
     },
     "execution_count": 12,
     "metadata": {},
     "output_type": "execute_result"
    }
   ],
   "source": [
    "train_df1=train_df[train_df['Age'] <= 60 ][train_df.columns]\n",
    "train_df2=train_df1[train_df1['Age']>= 20 ][train_df1.columns]\n",
    "# or (train_df['Age'].max())\n",
    "train_df2\n"
   ]
  },
  {
   "cell_type": "code",
   "execution_count": 13,
   "id": "a62fef5d",
   "metadata": {
    "execution": {
     "iopub.execute_input": "2023-07-03T14:15:36.442684Z",
     "iopub.status.busy": "2023-07-03T14:15:36.442213Z",
     "iopub.status.idle": "2023-07-03T14:15:37.190364Z",
     "shell.execute_reply": "2023-07-03T14:15:37.189176Z"
    },
    "papermill": {
     "duration": 0.769652,
     "end_time": "2023-07-03T14:15:37.192911",
     "exception": false,
     "start_time": "2023-07-03T14:15:36.423259",
     "status": "completed"
    },
    "tags": []
   },
   "outputs": [
    {
     "data": {
      "image/png": "[encoded data removed]",
      "text/plain": [
       "<Figure size 600x300 with 2 Axes>"
      ]
     },
     "metadata": {},
     "output_type": "display_data"
    }
   ],
   "source": [
    "train_df=train_df2\n",
    "g = sns.FacetGrid(train_df, col='Survived')\n",
    "g.map(plt.hist,'Age', bins=10)\n",
    "train_df['Age'].min()\n",
    "\n",
    "train_df=train_df2\n"
   ]
  },
  {
   "cell_type": "code",
   "execution_count": 14,
   "id": "e1c07eb2",
   "metadata": {
    "execution": {
     "iopub.execute_input": "2023-07-03T14:15:37.229527Z",
     "iopub.status.busy": "2023-07-03T14:15:37.229076Z",
     "iopub.status.idle": "2023-07-03T14:15:37.238660Z",
     "shell.execute_reply": "2023-07-03T14:15:37.237660Z"
    },
    "papermill": {
     "duration": 0.029996,
     "end_time": "2023-07-03T14:15:37.240844",
     "exception": false,
     "start_time": "2023-07-03T14:15:37.210848",
     "status": "completed"
    },
    "tags": []
   },
   "outputs": [],
   "source": [
    "# Extract varaibles\n",
    "x_train= pd.DataFrame(train_df[['Pclass',\"Age\",\"SibSp\",'Parch','Fare']])\n",
    "y_train= pd.DataFrame(train_df[\"Survived\"])\n",
    "\n",
    "x_test= pd.DataFrame(test_df[['Pclass',\"Age\",\"SibSp\",'Parch','Fare']])\n",
    "y_test= pd.DataFrame(test_df[\"Survived\"])\n"
   ]
  },
  {
   "cell_type": "code",
   "execution_count": 15,
   "id": "1b8ef522",
   "metadata": {
    "execution": {
     "iopub.execute_input": "2023-07-03T14:15:37.279886Z",
     "iopub.status.busy": "2023-07-03T14:15:37.278378Z",
     "iopub.status.idle": "2023-07-03T14:15:37.297822Z",
     "shell.execute_reply": "2023-07-03T14:15:37.296845Z"
    },
    "papermill": {
     "duration": 0.041229,
     "end_time": "2023-07-03T14:15:37.300248",
     "exception": false,
     "start_time": "2023-07-03T14:15:37.259019",
     "status": "completed"
    },
    "tags": []
   },
   "outputs": [
    {
     "data": {
      "text/html": [
       "<div>\n",
       "<style scoped>\n",
       "    .dataframe tbody tr th:only-of-type {\n",
       "        vertical-align: middle;\n",
       "    }\n",
       "\n",
       "    .dataframe tbody tr th {\n",
       "        vertical-align: top;\n",
       "    }\n",
       "\n",
       "    .dataframe thead th {\n",
       "        text-align: right;\n",
       "    }\n",
       "</style>\n",
       "<table border=\"1\" class=\"dataframe\">\n",
       "  <thead>\n",
       "    <tr style=\"text-align: right;\">\n",
       "      <th></th>\n",
       "      <th>Pclass</th>\n",
       "      <th>Age</th>\n",
       "      <th>SibSp</th>\n",
       "      <th>Parch</th>\n",
       "      <th>Fare</th>\n",
       "    </tr>\n",
       "  </thead>\n",
       "  <tbody>\n",
       "    <tr>\n",
       "      <th>1</th>\n",
       "      <td>1</td>\n",
       "      <td>38.0</td>\n",
       "      <td>1</td>\n",
       "      <td>0</td>\n",
       "      <td>71.2833</td>\n",
       "    </tr>\n",
       "    <tr>\n",
       "      <th>3</th>\n",
       "      <td>1</td>\n",
       "      <td>35.0</td>\n",
       "      <td>1</td>\n",
       "      <td>0</td>\n",
       "      <td>53.1000</td>\n",
       "    </tr>\n",
       "    <tr>\n",
       "      <th>6</th>\n",
       "      <td>1</td>\n",
       "      <td>54.0</td>\n",
       "      <td>0</td>\n",
       "      <td>0</td>\n",
       "      <td>51.8625</td>\n",
       "    </tr>\n",
       "    <tr>\n",
       "      <th>11</th>\n",
       "      <td>1</td>\n",
       "      <td>58.0</td>\n",
       "      <td>0</td>\n",
       "      <td>0</td>\n",
       "      <td>26.5500</td>\n",
       "    </tr>\n",
       "    <tr>\n",
       "      <th>21</th>\n",
       "      <td>2</td>\n",
       "      <td>34.0</td>\n",
       "      <td>0</td>\n",
       "      <td>0</td>\n",
       "      <td>13.0000</td>\n",
       "    </tr>\n",
       "    <tr>\n",
       "      <th>...</th>\n",
       "      <td>...</td>\n",
       "      <td>...</td>\n",
       "      <td>...</td>\n",
       "      <td>...</td>\n",
       "      <td>...</td>\n",
       "    </tr>\n",
       "    <tr>\n",
       "      <th>867</th>\n",
       "      <td>1</td>\n",
       "      <td>31.0</td>\n",
       "      <td>0</td>\n",
       "      <td>0</td>\n",
       "      <td>50.4958</td>\n",
       "    </tr>\n",
       "    <tr>\n",
       "      <th>871</th>\n",
       "      <td>1</td>\n",
       "      <td>47.0</td>\n",
       "      <td>1</td>\n",
       "      <td>1</td>\n",
       "      <td>52.5542</td>\n",
       "    </tr>\n",
       "    <tr>\n",
       "      <th>872</th>\n",
       "      <td>1</td>\n",
       "      <td>33.0</td>\n",
       "      <td>0</td>\n",
       "      <td>0</td>\n",
       "      <td>5.0000</td>\n",
       "    </tr>\n",
       "    <tr>\n",
       "      <th>879</th>\n",
       "      <td>1</td>\n",
       "      <td>56.0</td>\n",
       "      <td>0</td>\n",
       "      <td>1</td>\n",
       "      <td>83.1583</td>\n",
       "    </tr>\n",
       "    <tr>\n",
       "      <th>889</th>\n",
       "      <td>1</td>\n",
       "      <td>26.0</td>\n",
       "      <td>0</td>\n",
       "      <td>0</td>\n",
       "      <td>30.0000</td>\n",
       "    </tr>\n",
       "  </tbody>\n",
       "</table>\n",
       "<p>144 rows × 5 columns</p>\n",
       "</div>"
      ],
      "text/plain": [
       "     Pclass   Age  SibSp  Parch     Fare\n",
       "1         1  38.0      1      0  71.2833\n",
       "3         1  35.0      1      0  53.1000\n",
       "6         1  54.0      0      0  51.8625\n",
       "11        1  58.0      0      0  26.5500\n",
       "21        2  34.0      0      0  13.0000\n",
       "..      ...   ...    ...    ...      ...\n",
       "867       1  31.0      0      0  50.4958\n",
       "871       1  47.0      1      1  52.5542\n",
       "872       1  33.0      0      0   5.0000\n",
       "879       1  56.0      0      1  83.1583\n",
       "889       1  26.0      0      0  30.0000\n",
       "\n",
       "[144 rows x 5 columns]"
      ]
     },
     "execution_count": 15,
     "metadata": {},
     "output_type": "execute_result"
    }
   ],
   "source": [
    "x_train"
   ]
  },
  {
   "cell_type": "code",
   "execution_count": 16,
   "id": "ec324316",
   "metadata": {
    "execution": {
     "iopub.execute_input": "2023-07-03T14:15:37.337481Z",
     "iopub.status.busy": "2023-07-03T14:15:37.337082Z",
     "iopub.status.idle": "2023-07-03T14:15:37.349011Z",
     "shell.execute_reply": "2023-07-03T14:15:37.347690Z"
    },
    "papermill": {
     "duration": 0.034581,
     "end_time": "2023-07-03T14:15:37.352036",
     "exception": false,
     "start_time": "2023-07-03T14:15:37.317455",
     "status": "completed"
    },
    "tags": []
   },
   "outputs": [
    {
     "data": {
      "text/html": [
       "<div>\n",
       "<style scoped>\n",
       "    .dataframe tbody tr th:only-of-type {\n",
       "        vertical-align: middle;\n",
       "    }\n",
       "\n",
       "    .dataframe tbody tr th {\n",
       "        vertical-align: top;\n",
       "    }\n",
       "\n",
       "    .dataframe thead th {\n",
       "        text-align: right;\n",
       "    }\n",
       "</style>\n",
       "<table border=\"1\" class=\"dataframe\">\n",
       "  <thead>\n",
       "    <tr style=\"text-align: right;\">\n",
       "      <th></th>\n",
       "      <th>Survived</th>\n",
       "    </tr>\n",
       "  </thead>\n",
       "  <tbody>\n",
       "    <tr>\n",
       "      <th>1</th>\n",
       "      <td>1</td>\n",
       "    </tr>\n",
       "    <tr>\n",
       "      <th>3</th>\n",
       "      <td>1</td>\n",
       "    </tr>\n",
       "    <tr>\n",
       "      <th>6</th>\n",
       "      <td>0</td>\n",
       "    </tr>\n",
       "    <tr>\n",
       "      <th>11</th>\n",
       "      <td>1</td>\n",
       "    </tr>\n",
       "    <tr>\n",
       "      <th>21</th>\n",
       "      <td>1</td>\n",
       "    </tr>\n",
       "    <tr>\n",
       "      <th>...</th>\n",
       "      <td>...</td>\n",
       "    </tr>\n",
       "    <tr>\n",
       "      <th>867</th>\n",
       "      <td>0</td>\n",
       "    </tr>\n",
       "    <tr>\n",
       "      <th>871</th>\n",
       "      <td>1</td>\n",
       "    </tr>\n",
       "    <tr>\n",
       "      <th>872</th>\n",
       "      <td>0</td>\n",
       "    </tr>\n",
       "    <tr>\n",
       "      <th>879</th>\n",
       "      <td>1</td>\n",
       "    </tr>\n",
       "    <tr>\n",
       "      <th>889</th>\n",
       "      <td>1</td>\n",
       "    </tr>\n",
       "  </tbody>\n",
       "</table>\n",
       "<p>144 rows × 1 columns</p>\n",
       "</div>"
      ],
      "text/plain": [
       "     Survived\n",
       "1           1\n",
       "3           1\n",
       "6           0\n",
       "11          1\n",
       "21          1\n",
       "..        ...\n",
       "867         0\n",
       "871         1\n",
       "872         0\n",
       "879         1\n",
       "889         1\n",
       "\n",
       "[144 rows x 1 columns]"
      ]
     },
     "execution_count": 16,
     "metadata": {},
     "output_type": "execute_result"
    }
   ],
   "source": [
    "y_train"
   ]
  },
  {
   "cell_type": "markdown",
   "id": "77d5aa75",
   "metadata": {
    "papermill": {
     "duration": 0.023489,
     "end_time": "2023-07-03T14:15:37.400276",
     "exception": false,
     "start_time": "2023-07-03T14:15:37.376787",
     "status": "completed"
    },
    "tags": []
   },
   "source": [
    "# **Model Training**"
   ]
  },
  {
   "cell_type": "markdown",
   "id": "6d0ac71c",
   "metadata": {
    "papermill": {
     "duration": 0.019552,
     "end_time": "2023-07-03T14:15:37.442462",
     "exception": false,
     "start_time": "2023-07-03T14:15:37.422910",
     "status": "completed"
    },
    "tags": []
   },
   "source": [
    "**Decision Tree:**"
   ]
  },
  {
   "cell_type": "code",
   "execution_count": 17,
   "id": "56f8ffd4",
   "metadata": {
    "execution": {
     "iopub.execute_input": "2023-07-03T14:15:37.484245Z",
     "iopub.status.busy": "2023-07-03T14:15:37.483833Z",
     "iopub.status.idle": "2023-07-03T14:15:37.488941Z",
     "shell.execute_reply": "2023-07-03T14:15:37.488116Z"
    },
    "papermill": {
     "duration": 0.027769,
     "end_time": "2023-07-03T14:15:37.491157",
     "exception": false,
     "start_time": "2023-07-03T14:15:37.463388",
     "status": "completed"
    },
    "tags": []
   },
   "outputs": [],
   "source": [
    "from sklearn.tree import DecisionTreeClassifier  \n",
    "import sklearn.metrics\n",
    "\n",
    "classifier= DecisionTreeClassifier(criterion='entropy', random_state=0)  \n",
    "# classifier.fit(x_train,y_train)"
   ]
  },
  {
   "cell_type": "markdown",
   "id": "a4e72b1c",
   "metadata": {
    "papermill": {
     "duration": 0.019279,
     "end_time": "2023-07-03T14:15:37.532849",
     "exception": false,
     "start_time": "2023-07-03T14:15:37.513570",
     "status": "completed"
    },
    "tags": []
   },
   "source": [
    "ANN:"
   ]
  },
  {
   "cell_type": "code",
   "execution_count": 18,
   "id": "e3c19e29",
   "metadata": {
    "execution": {
     "iopub.execute_input": "2023-07-03T14:15:37.579258Z",
     "iopub.status.busy": "2023-07-03T14:15:37.578728Z",
     "iopub.status.idle": "2023-07-03T14:15:37.586757Z",
     "shell.execute_reply": "2023-07-03T14:15:37.585337Z"
    },
    "papermill": {
     "duration": 0.032494,
     "end_time": "2023-07-03T14:15:37.589828",
     "exception": false,
     "start_time": "2023-07-03T14:15:37.557334",
     "status": "completed"
    },
    "tags": []
   },
   "outputs": [],
   "source": [
    "\n",
    "AdaBoost=AdaBoostClassifier(base_estimator=classifier,n_estimators=300,learning_rate=5)\n"
   ]
  },
  {
   "cell_type": "code",
   "execution_count": 19,
   "id": "04a018c1",
   "metadata": {
    "execution": {
     "iopub.execute_input": "2023-07-03T14:15:37.629168Z",
     "iopub.status.busy": "2023-07-03T14:15:37.628152Z",
     "iopub.status.idle": "2023-07-03T14:15:37.646240Z",
     "shell.execute_reply": "2023-07-03T14:15:37.645005Z"
    },
    "papermill": {
     "duration": 0.040006,
     "end_time": "2023-07-03T14:15:37.648847",
     "exception": false,
     "start_time": "2023-07-03T14:15:37.608841",
     "status": "completed"
    },
    "tags": []
   },
   "outputs": [
    {
     "name": "stderr",
     "output_type": "stream",
     "text": [
      "/opt/conda/lib/python3.10/site-packages/sklearn/utils/validation.py:1143: DataConversionWarning: A column-vector y was passed when a 1d array was expected. Please change the shape of y to (n_samples, ), for example using ravel().\n",
      "  y = column_or_1d(y, warn=True)\n",
      "/opt/conda/lib/python3.10/site-packages/sklearn/ensemble/_base.py:166: FutureWarning: `base_estimator` was renamed to `estimator` in version 1.2 and will be removed in 1.4.\n",
      "  warnings.warn(\n"
     ]
    }
   ],
   "source": [
    "\n",
    "\n",
    "boostmodel=AdaBoost.fit(x_train,y_train)\n"
   ]
  },
  {
   "cell_type": "code",
   "execution_count": 20,
   "id": "515c5980",
   "metadata": {
    "execution": {
     "iopub.execute_input": "2023-07-03T14:15:37.685860Z",
     "iopub.status.busy": "2023-07-03T14:15:37.685212Z",
     "iopub.status.idle": "2023-07-03T14:15:37.699955Z",
     "shell.execute_reply": "2023-07-03T14:15:37.699095Z"
    },
    "papermill": {
     "duration": 0.035708,
     "end_time": "2023-07-03T14:15:37.702073",
     "exception": false,
     "start_time": "2023-07-03T14:15:37.666365",
     "status": "completed"
    },
    "tags": []
   },
   "outputs": [
    {
     "data": {
      "text/plain": [
       "55.172413793103445"
      ]
     },
     "execution_count": 20,
     "metadata": {},
     "output_type": "execute_result"
    }
   ],
   "source": [
    "from sklearn import metrics\n",
    "y_pred=boostmodel.predict(x_test)\n",
    "predictions=metrics.accuracy_score(y_test,y_pred)\n",
    "\n",
    "predictions*100"
   ]
  },
  {
   "cell_type": "markdown",
   "id": "b8d1d716",
   "metadata": {
    "papermill": {
     "duration": 0.017266,
     "end_time": "2023-07-03T14:15:37.737120",
     "exception": false,
     "start_time": "2023-07-03T14:15:37.719854",
     "status": "completed"
    },
    "tags": []
   },
   "source": [
    "# **Prediction**"
   ]
  },
  {
   "cell_type": "code",
   "execution_count": 21,
   "id": "3e2a6ade",
   "metadata": {
    "execution": {
     "iopub.execute_input": "2023-07-03T14:15:37.774373Z",
     "iopub.status.busy": "2023-07-03T14:15:37.773958Z",
     "iopub.status.idle": "2023-07-03T14:15:37.791007Z",
     "shell.execute_reply": "2023-07-03T14:15:37.789950Z"
    },
    "papermill": {
     "duration": 0.038443,
     "end_time": "2023-07-03T14:15:37.793297",
     "exception": false,
     "start_time": "2023-07-03T14:15:37.754854",
     "status": "completed"
    },
    "tags": []
   },
   "outputs": [
    {
     "data": {
      "text/html": [
       "<div>\n",
       "<style scoped>\n",
       "    .dataframe tbody tr th:only-of-type {\n",
       "        vertical-align: middle;\n",
       "    }\n",
       "\n",
       "    .dataframe tbody tr th {\n",
       "        vertical-align: top;\n",
       "    }\n",
       "\n",
       "    .dataframe thead th {\n",
       "        text-align: right;\n",
       "    }\n",
       "</style>\n",
       "<table border=\"1\" class=\"dataframe\">\n",
       "  <thead>\n",
       "    <tr style=\"text-align: right;\">\n",
       "      <th></th>\n",
       "      <th>Pclass</th>\n",
       "      <th>Age</th>\n",
       "      <th>SibSp</th>\n",
       "      <th>Parch</th>\n",
       "      <th>Fare</th>\n",
       "    </tr>\n",
       "  </thead>\n",
       "  <tbody>\n",
       "    <tr>\n",
       "      <th>1</th>\n",
       "      <td>1</td>\n",
       "      <td>38.0</td>\n",
       "      <td>1</td>\n",
       "      <td>0</td>\n",
       "      <td>71.2833</td>\n",
       "    </tr>\n",
       "    <tr>\n",
       "      <th>3</th>\n",
       "      <td>1</td>\n",
       "      <td>35.0</td>\n",
       "      <td>1</td>\n",
       "      <td>0</td>\n",
       "      <td>53.1000</td>\n",
       "    </tr>\n",
       "    <tr>\n",
       "      <th>6</th>\n",
       "      <td>1</td>\n",
       "      <td>54.0</td>\n",
       "      <td>0</td>\n",
       "      <td>0</td>\n",
       "      <td>51.8625</td>\n",
       "    </tr>\n",
       "    <tr>\n",
       "      <th>11</th>\n",
       "      <td>1</td>\n",
       "      <td>58.0</td>\n",
       "      <td>0</td>\n",
       "      <td>0</td>\n",
       "      <td>26.5500</td>\n",
       "    </tr>\n",
       "    <tr>\n",
       "      <th>21</th>\n",
       "      <td>2</td>\n",
       "      <td>34.0</td>\n",
       "      <td>0</td>\n",
       "      <td>0</td>\n",
       "      <td>13.0000</td>\n",
       "    </tr>\n",
       "    <tr>\n",
       "      <th>...</th>\n",
       "      <td>...</td>\n",
       "      <td>...</td>\n",
       "      <td>...</td>\n",
       "      <td>...</td>\n",
       "      <td>...</td>\n",
       "    </tr>\n",
       "    <tr>\n",
       "      <th>867</th>\n",
       "      <td>1</td>\n",
       "      <td>31.0</td>\n",
       "      <td>0</td>\n",
       "      <td>0</td>\n",
       "      <td>50.4958</td>\n",
       "    </tr>\n",
       "    <tr>\n",
       "      <th>871</th>\n",
       "      <td>1</td>\n",
       "      <td>47.0</td>\n",
       "      <td>1</td>\n",
       "      <td>1</td>\n",
       "      <td>52.5542</td>\n",
       "    </tr>\n",
       "    <tr>\n",
       "      <th>872</th>\n",
       "      <td>1</td>\n",
       "      <td>33.0</td>\n",
       "      <td>0</td>\n",
       "      <td>0</td>\n",
       "      <td>5.0000</td>\n",
       "    </tr>\n",
       "    <tr>\n",
       "      <th>879</th>\n",
       "      <td>1</td>\n",
       "      <td>56.0</td>\n",
       "      <td>0</td>\n",
       "      <td>1</td>\n",
       "      <td>83.1583</td>\n",
       "    </tr>\n",
       "    <tr>\n",
       "      <th>889</th>\n",
       "      <td>1</td>\n",
       "      <td>26.0</td>\n",
       "      <td>0</td>\n",
       "      <td>0</td>\n",
       "      <td>30.0000</td>\n",
       "    </tr>\n",
       "  </tbody>\n",
       "</table>\n",
       "<p>144 rows × 5 columns</p>\n",
       "</div>"
      ],
      "text/plain": [
       "     Pclass   Age  SibSp  Parch     Fare\n",
       "1         1  38.0      1      0  71.2833\n",
       "3         1  35.0      1      0  53.1000\n",
       "6         1  54.0      0      0  51.8625\n",
       "11        1  58.0      0      0  26.5500\n",
       "21        2  34.0      0      0  13.0000\n",
       "..      ...   ...    ...    ...      ...\n",
       "867       1  31.0      0      0  50.4958\n",
       "871       1  47.0      1      1  52.5542\n",
       "872       1  33.0      0      0   5.0000\n",
       "879       1  56.0      0      1  83.1583\n",
       "889       1  26.0      0      0  30.0000\n",
       "\n",
       "[144 rows x 5 columns]"
      ]
     },
     "execution_count": 21,
     "metadata": {},
     "output_type": "execute_result"
    }
   ],
   "source": [
    "x_train"
   ]
  },
  {
   "cell_type": "code",
   "execution_count": 22,
   "id": "e78ecccb",
   "metadata": {
    "execution": {
     "iopub.execute_input": "2023-07-03T14:15:37.831192Z",
     "iopub.status.busy": "2023-07-03T14:15:37.830806Z",
     "iopub.status.idle": "2023-07-03T14:15:37.841449Z",
     "shell.execute_reply": "2023-07-03T14:15:37.840311Z"
    },
    "papermill": {
     "duration": 0.032665,
     "end_time": "2023-07-03T14:15:37.843953",
     "exception": false,
     "start_time": "2023-07-03T14:15:37.811288",
     "status": "completed"
    },
    "tags": []
   },
   "outputs": [
    {
     "name": "stderr",
     "output_type": "stream",
     "text": [
      "/opt/conda/lib/python3.10/site-packages/sklearn/base.py:439: UserWarning: X does not have valid feature names, but AdaBoostClassifier was fitted with feature names\n",
      "  warnings.warn(\n"
     ]
    },
    {
     "data": {
      "text/plain": [
       "array([1])"
      ]
     },
     "execution_count": 22,
     "metadata": {},
     "output_type": "execute_result"
    }
   ],
   "source": [
    "\n",
    "boostmodel.predict([[1,38.0,1,0,71.2833]])"
   ]
  },
  {
   "cell_type": "markdown",
   "id": "f1ac3798",
   "metadata": {
    "papermill": {
     "duration": 0.01798,
     "end_time": "2023-07-03T14:15:37.880231",
     "exception": false,
     "start_time": "2023-07-03T14:15:37.862251",
     "status": "completed"
    },
    "tags": []
   },
   "source": [
    "# **Test accuracy**"
   ]
  },
  {
   "cell_type": "code",
   "execution_count": 23,
   "id": "a92a5011",
   "metadata": {
    "execution": {
     "iopub.execute_input": "2023-07-03T14:15:37.918640Z",
     "iopub.status.busy": "2023-07-03T14:15:37.918220Z",
     "iopub.status.idle": "2023-07-03T14:15:37.927629Z",
     "shell.execute_reply": "2023-07-03T14:15:37.926471Z"
    },
    "papermill": {
     "duration": 0.031439,
     "end_time": "2023-07-03T14:15:37.929961",
     "exception": false,
     "start_time": "2023-07-03T14:15:37.898522",
     "status": "completed"
    },
    "tags": []
   },
   "outputs": [
    {
     "data": {
      "text/plain": [
       "Survived    87\n",
       "dtype: int64"
      ]
     },
     "execution_count": 23,
     "metadata": {},
     "output_type": "execute_result"
    }
   ],
   "source": [
    "y_test.count()\n"
   ]
  },
  {
   "cell_type": "code",
   "execution_count": 24,
   "id": "aa46101a",
   "metadata": {
    "execution": {
     "iopub.execute_input": "2023-07-03T14:15:37.969077Z",
     "iopub.status.busy": "2023-07-03T14:15:37.968637Z",
     "iopub.status.idle": "2023-07-03T14:15:37.980189Z",
     "shell.execute_reply": "2023-07-03T14:15:37.979391Z"
    },
    "papermill": {
     "duration": 0.033848,
     "end_time": "2023-07-03T14:15:37.982202",
     "exception": false,
     "start_time": "2023-07-03T14:15:37.948354",
     "status": "completed"
    },
    "tags": []
   },
   "outputs": [
    {
     "data": {
      "text/plain": [
       "0    87\n",
       "dtype: int64"
      ]
     },
     "execution_count": 24,
     "metadata": {},
     "output_type": "execute_result"
    }
   ],
   "source": [
    "y_predict=boostmodel.predict(x_test)\n",
    "y_predict=pd.DataFrame(y_predict)\n",
    "y_predict.count()"
   ]
  },
  {
   "cell_type": "code",
   "execution_count": 25,
   "id": "97567a45",
   "metadata": {
    "execution": {
     "iopub.execute_input": "2023-07-03T14:15:38.020989Z",
     "iopub.status.busy": "2023-07-03T14:15:38.020570Z",
     "iopub.status.idle": "2023-07-03T14:15:38.033833Z",
     "shell.execute_reply": "2023-07-03T14:15:38.032692Z"
    },
    "papermill": {
     "duration": 0.035555,
     "end_time": "2023-07-03T14:15:38.036181",
     "exception": false,
     "start_time": "2023-07-03T14:15:38.000626",
     "status": "completed"
    },
    "tags": []
   },
   "outputs": [],
   "source": [
    "\n",
    "from sklearn.metrics import confusion_matrix as CM\n",
    "from sklearn import metrics\n",
    "cm=CM(y_test,y_predict)"
   ]
  },
  {
   "cell_type": "code",
   "execution_count": 26,
   "id": "a9c98cf9",
   "metadata": {
    "execution": {
     "iopub.execute_input": "2023-07-03T14:15:38.075402Z",
     "iopub.status.busy": "2023-07-03T14:15:38.074699Z",
     "iopub.status.idle": "2023-07-03T14:15:38.080430Z",
     "shell.execute_reply": "2023-07-03T14:15:38.079677Z"
    },
    "papermill": {
     "duration": 0.027895,
     "end_time": "2023-07-03T14:15:38.082711",
     "exception": false,
     "start_time": "2023-07-03T14:15:38.054816",
     "status": "completed"
    },
    "tags": []
   },
   "outputs": [
    {
     "data": {
      "text/plain": [
       "array([[15, 28],\n",
       "       [11, 33]])"
      ]
     },
     "execution_count": 26,
     "metadata": {},
     "output_type": "execute_result"
    }
   ],
   "source": [
    "cm"
   ]
  },
  {
   "cell_type": "code",
   "execution_count": 27,
   "id": "7398f511",
   "metadata": {
    "execution": {
     "iopub.execute_input": "2023-07-03T14:15:38.123794Z",
     "iopub.status.busy": "2023-07-03T14:15:38.122445Z",
     "iopub.status.idle": "2023-07-03T14:15:38.139131Z",
     "shell.execute_reply": "2023-07-03T14:15:38.138239Z"
    },
    "papermill": {
     "duration": 0.039542,
     "end_time": "2023-07-03T14:15:38.141463",
     "exception": false,
     "start_time": "2023-07-03T14:15:38.101921",
     "status": "completed"
    },
    "tags": []
   },
   "outputs": [
    {
     "data": {
      "text/plain": [
       "55.172413793103445"
      ]
     },
     "execution_count": 27,
     "metadata": {},
     "output_type": "execute_result"
    }
   ],
   "source": [
    "acc=metrics.accuracy_score(y_test,y_predict)\n",
    "acc*100"
   ]
  },
  {
   "cell_type": "code",
   "execution_count": 28,
   "id": "af7d9ce8",
   "metadata": {
    "execution": {
     "iopub.execute_input": "2023-07-03T14:15:38.184087Z",
     "iopub.status.busy": "2023-07-03T14:15:38.182929Z",
     "iopub.status.idle": "2023-07-03T14:15:38.238195Z",
     "shell.execute_reply": "2023-07-03T14:15:38.236690Z"
    },
    "papermill": {
     "duration": 0.079761,
     "end_time": "2023-07-03T14:15:38.240479",
     "exception": false,
     "start_time": "2023-07-03T14:15:38.160718",
     "status": "completed"
    },
    "tags": []
   },
   "outputs": [
    {
     "name": "stdout",
     "output_type": "stream",
     "text": [
      "Accuracy   : 55.172413793103445\n",
      "Precision : 54.09836065573771\n",
      "Recall    : 75.0\n",
      "F1-score  : 62.85714285714287\n"
     ]
    }
   ],
   "source": [
    "# Finding precision and recall\n",
    "accuracy = metrics.accuracy_score(y_test, y_predict)\n",
    "print(\"Accuracy   :\", accuracy*100)\n",
    "precision = metrics.precision_score(y_test, y_predict)\n",
    "print(\"Precision :\", precision*100)\n",
    "recall = metrics.recall_score(y_test, y_predict)\n",
    "print(\"Recall    :\", recall*100)\n",
    "F1_score = metrics.f1_score(y_test, y_predict)\n",
    "print(\"F1-score  :\", F1_score*100)"
   ]
  },
  {
   "cell_type": "markdown",
   "id": "c3d8fe20",
   "metadata": {
    "papermill": {
     "duration": 0.018753,
     "end_time": "2023-07-03T14:15:38.278143",
     "exception": false,
     "start_time": "2023-07-03T14:15:38.259390",
     "status": "completed"
    },
    "tags": []
   },
   "source": [
    "# **Virsualization**"
   ]
  },
  {
   "cell_type": "code",
   "execution_count": 29,
   "id": "f1b7f98c",
   "metadata": {
    "execution": {
     "iopub.execute_input": "2023-07-03T14:15:38.318414Z",
     "iopub.status.busy": "2023-07-03T14:15:38.317507Z",
     "iopub.status.idle": "2023-07-03T14:15:38.623433Z",
     "shell.execute_reply": "2023-07-03T14:15:38.622099Z"
    },
    "papermill": {
     "duration": 0.32926,
     "end_time": "2023-07-03T14:15:38.626460",
     "exception": false,
     "start_time": "2023-07-03T14:15:38.297200",
     "status": "completed"
    },
    "tags": []
   },
   "outputs": [
    {
     "data": {
      "text/plain": [
       "[<matplotlib.lines.Line2D at 0x79a9885a1780>]"
      ]
     },
     "execution_count": 29,
     "metadata": {},
     "output_type": "execute_result"
    },
    {
     "data": {
      "image/png": "[encoded data removed]",
      "text/plain": [
       "<Figure size 640x480 with 1 Axes>"
      ]
     },
     "metadata": {},
     "output_type": "display_data"
    }
   ],
   "source": [
    "import numpy as np\n",
    "\n",
    "xpoints = train_df[train_df[\"Sex\"]==\"male\"]['Survived']\n",
    "ypoints = train_df[train_df[\"Sex\"]==\"male\"][\"Age\"]\n",
    "\n",
    "x1points = train_df[train_df[\"Sex\"]!=\"male\"]['Survived']\n",
    "y1points = train_df[train_df[\"Sex\"]!=\"male\"][\"Age\"]\n",
    "\n",
    "plt.plot(xpoints, ypoints,\".\")\n",
    "plt.plot(x1points, y1points,\"^\")\n",
    "\n",
    "\n",
    "\n"
   ]
  },
  {
   "cell_type": "code",
   "execution_count": 30,
   "id": "39184c9b",
   "metadata": {
    "execution": {
     "iopub.execute_input": "2023-07-03T14:15:38.667942Z",
     "iopub.status.busy": "2023-07-03T14:15:38.667174Z",
     "iopub.status.idle": "2023-07-03T14:15:38.675213Z",
     "shell.execute_reply": "2023-07-03T14:15:38.673792Z"
    },
    "papermill": {
     "duration": 0.031715,
     "end_time": "2023-07-03T14:15:38.677789",
     "exception": false,
     "start_time": "2023-07-03T14:15:38.646074",
     "status": "completed"
    },
    "tags": []
   },
   "outputs": [
    {
     "data": {
      "text/plain": [
       "(21.0, 60.0)"
      ]
     },
     "execution_count": 30,
     "metadata": {},
     "output_type": "execute_result"
    }
   ],
   "source": [
    "train_df[\"Age\"].min(),train_df[\"Age\"].max()"
   ]
  },
  {
   "cell_type": "code",
   "execution_count": 31,
   "id": "2424b478",
   "metadata": {
    "execution": {
     "iopub.execute_input": "2023-07-03T14:15:38.718814Z",
     "iopub.status.busy": "2023-07-03T14:15:38.718342Z",
     "iopub.status.idle": "2023-07-03T14:15:39.801894Z",
     "shell.execute_reply": "2023-07-03T14:15:39.800675Z"
    },
    "papermill": {
     "duration": 1.106957,
     "end_time": "2023-07-03T14:15:39.804540",
     "exception": false,
     "start_time": "2023-07-03T14:15:38.697583",
     "status": "completed"
    },
    "tags": []
   },
   "outputs": [
    {
     "data": {
      "text/plain": [
       "21.0"
      ]
     },
     "execution_count": 31,
     "metadata": {},
     "output_type": "execute_result"
    },
    {
     "data": {
      "image/png": "[encoded data removed]",
      "text/plain": [
       "<Figure size 672.111x300 with 2 Axes>"
      ]
     },
     "metadata": {},
     "output_type": "display_data"
    }
   ],
   "source": [
    "g = sns.FacetGrid(train_df, col='Sex',hue='Survived')\n",
    "g.map(plt.scatter,'Age','Fare',edgecolor =\"w\").add_legend()\n",
    "train_df['Age'].min()"
   ]
  },
  {
   "cell_type": "code",
   "execution_count": 32,
   "id": "a2cd8cd1",
   "metadata": {
    "execution": {
     "iopub.execute_input": "2023-07-03T14:15:39.855867Z",
     "iopub.status.busy": "2023-07-03T14:15:39.855330Z",
     "iopub.status.idle": "2023-07-03T14:15:40.419900Z",
     "shell.execute_reply": "2023-07-03T14:15:40.418693Z"
    },
    "papermill": {
     "duration": 0.595301,
     "end_time": "2023-07-03T14:15:40.422324",
     "exception": false,
     "start_time": "2023-07-03T14:15:39.827023",
     "status": "completed"
    },
    "tags": []
   },
   "outputs": [
    {
     "name": "stderr",
     "output_type": "stream",
     "text": [
      "/tmp/ipykernel_20/663931128.py:1: FutureWarning: The default value of numeric_only in DataFrame.corr is deprecated. In a future version, it will default to False. Select only valid columns or specify the value of numeric_only to silence this warning.\n",
      "  sns.heatmap(train_df.corr())\n"
     ]
    },
    {
     "data": {
      "text/plain": [
       "<Axes: >"
      ]
     },
     "execution_count": 32,
     "metadata": {},
     "output_type": "execute_result"
    },
    {
     "data": {
      "image/png": "[encoded data removed]",
      "text/plain": [
       "<Figure size 640x480 with 2 Axes>"
      ]
     },
     "metadata": {},
     "output_type": "display_data"
    }
   ],
   "source": [
    "sns.heatmap(train_df.corr())"
   ]
  },
  {
   "cell_type": "code",
   "execution_count": 33,
   "id": "e9484ce8",
   "metadata": {
    "execution": {
     "iopub.execute_input": "2023-07-03T14:15:40.467855Z",
     "iopub.status.busy": "2023-07-03T14:15:40.467105Z",
     "iopub.status.idle": "2023-07-03T14:15:40.875725Z",
     "shell.execute_reply": "2023-07-03T14:15:40.874572Z"
    },
    "papermill": {
     "duration": 0.434733,
     "end_time": "2023-07-03T14:15:40.877983",
     "exception": false,
     "start_time": "2023-07-03T14:15:40.443250",
     "status": "completed"
    },
    "tags": []
   },
   "outputs": [
    {
     "data": {
      "image/png": "[encoded data removed]",
      "text/plain": [
       "<Figure size 640x480 with 1 Axes>"
      ]
     },
     "metadata": {},
     "output_type": "display_data"
    }
   ],
   "source": [
    "sns.lineplot(x=\"Pclass\", y=\"Survived\", data=train_df)\n",
    "plt.show()"
   ]
  },
  {
   "cell_type": "code",
   "execution_count": 34,
   "id": "2bdc3aee",
   "metadata": {
    "execution": {
     "iopub.execute_input": "2023-07-03T14:15:40.923789Z",
     "iopub.status.busy": "2023-07-03T14:15:40.923196Z",
     "iopub.status.idle": "2023-07-03T14:15:41.329011Z",
     "shell.execute_reply": "2023-07-03T14:15:41.327866Z"
    },
    "papermill": {
     "duration": 0.432295,
     "end_time": "2023-07-03T14:15:41.331633",
     "exception": false,
     "start_time": "2023-07-03T14:15:40.899338",
     "status": "completed"
    },
    "tags": []
   },
   "outputs": [
    {
     "name": "stderr",
     "output_type": "stream",
     "text": [
      "/tmp/ipykernel_20/2418938664.py:1: UserWarning: \n",
      "\n",
      "`distplot` is a deprecated function and will be removed in seaborn v0.14.0.\n",
      "\n",
      "Please adapt your code to use either `displot` (a figure-level function with\n",
      "similar flexibility) or `histplot` (an axes-level function for histograms).\n",
      "\n",
      "For a guide to updating your code to use the new functions, please see\n",
      "https://gist.github.com/mwaskom/de44147ed2974457ad6372750bbe5751\n",
      "\n",
      "  sns.distplot(train_df['Parch'], kde = True, color ='red', bins = 30)\n"
     ]
    },
    {
     "data": {
      "text/plain": [
       "<Axes: xlabel='Parch', ylabel='Density'>"
      ]
     },
     "execution_count": 34,
     "metadata": {},
     "output_type": "execute_result"
    },
    {
     "data": {
      "image/png": "[encoded data removed]",
      "text/plain": [
       "<Figure size 640x480 with 1 Axes>"
      ]
     },
     "metadata": {},
     "output_type": "display_data"
    }
   ],
   "source": [
    "\n",
    "sns.distplot(train_df['Parch'], kde = True, color ='red', bins = 30)\n"
   ]
  },
  {
   "cell_type": "code",
   "execution_count": 35,
   "id": "2d294fe3",
   "metadata": {
    "execution": {
     "iopub.execute_input": "2023-07-03T14:15:41.379137Z",
     "iopub.status.busy": "2023-07-03T14:15:41.378410Z",
     "iopub.status.idle": "2023-07-03T14:15:41.731021Z",
     "shell.execute_reply": "2023-07-03T14:15:41.729490Z"
    },
    "papermill": {
     "duration": 0.379758,
     "end_time": "2023-07-03T14:15:41.734136",
     "exception": false,
     "start_time": "2023-07-03T14:15:41.354378",
     "status": "completed"
    },
    "tags": []
   },
   "outputs": [
    {
     "data": {
      "text/plain": [
       "<Axes: xlabel='Parch', ylabel='Survived'>"
      ]
     },
     "execution_count": 35,
     "metadata": {},
     "output_type": "execute_result"
    },
    {
     "data": {
      "image/png": "[encoded data removed]",
      "text/plain": [
       "<Figure size 640x480 with 1 Axes>"
      ]
     },
     "metadata": {},
     "output_type": "display_data"
    }
   ],
   "source": [
    "\n",
    "sns.barplot(data=train_df,x=\"Parch\",y=\"Survived\", palette='bright')"
   ]
  },
  {
   "cell_type": "code",
   "execution_count": 36,
   "id": "ee456f8e",
   "metadata": {
    "execution": {
     "iopub.execute_input": "2023-07-03T14:15:41.784398Z",
     "iopub.status.busy": "2023-07-03T14:15:41.783959Z",
     "iopub.status.idle": "2023-07-03T14:15:42.489370Z",
     "shell.execute_reply": "2023-07-03T14:15:42.488091Z"
    },
    "papermill": {
     "duration": 0.733927,
     "end_time": "2023-07-03T14:15:42.492305",
     "exception": false,
     "start_time": "2023-07-03T14:15:41.758378",
     "status": "completed"
    },
    "tags": []
   },
   "outputs": [
    {
     "data": {
      "text/plain": [
       "<seaborn.axisgrid.FacetGrid at 0x79a9885a2950>"
      ]
     },
     "execution_count": 36,
     "metadata": {},
     "output_type": "execute_result"
    },
    {
     "data": {
      "image/png": "[encoded data removed]",
      "text/plain": [
       "<Figure size 600x300 with 2 Axes>"
      ]
     },
     "metadata": {},
     "output_type": "display_data"
    }
   ],
   "source": [
    "\n",
    "sea = sns.FacetGrid(train_df, col = \"Survived\")\n",
    "sea.map(sns.histplot,\"Survived\",\"Fare\")"
   ]
  },
  {
   "cell_type": "code",
   "execution_count": 37,
   "id": "57ae2c34",
   "metadata": {
    "execution": {
     "iopub.execute_input": "2023-07-03T14:15:42.541531Z",
     "iopub.status.busy": "2023-07-03T14:15:42.541144Z",
     "iopub.status.idle": "2023-07-03T14:15:42.724720Z",
     "shell.execute_reply": "2023-07-03T14:15:42.723571Z"
    },
    "papermill": {
     "duration": 0.2106,
     "end_time": "2023-07-03T14:15:42.727414",
     "exception": false,
     "start_time": "2023-07-03T14:15:42.516814",
     "status": "completed"
    },
    "tags": []
   },
   "outputs": [
    {
     "data": {
      "text/plain": [
       "<Axes: xlabel='SibSp', ylabel='count'>"
      ]
     },
     "execution_count": 37,
     "metadata": {},
     "output_type": "execute_result"
    },
    {
     "data": {
      "image/png": "[encoded data removed]",
      "text/plain": [
       "<Figure size 640x480 with 1 Axes>"
      ]
     },
     "metadata": {},
     "output_type": "display_data"
    }
   ],
   "source": [
    "# sns.barplot(data=train_df,x=\"SibSp\",y='Survived',color='y')\n",
    "\n",
    "\n",
    "sns.countplot(x=train_df['SibSp'],palette='pastel')"
   ]
  },
  {
   "cell_type": "markdown",
   "id": "4dd29ad1",
   "metadata": {
    "papermill": {
     "duration": 0.024688,
     "end_time": "2023-07-03T14:15:42.776504",
     "exception": false,
     "start_time": "2023-07-03T14:15:42.751816",
     "status": "completed"
    },
    "tags": []
   },
   "source": [
    "# **Submission**"
   ]
  },
  {
   "cell_type": "code",
   "execution_count": 38,
   "id": "c318b77f",
   "metadata": {
    "execution": {
     "iopub.execute_input": "2023-07-03T14:15:42.825755Z",
     "iopub.status.busy": "2023-07-03T14:15:42.824924Z",
     "iopub.status.idle": "2023-07-03T14:15:42.837120Z",
     "shell.execute_reply": "2023-07-03T14:15:42.835738Z"
    },
    "papermill": {
     "duration": 0.042098,
     "end_time": "2023-07-03T14:15:42.841974",
     "exception": false,
     "start_time": "2023-07-03T14:15:42.799876",
     "status": "completed"
    },
    "tags": []
   },
   "outputs": [],
   "source": [
    "\n",
    "test_df=pd.concat([test_df,GS_df['Survived']],axis = 1).dropna()"
   ]
  },
  {
   "cell_type": "code",
   "execution_count": 39,
   "id": "23fc3758",
   "metadata": {
    "execution": {
     "iopub.execute_input": "2023-07-03T14:15:42.896702Z",
     "iopub.status.busy": "2023-07-03T14:15:42.895845Z",
     "iopub.status.idle": "2023-07-03T14:15:42.920872Z",
     "shell.execute_reply": "2023-07-03T14:15:42.920033Z"
    },
    "papermill": {
     "duration": 0.052367,
     "end_time": "2023-07-03T14:15:42.923245",
     "exception": false,
     "start_time": "2023-07-03T14:15:42.870878",
     "status": "completed"
    },
    "tags": []
   },
   "outputs": [
    {
     "data": {
      "text/html": [
       "<div>\n",
       "<style scoped>\n",
       "    .dataframe tbody tr th:only-of-type {\n",
       "        vertical-align: middle;\n",
       "    }\n",
       "\n",
       "    .dataframe tbody tr th {\n",
       "        vertical-align: top;\n",
       "    }\n",
       "\n",
       "    .dataframe thead th {\n",
       "        text-align: right;\n",
       "    }\n",
       "</style>\n",
       "<table border=\"1\" class=\"dataframe\">\n",
       "  <thead>\n",
       "    <tr style=\"text-align: right;\">\n",
       "      <th></th>\n",
       "      <th>PassengerId</th>\n",
       "      <th>Survived</th>\n",
       "    </tr>\n",
       "  </thead>\n",
       "  <tbody>\n",
       "    <tr>\n",
       "      <th>12</th>\n",
       "      <td>904.0</td>\n",
       "      <td>1</td>\n",
       "    </tr>\n",
       "    <tr>\n",
       "      <th>14</th>\n",
       "      <td>906.0</td>\n",
       "      <td>0</td>\n",
       "    </tr>\n",
       "    <tr>\n",
       "      <th>24</th>\n",
       "      <td>916.0</td>\n",
       "      <td>1</td>\n",
       "    </tr>\n",
       "    <tr>\n",
       "      <th>26</th>\n",
       "      <td>918.0</td>\n",
       "      <td>1</td>\n",
       "    </tr>\n",
       "    <tr>\n",
       "      <th>28</th>\n",
       "      <td>920.0</td>\n",
       "      <td>1</td>\n",
       "    </tr>\n",
       "    <tr>\n",
       "      <th>...</th>\n",
       "      <td>...</td>\n",
       "      <td>...</td>\n",
       "    </tr>\n",
       "    <tr>\n",
       "      <th>404</th>\n",
       "      <td>1296.0</td>\n",
       "      <td>1</td>\n",
       "    </tr>\n",
       "    <tr>\n",
       "      <th>405</th>\n",
       "      <td>1297.0</td>\n",
       "      <td>0</td>\n",
       "    </tr>\n",
       "    <tr>\n",
       "      <th>407</th>\n",
       "      <td>1299.0</td>\n",
       "      <td>1</td>\n",
       "    </tr>\n",
       "    <tr>\n",
       "      <th>411</th>\n",
       "      <td>1303.0</td>\n",
       "      <td>1</td>\n",
       "    </tr>\n",
       "    <tr>\n",
       "      <th>414</th>\n",
       "      <td>1306.0</td>\n",
       "      <td>1</td>\n",
       "    </tr>\n",
       "  </tbody>\n",
       "</table>\n",
       "<p>87 rows × 2 columns</p>\n",
       "</div>"
      ],
      "text/plain": [
       "     PassengerId  Survived\n",
       "12         904.0         1\n",
       "14         906.0         0\n",
       "24         916.0         1\n",
       "26         918.0         1\n",
       "28         920.0         1\n",
       "..           ...       ...\n",
       "404       1296.0         1\n",
       "405       1297.0         0\n",
       "407       1299.0         1\n",
       "411       1303.0         1\n",
       "414       1306.0         1\n",
       "\n",
       "[87 rows x 2 columns]"
      ]
     },
     "execution_count": 39,
     "metadata": {},
     "output_type": "execute_result"
    }
   ],
   "source": [
    "y_predict=boostmodel.predict(test_df[['Pclass','Age','SibSp','Parch','Fare']])\n",
    "y_predict=pd.DataFrame(y_predict)\n",
    "submission=pd.DataFrame({'PassengerId':test_df['PassengerId'],'Survived':np.array(y_predict).ravel()})\n",
    "\n",
    "#submit file\n",
    "\n",
    "submission.to_csv(\"submission.csv\", index=False)\n",
    "\n",
    "submission"
   ]
  }
 ],
 "metadata": {
  "kernelspec": {
   "display_name": "Python 3",
   "language": "python",
   "name": "python3"
  },
  "language_info": {
   "codemirror_mode": {
    "name": "ipython",
    "version": 3
   },
   "file_extension": ".py",
   "mimetype": "text/x-python",
   "name": "python",
   "nbconvert_exporter": "python",
   "pygments_lexer": "ipython3",
   "version": "3.10.10"
  },
  "papermill": {
   "default_parameters": {},
   "duration": 24.738465,
   "end_time": "2023-07-03T14:15:44.171028",
   "environment_variables": {},
   "exception": null,
   "input_path": "__notebook__.ipynb",
   "output_path": "__notebook__.ipynb",
   "parameters": {},
   "start_time": "2023-07-03T14:15:19.432563",
   "version": "2.4.0"
  }
 },
 "nbformat": 4,
 "nbformat_minor": 5
}
