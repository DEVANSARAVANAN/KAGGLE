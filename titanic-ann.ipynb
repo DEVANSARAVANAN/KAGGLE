{
 "cells": [
  {
   "cell_type": "code",
   "execution_count": 1,
   "id": "31761769",
   "metadata": {
    "execution": {
     "iopub.execute_input": "2023-07-03T13:52:58.311741Z",
     "iopub.status.busy": "2023-07-03T13:52:58.310948Z",
     "iopub.status.idle": "2023-07-03T13:53:00.273444Z",
     "shell.execute_reply": "2023-07-03T13:53:00.272375Z"
    },
    "papermill": {
     "duration": 1.983205,
     "end_time": "2023-07-03T13:53:00.276209",
     "exception": false,
     "start_time": "2023-07-03T13:52:58.293004",
     "status": "completed"
    },
    "tags": []
   },
   "outputs": [],
   "source": [
    "#Imported libraries\n",
    "import pandas as pd\n",
    "import matplotlib.pyplot as plt\n",
    "import numpy as np\n",
    "from sklearn.ensemble import AdaBoostClassifier\n",
    "import sklearn.metrics"
   ]
  },
  {
   "cell_type": "code",
   "execution_count": 2,
   "id": "9838244e",
   "metadata": {
    "execution": {
     "iopub.execute_input": "2023-07-03T13:53:00.305564Z",
     "iopub.status.busy": "2023-07-03T13:53:00.305163Z",
     "iopub.status.idle": "2023-07-03T13:53:00.351157Z",
     "shell.execute_reply": "2023-07-03T13:53:00.349933Z"
    },
    "papermill": {
     "duration": 0.063702,
     "end_time": "2023-07-03T13:53:00.353864",
     "exception": false,
     "start_time": "2023-07-03T13:53:00.290162",
     "status": "completed"
    },
    "tags": []
   },
   "outputs": [],
   "source": [
    "#Loaded DataSet\n",
    "test_df=pd.read_csv(\"/kaggle/input/titanic/test.csv\")\n",
    "train_df=pd.read_csv(\"/kaggle/input/titanic/train.csv\")\n",
    "GS_df=pd.read_csv(\"/kaggle/input/titanic/gender_submission.csv\")"
   ]
  },
  {
   "cell_type": "code",
   "execution_count": 3,
   "id": "1240e3b1",
   "metadata": {
    "execution": {
     "iopub.execute_input": "2023-07-03T13:53:00.383127Z",
     "iopub.status.busy": "2023-07-03T13:53:00.382706Z",
     "iopub.status.idle": "2023-07-03T13:53:00.432076Z",
     "shell.execute_reply": "2023-07-03T13:53:00.431104Z"
    },
    "papermill": {
     "duration": 0.066758,
     "end_time": "2023-07-03T13:53:00.434497",
     "exception": false,
     "start_time": "2023-07-03T13:53:00.367739",
     "status": "completed"
    },
    "tags": []
   },
   "outputs": [
    {
     "data": {
      "text/html": [
       "<div>\n",
       "<style scoped>\n",
       "    .dataframe tbody tr th:only-of-type {\n",
       "        vertical-align: middle;\n",
       "    }\n",
       "\n",
       "    .dataframe tbody tr th {\n",
       "        vertical-align: top;\n",
       "    }\n",
       "\n",
       "    .dataframe thead th {\n",
       "        text-align: right;\n",
       "    }\n",
       "</style>\n",
       "<table border=\"1\" class=\"dataframe\">\n",
       "  <thead>\n",
       "    <tr style=\"text-align: right;\">\n",
       "      <th></th>\n",
       "      <th>PassengerId</th>\n",
       "      <th>Pclass</th>\n",
       "      <th>Name</th>\n",
       "      <th>Sex</th>\n",
       "      <th>Age</th>\n",
       "      <th>SibSp</th>\n",
       "      <th>Parch</th>\n",
       "      <th>Ticket</th>\n",
       "      <th>Fare</th>\n",
       "      <th>Cabin</th>\n",
       "      <th>Embarked</th>\n",
       "    </tr>\n",
       "  </thead>\n",
       "  <tbody>\n",
       "    <tr>\n",
       "      <th>0</th>\n",
       "      <td>892</td>\n",
       "      <td>3</td>\n",
       "      <td>Kelly, Mr. James</td>\n",
       "      <td>male</td>\n",
       "      <td>34.5</td>\n",
       "      <td>0</td>\n",
       "      <td>0</td>\n",
       "      <td>330911</td>\n",
       "      <td>7.8292</td>\n",
       "      <td>NaN</td>\n",
       "      <td>Q</td>\n",
       "    </tr>\n",
       "    <tr>\n",
       "      <th>1</th>\n",
       "      <td>893</td>\n",
       "      <td>3</td>\n",
       "      <td>Wilkes, Mrs. James (Ellen Needs)</td>\n",
       "      <td>female</td>\n",
       "      <td>47.0</td>\n",
       "      <td>1</td>\n",
       "      <td>0</td>\n",
       "      <td>363272</td>\n",
       "      <td>7.0000</td>\n",
       "      <td>NaN</td>\n",
       "      <td>S</td>\n",
       "    </tr>\n",
       "    <tr>\n",
       "      <th>2</th>\n",
       "      <td>894</td>\n",
       "      <td>2</td>\n",
       "      <td>Myles, Mr. Thomas Francis</td>\n",
       "      <td>male</td>\n",
       "      <td>62.0</td>\n",
       "      <td>0</td>\n",
       "      <td>0</td>\n",
       "      <td>240276</td>\n",
       "      <td>9.6875</td>\n",
       "      <td>NaN</td>\n",
       "      <td>Q</td>\n",
       "    </tr>\n",
       "    <tr>\n",
       "      <th>3</th>\n",
       "      <td>895</td>\n",
       "      <td>3</td>\n",
       "      <td>Wirz, Mr. Albert</td>\n",
       "      <td>male</td>\n",
       "      <td>27.0</td>\n",
       "      <td>0</td>\n",
       "      <td>0</td>\n",
       "      <td>315154</td>\n",
       "      <td>8.6625</td>\n",
       "      <td>NaN</td>\n",
       "      <td>S</td>\n",
       "    </tr>\n",
       "    <tr>\n",
       "      <th>4</th>\n",
       "      <td>896</td>\n",
       "      <td>3</td>\n",
       "      <td>Hirvonen, Mrs. Alexander (Helga E Lindqvist)</td>\n",
       "      <td>female</td>\n",
       "      <td>22.0</td>\n",
       "      <td>1</td>\n",
       "      <td>1</td>\n",
       "      <td>3101298</td>\n",
       "      <td>12.2875</td>\n",
       "      <td>NaN</td>\n",
       "      <td>S</td>\n",
       "    </tr>\n",
       "    <tr>\n",
       "      <th>...</th>\n",
       "      <td>...</td>\n",
       "      <td>...</td>\n",
       "      <td>...</td>\n",
       "      <td>...</td>\n",
       "      <td>...</td>\n",
       "      <td>...</td>\n",
       "      <td>...</td>\n",
       "      <td>...</td>\n",
       "      <td>...</td>\n",
       "      <td>...</td>\n",
       "      <td>...</td>\n",
       "    </tr>\n",
       "    <tr>\n",
       "      <th>413</th>\n",
       "      <td>1305</td>\n",
       "      <td>3</td>\n",
       "      <td>Spector, Mr. Woolf</td>\n",
       "      <td>male</td>\n",
       "      <td>NaN</td>\n",
       "      <td>0</td>\n",
       "      <td>0</td>\n",
       "      <td>A.5. 3236</td>\n",
       "      <td>8.0500</td>\n",
       "      <td>NaN</td>\n",
       "      <td>S</td>\n",
       "    </tr>\n",
       "    <tr>\n",
       "      <th>414</th>\n",
       "      <td>1306</td>\n",
       "      <td>1</td>\n",
       "      <td>Oliva y Ocana, Dona. Fermina</td>\n",
       "      <td>female</td>\n",
       "      <td>39.0</td>\n",
       "      <td>0</td>\n",
       "      <td>0</td>\n",
       "      <td>PC 17758</td>\n",
       "      <td>108.9000</td>\n",
       "      <td>C105</td>\n",
       "      <td>C</td>\n",
       "    </tr>\n",
       "    <tr>\n",
       "      <th>415</th>\n",
       "      <td>1307</td>\n",
       "      <td>3</td>\n",
       "      <td>Saether, Mr. Simon Sivertsen</td>\n",
       "      <td>male</td>\n",
       "      <td>38.5</td>\n",
       "      <td>0</td>\n",
       "      <td>0</td>\n",
       "      <td>SOTON/O.Q. 3101262</td>\n",
       "      <td>7.2500</td>\n",
       "      <td>NaN</td>\n",
       "      <td>S</td>\n",
       "    </tr>\n",
       "    <tr>\n",
       "      <th>416</th>\n",
       "      <td>1308</td>\n",
       "      <td>3</td>\n",
       "      <td>Ware, Mr. Frederick</td>\n",
       "      <td>male</td>\n",
       "      <td>NaN</td>\n",
       "      <td>0</td>\n",
       "      <td>0</td>\n",
       "      <td>359309</td>\n",
       "      <td>8.0500</td>\n",
       "      <td>NaN</td>\n",
       "      <td>S</td>\n",
       "    </tr>\n",
       "    <tr>\n",
       "      <th>417</th>\n",
       "      <td>1309</td>\n",
       "      <td>3</td>\n",
       "      <td>Peter, Master. Michael J</td>\n",
       "      <td>male</td>\n",
       "      <td>NaN</td>\n",
       "      <td>1</td>\n",
       "      <td>1</td>\n",
       "      <td>2668</td>\n",
       "      <td>22.3583</td>\n",
       "      <td>NaN</td>\n",
       "      <td>C</td>\n",
       "    </tr>\n",
       "  </tbody>\n",
       "</table>\n",
       "<p>418 rows × 11 columns</p>\n",
       "</div>"
      ],
      "text/plain": [
       "     PassengerId  Pclass                                          Name  \\\n",
       "0            892       3                              Kelly, Mr. James   \n",
       "1            893       3              Wilkes, Mrs. James (Ellen Needs)   \n",
       "2            894       2                     Myles, Mr. Thomas Francis   \n",
       "3            895       3                              Wirz, Mr. Albert   \n",
       "4            896       3  Hirvonen, Mrs. Alexander (Helga E Lindqvist)   \n",
       "..           ...     ...                                           ...   \n",
       "413         1305       3                            Spector, Mr. Woolf   \n",
       "414         1306       1                  Oliva y Ocana, Dona. Fermina   \n",
       "415         1307       3                  Saether, Mr. Simon Sivertsen   \n",
       "416         1308       3                           Ware, Mr. Frederick   \n",
       "417         1309       3                      Peter, Master. Michael J   \n",
       "\n",
       "        Sex   Age  SibSp  Parch              Ticket      Fare Cabin Embarked  \n",
       "0      male  34.5      0      0              330911    7.8292   NaN        Q  \n",
       "1    female  47.0      1      0              363272    7.0000   NaN        S  \n",
       "2      male  62.0      0      0              240276    9.6875   NaN        Q  \n",
       "3      male  27.0      0      0              315154    8.6625   NaN        S  \n",
       "4    female  22.0      1      1             3101298   12.2875   NaN        S  \n",
       "..      ...   ...    ...    ...                 ...       ...   ...      ...  \n",
       "413    male   NaN      0      0           A.5. 3236    8.0500   NaN        S  \n",
       "414  female  39.0      0      0            PC 17758  108.9000  C105        C  \n",
       "415    male  38.5      0      0  SOTON/O.Q. 3101262    7.2500   NaN        S  \n",
       "416    male   NaN      0      0              359309    8.0500   NaN        S  \n",
       "417    male   NaN      1      1                2668   22.3583   NaN        C  \n",
       "\n",
       "[418 rows x 11 columns]"
      ]
     },
     "execution_count": 3,
     "metadata": {},
     "output_type": "execute_result"
    }
   ],
   "source": [
    "test_df"
   ]
  },
  {
   "cell_type": "code",
   "execution_count": 4,
   "id": "47cdad0d",
   "metadata": {
    "execution": {
     "iopub.execute_input": "2023-07-03T13:53:00.465578Z",
     "iopub.status.busy": "2023-07-03T13:53:00.464865Z",
     "iopub.status.idle": "2023-07-03T13:53:00.491541Z",
     "shell.execute_reply": "2023-07-03T13:53:00.490681Z"
    },
    "papermill": {
     "duration": 0.045112,
     "end_time": "2023-07-03T13:53:00.493877",
     "exception": false,
     "start_time": "2023-07-03T13:53:00.448765",
     "status": "completed"
    },
    "tags": []
   },
   "outputs": [
    {
     "data": {
      "text/html": [
       "<div>\n",
       "<style scoped>\n",
       "    .dataframe tbody tr th:only-of-type {\n",
       "        vertical-align: middle;\n",
       "    }\n",
       "\n",
       "    .dataframe tbody tr th {\n",
       "        vertical-align: top;\n",
       "    }\n",
       "\n",
       "    .dataframe thead th {\n",
       "        text-align: right;\n",
       "    }\n",
       "</style>\n",
       "<table border=\"1\" class=\"dataframe\">\n",
       "  <thead>\n",
       "    <tr style=\"text-align: right;\">\n",
       "      <th></th>\n",
       "      <th>Survived</th>\n",
       "      <th>Pclass</th>\n",
       "      <th>Name</th>\n",
       "      <th>Sex</th>\n",
       "      <th>Age</th>\n",
       "      <th>SibSp</th>\n",
       "      <th>Parch</th>\n",
       "      <th>Ticket</th>\n",
       "      <th>Fare</th>\n",
       "      <th>Cabin</th>\n",
       "      <th>Embarked</th>\n",
       "    </tr>\n",
       "  </thead>\n",
       "  <tbody>\n",
       "    <tr>\n",
       "      <th>0</th>\n",
       "      <td>0</td>\n",
       "      <td>3</td>\n",
       "      <td>Braund, Mr. Owen Harris</td>\n",
       "      <td>male</td>\n",
       "      <td>22.0</td>\n",
       "      <td>1</td>\n",
       "      <td>0</td>\n",
       "      <td>A/5 21171</td>\n",
       "      <td>7.2500</td>\n",
       "      <td>NaN</td>\n",
       "      <td>S</td>\n",
       "    </tr>\n",
       "    <tr>\n",
       "      <th>1</th>\n",
       "      <td>1</td>\n",
       "      <td>1</td>\n",
       "      <td>Cumings, Mrs. John Bradley (Florence Briggs Th...</td>\n",
       "      <td>female</td>\n",
       "      <td>38.0</td>\n",
       "      <td>1</td>\n",
       "      <td>0</td>\n",
       "      <td>PC 17599</td>\n",
       "      <td>71.2833</td>\n",
       "      <td>C85</td>\n",
       "      <td>C</td>\n",
       "    </tr>\n",
       "    <tr>\n",
       "      <th>2</th>\n",
       "      <td>1</td>\n",
       "      <td>3</td>\n",
       "      <td>Heikkinen, Miss. Laina</td>\n",
       "      <td>female</td>\n",
       "      <td>26.0</td>\n",
       "      <td>0</td>\n",
       "      <td>0</td>\n",
       "      <td>STON/O2. 3101282</td>\n",
       "      <td>7.9250</td>\n",
       "      <td>NaN</td>\n",
       "      <td>S</td>\n",
       "    </tr>\n",
       "    <tr>\n",
       "      <th>3</th>\n",
       "      <td>1</td>\n",
       "      <td>1</td>\n",
       "      <td>Futrelle, Mrs. Jacques Heath (Lily May Peel)</td>\n",
       "      <td>female</td>\n",
       "      <td>35.0</td>\n",
       "      <td>1</td>\n",
       "      <td>0</td>\n",
       "      <td>113803</td>\n",
       "      <td>53.1000</td>\n",
       "      <td>C123</td>\n",
       "      <td>S</td>\n",
       "    </tr>\n",
       "    <tr>\n",
       "      <th>4</th>\n",
       "      <td>0</td>\n",
       "      <td>3</td>\n",
       "      <td>Allen, Mr. William Henry</td>\n",
       "      <td>male</td>\n",
       "      <td>35.0</td>\n",
       "      <td>0</td>\n",
       "      <td>0</td>\n",
       "      <td>373450</td>\n",
       "      <td>8.0500</td>\n",
       "      <td>NaN</td>\n",
       "      <td>S</td>\n",
       "    </tr>\n",
       "    <tr>\n",
       "      <th>...</th>\n",
       "      <td>...</td>\n",
       "      <td>...</td>\n",
       "      <td>...</td>\n",
       "      <td>...</td>\n",
       "      <td>...</td>\n",
       "      <td>...</td>\n",
       "      <td>...</td>\n",
       "      <td>...</td>\n",
       "      <td>...</td>\n",
       "      <td>...</td>\n",
       "      <td>...</td>\n",
       "    </tr>\n",
       "    <tr>\n",
       "      <th>886</th>\n",
       "      <td>0</td>\n",
       "      <td>2</td>\n",
       "      <td>Montvila, Rev. Juozas</td>\n",
       "      <td>male</td>\n",
       "      <td>27.0</td>\n",
       "      <td>0</td>\n",
       "      <td>0</td>\n",
       "      <td>211536</td>\n",
       "      <td>13.0000</td>\n",
       "      <td>NaN</td>\n",
       "      <td>S</td>\n",
       "    </tr>\n",
       "    <tr>\n",
       "      <th>887</th>\n",
       "      <td>1</td>\n",
       "      <td>1</td>\n",
       "      <td>Graham, Miss. Margaret Edith</td>\n",
       "      <td>female</td>\n",
       "      <td>19.0</td>\n",
       "      <td>0</td>\n",
       "      <td>0</td>\n",
       "      <td>112053</td>\n",
       "      <td>30.0000</td>\n",
       "      <td>B42</td>\n",
       "      <td>S</td>\n",
       "    </tr>\n",
       "    <tr>\n",
       "      <th>888</th>\n",
       "      <td>0</td>\n",
       "      <td>3</td>\n",
       "      <td>Johnston, Miss. Catherine Helen \"Carrie\"</td>\n",
       "      <td>female</td>\n",
       "      <td>NaN</td>\n",
       "      <td>1</td>\n",
       "      <td>2</td>\n",
       "      <td>W./C. 6607</td>\n",
       "      <td>23.4500</td>\n",
       "      <td>NaN</td>\n",
       "      <td>S</td>\n",
       "    </tr>\n",
       "    <tr>\n",
       "      <th>889</th>\n",
       "      <td>1</td>\n",
       "      <td>1</td>\n",
       "      <td>Behr, Mr. Karl Howell</td>\n",
       "      <td>male</td>\n",
       "      <td>26.0</td>\n",
       "      <td>0</td>\n",
       "      <td>0</td>\n",
       "      <td>111369</td>\n",
       "      <td>30.0000</td>\n",
       "      <td>C148</td>\n",
       "      <td>C</td>\n",
       "    </tr>\n",
       "    <tr>\n",
       "      <th>890</th>\n",
       "      <td>0</td>\n",
       "      <td>3</td>\n",
       "      <td>Dooley, Mr. Patrick</td>\n",
       "      <td>male</td>\n",
       "      <td>32.0</td>\n",
       "      <td>0</td>\n",
       "      <td>0</td>\n",
       "      <td>370376</td>\n",
       "      <td>7.7500</td>\n",
       "      <td>NaN</td>\n",
       "      <td>Q</td>\n",
       "    </tr>\n",
       "  </tbody>\n",
       "</table>\n",
       "<p>891 rows × 11 columns</p>\n",
       "</div>"
      ],
      "text/plain": [
       "     Survived  Pclass                                               Name  \\\n",
       "0           0       3                            Braund, Mr. Owen Harris   \n",
       "1           1       1  Cumings, Mrs. John Bradley (Florence Briggs Th...   \n",
       "2           1       3                             Heikkinen, Miss. Laina   \n",
       "3           1       1       Futrelle, Mrs. Jacques Heath (Lily May Peel)   \n",
       "4           0       3                           Allen, Mr. William Henry   \n",
       "..        ...     ...                                                ...   \n",
       "886         0       2                              Montvila, Rev. Juozas   \n",
       "887         1       1                       Graham, Miss. Margaret Edith   \n",
       "888         0       3           Johnston, Miss. Catherine Helen \"Carrie\"   \n",
       "889         1       1                              Behr, Mr. Karl Howell   \n",
       "890         0       3                                Dooley, Mr. Patrick   \n",
       "\n",
       "        Sex   Age  SibSp  Parch            Ticket     Fare Cabin Embarked  \n",
       "0      male  22.0      1      0         A/5 21171   7.2500   NaN        S  \n",
       "1    female  38.0      1      0          PC 17599  71.2833   C85        C  \n",
       "2    female  26.0      0      0  STON/O2. 3101282   7.9250   NaN        S  \n",
       "3    female  35.0      1      0            113803  53.1000  C123        S  \n",
       "4      male  35.0      0      0            373450   8.0500   NaN        S  \n",
       "..      ...   ...    ...    ...               ...      ...   ...      ...  \n",
       "886    male  27.0      0      0            211536  13.0000   NaN        S  \n",
       "887  female  19.0      0      0            112053  30.0000   B42        S  \n",
       "888  female   NaN      1      2        W./C. 6607  23.4500   NaN        S  \n",
       "889    male  26.0      0      0            111369  30.0000  C148        C  \n",
       "890    male  32.0      0      0            370376   7.7500   NaN        Q  \n",
       "\n",
       "[891 rows x 11 columns]"
      ]
     },
     "execution_count": 4,
     "metadata": {},
     "output_type": "execute_result"
    }
   ],
   "source": [
    "train_df=train_df.drop(\"PassengerId\",axis=1)\n",
    "train_df"
   ]
  },
  {
   "cell_type": "code",
   "execution_count": 5,
   "id": "6dc5d020",
   "metadata": {
    "execution": {
     "iopub.execute_input": "2023-07-03T13:53:00.525713Z",
     "iopub.status.busy": "2023-07-03T13:53:00.525006Z",
     "iopub.status.idle": "2023-07-03T13:53:00.536078Z",
     "shell.execute_reply": "2023-07-03T13:53:00.534979Z"
    },
    "papermill": {
     "duration": 0.029857,
     "end_time": "2023-07-03T13:53:00.538502",
     "exception": false,
     "start_time": "2023-07-03T13:53:00.508645",
     "status": "completed"
    },
    "tags": []
   },
   "outputs": [
    {
     "data": {
      "text/html": [
       "<div>\n",
       "<style scoped>\n",
       "    .dataframe tbody tr th:only-of-type {\n",
       "        vertical-align: middle;\n",
       "    }\n",
       "\n",
       "    .dataframe tbody tr th {\n",
       "        vertical-align: top;\n",
       "    }\n",
       "\n",
       "    .dataframe thead th {\n",
       "        text-align: right;\n",
       "    }\n",
       "</style>\n",
       "<table border=\"1\" class=\"dataframe\">\n",
       "  <thead>\n",
       "    <tr style=\"text-align: right;\">\n",
       "      <th></th>\n",
       "      <th>PassengerId</th>\n",
       "      <th>Survived</th>\n",
       "    </tr>\n",
       "  </thead>\n",
       "  <tbody>\n",
       "    <tr>\n",
       "      <th>0</th>\n",
       "      <td>892</td>\n",
       "      <td>0</td>\n",
       "    </tr>\n",
       "    <tr>\n",
       "      <th>1</th>\n",
       "      <td>893</td>\n",
       "      <td>1</td>\n",
       "    </tr>\n",
       "    <tr>\n",
       "      <th>2</th>\n",
       "      <td>894</td>\n",
       "      <td>0</td>\n",
       "    </tr>\n",
       "    <tr>\n",
       "      <th>3</th>\n",
       "      <td>895</td>\n",
       "      <td>0</td>\n",
       "    </tr>\n",
       "    <tr>\n",
       "      <th>4</th>\n",
       "      <td>896</td>\n",
       "      <td>1</td>\n",
       "    </tr>\n",
       "    <tr>\n",
       "      <th>...</th>\n",
       "      <td>...</td>\n",
       "      <td>...</td>\n",
       "    </tr>\n",
       "    <tr>\n",
       "      <th>413</th>\n",
       "      <td>1305</td>\n",
       "      <td>0</td>\n",
       "    </tr>\n",
       "    <tr>\n",
       "      <th>414</th>\n",
       "      <td>1306</td>\n",
       "      <td>1</td>\n",
       "    </tr>\n",
       "    <tr>\n",
       "      <th>415</th>\n",
       "      <td>1307</td>\n",
       "      <td>0</td>\n",
       "    </tr>\n",
       "    <tr>\n",
       "      <th>416</th>\n",
       "      <td>1308</td>\n",
       "      <td>0</td>\n",
       "    </tr>\n",
       "    <tr>\n",
       "      <th>417</th>\n",
       "      <td>1309</td>\n",
       "      <td>0</td>\n",
       "    </tr>\n",
       "  </tbody>\n",
       "</table>\n",
       "<p>418 rows × 2 columns</p>\n",
       "</div>"
      ],
      "text/plain": [
       "     PassengerId  Survived\n",
       "0            892         0\n",
       "1            893         1\n",
       "2            894         0\n",
       "3            895         0\n",
       "4            896         1\n",
       "..           ...       ...\n",
       "413         1305         0\n",
       "414         1306         1\n",
       "415         1307         0\n",
       "416         1308         0\n",
       "417         1309         0\n",
       "\n",
       "[418 rows x 2 columns]"
      ]
     },
     "execution_count": 5,
     "metadata": {},
     "output_type": "execute_result"
    }
   ],
   "source": [
    "GS_df"
   ]
  },
  {
   "cell_type": "code",
   "execution_count": 6,
   "id": "200f2b45",
   "metadata": {
    "execution": {
     "iopub.execute_input": "2023-07-03T13:53:00.570246Z",
     "iopub.status.busy": "2023-07-03T13:53:00.569770Z",
     "iopub.status.idle": "2023-07-03T13:53:00.604467Z",
     "shell.execute_reply": "2023-07-03T13:53:00.603314Z"
    },
    "papermill": {
     "duration": 0.053964,
     "end_time": "2023-07-03T13:53:00.607395",
     "exception": false,
     "start_time": "2023-07-03T13:53:00.553431",
     "status": "completed"
    },
    "tags": []
   },
   "outputs": [
    {
     "data": {
      "text/html": [
       "<div>\n",
       "<style scoped>\n",
       "    .dataframe tbody tr th:only-of-type {\n",
       "        vertical-align: middle;\n",
       "    }\n",
       "\n",
       "    .dataframe tbody tr th {\n",
       "        vertical-align: top;\n",
       "    }\n",
       "\n",
       "    .dataframe thead th {\n",
       "        text-align: right;\n",
       "    }\n",
       "</style>\n",
       "<table border=\"1\" class=\"dataframe\">\n",
       "  <thead>\n",
       "    <tr style=\"text-align: right;\">\n",
       "      <th></th>\n",
       "      <th>PassengerId</th>\n",
       "      <th>Pclass</th>\n",
       "      <th>Name</th>\n",
       "      <th>Sex</th>\n",
       "      <th>Age</th>\n",
       "      <th>SibSp</th>\n",
       "      <th>Parch</th>\n",
       "      <th>Ticket</th>\n",
       "      <th>Fare</th>\n",
       "      <th>Cabin</th>\n",
       "      <th>Embarked</th>\n",
       "      <th>Survived</th>\n",
       "    </tr>\n",
       "  </thead>\n",
       "  <tbody>\n",
       "    <tr>\n",
       "      <th>0</th>\n",
       "      <td>892</td>\n",
       "      <td>3</td>\n",
       "      <td>Kelly, Mr. James</td>\n",
       "      <td>male</td>\n",
       "      <td>34.5</td>\n",
       "      <td>0</td>\n",
       "      <td>0</td>\n",
       "      <td>330911</td>\n",
       "      <td>7.8292</td>\n",
       "      <td>NaN</td>\n",
       "      <td>Q</td>\n",
       "      <td>0</td>\n",
       "    </tr>\n",
       "    <tr>\n",
       "      <th>1</th>\n",
       "      <td>893</td>\n",
       "      <td>3</td>\n",
       "      <td>Wilkes, Mrs. James (Ellen Needs)</td>\n",
       "      <td>female</td>\n",
       "      <td>47.0</td>\n",
       "      <td>1</td>\n",
       "      <td>0</td>\n",
       "      <td>363272</td>\n",
       "      <td>7.0000</td>\n",
       "      <td>NaN</td>\n",
       "      <td>S</td>\n",
       "      <td>1</td>\n",
       "    </tr>\n",
       "    <tr>\n",
       "      <th>2</th>\n",
       "      <td>894</td>\n",
       "      <td>2</td>\n",
       "      <td>Myles, Mr. Thomas Francis</td>\n",
       "      <td>male</td>\n",
       "      <td>62.0</td>\n",
       "      <td>0</td>\n",
       "      <td>0</td>\n",
       "      <td>240276</td>\n",
       "      <td>9.6875</td>\n",
       "      <td>NaN</td>\n",
       "      <td>Q</td>\n",
       "      <td>0</td>\n",
       "    </tr>\n",
       "    <tr>\n",
       "      <th>3</th>\n",
       "      <td>895</td>\n",
       "      <td>3</td>\n",
       "      <td>Wirz, Mr. Albert</td>\n",
       "      <td>male</td>\n",
       "      <td>27.0</td>\n",
       "      <td>0</td>\n",
       "      <td>0</td>\n",
       "      <td>315154</td>\n",
       "      <td>8.6625</td>\n",
       "      <td>NaN</td>\n",
       "      <td>S</td>\n",
       "      <td>0</td>\n",
       "    </tr>\n",
       "    <tr>\n",
       "      <th>4</th>\n",
       "      <td>896</td>\n",
       "      <td>3</td>\n",
       "      <td>Hirvonen, Mrs. Alexander (Helga E Lindqvist)</td>\n",
       "      <td>female</td>\n",
       "      <td>22.0</td>\n",
       "      <td>1</td>\n",
       "      <td>1</td>\n",
       "      <td>3101298</td>\n",
       "      <td>12.2875</td>\n",
       "      <td>NaN</td>\n",
       "      <td>S</td>\n",
       "      <td>1</td>\n",
       "    </tr>\n",
       "    <tr>\n",
       "      <th>...</th>\n",
       "      <td>...</td>\n",
       "      <td>...</td>\n",
       "      <td>...</td>\n",
       "      <td>...</td>\n",
       "      <td>...</td>\n",
       "      <td>...</td>\n",
       "      <td>...</td>\n",
       "      <td>...</td>\n",
       "      <td>...</td>\n",
       "      <td>...</td>\n",
       "      <td>...</td>\n",
       "      <td>...</td>\n",
       "    </tr>\n",
       "    <tr>\n",
       "      <th>413</th>\n",
       "      <td>1305</td>\n",
       "      <td>3</td>\n",
       "      <td>Spector, Mr. Woolf</td>\n",
       "      <td>male</td>\n",
       "      <td>NaN</td>\n",
       "      <td>0</td>\n",
       "      <td>0</td>\n",
       "      <td>A.5. 3236</td>\n",
       "      <td>8.0500</td>\n",
       "      <td>NaN</td>\n",
       "      <td>S</td>\n",
       "      <td>0</td>\n",
       "    </tr>\n",
       "    <tr>\n",
       "      <th>414</th>\n",
       "      <td>1306</td>\n",
       "      <td>1</td>\n",
       "      <td>Oliva y Ocana, Dona. Fermina</td>\n",
       "      <td>female</td>\n",
       "      <td>39.0</td>\n",
       "      <td>0</td>\n",
       "      <td>0</td>\n",
       "      <td>PC 17758</td>\n",
       "      <td>108.9000</td>\n",
       "      <td>C105</td>\n",
       "      <td>C</td>\n",
       "      <td>1</td>\n",
       "    </tr>\n",
       "    <tr>\n",
       "      <th>415</th>\n",
       "      <td>1307</td>\n",
       "      <td>3</td>\n",
       "      <td>Saether, Mr. Simon Sivertsen</td>\n",
       "      <td>male</td>\n",
       "      <td>38.5</td>\n",
       "      <td>0</td>\n",
       "      <td>0</td>\n",
       "      <td>SOTON/O.Q. 3101262</td>\n",
       "      <td>7.2500</td>\n",
       "      <td>NaN</td>\n",
       "      <td>S</td>\n",
       "      <td>0</td>\n",
       "    </tr>\n",
       "    <tr>\n",
       "      <th>416</th>\n",
       "      <td>1308</td>\n",
       "      <td>3</td>\n",
       "      <td>Ware, Mr. Frederick</td>\n",
       "      <td>male</td>\n",
       "      <td>NaN</td>\n",
       "      <td>0</td>\n",
       "      <td>0</td>\n",
       "      <td>359309</td>\n",
       "      <td>8.0500</td>\n",
       "      <td>NaN</td>\n",
       "      <td>S</td>\n",
       "      <td>0</td>\n",
       "    </tr>\n",
       "    <tr>\n",
       "      <th>417</th>\n",
       "      <td>1309</td>\n",
       "      <td>3</td>\n",
       "      <td>Peter, Master. Michael J</td>\n",
       "      <td>male</td>\n",
       "      <td>NaN</td>\n",
       "      <td>1</td>\n",
       "      <td>1</td>\n",
       "      <td>2668</td>\n",
       "      <td>22.3583</td>\n",
       "      <td>NaN</td>\n",
       "      <td>C</td>\n",
       "      <td>0</td>\n",
       "    </tr>\n",
       "  </tbody>\n",
       "</table>\n",
       "<p>418 rows × 12 columns</p>\n",
       "</div>"
      ],
      "text/plain": [
       "     PassengerId  Pclass                                          Name  \\\n",
       "0            892       3                              Kelly, Mr. James   \n",
       "1            893       3              Wilkes, Mrs. James (Ellen Needs)   \n",
       "2            894       2                     Myles, Mr. Thomas Francis   \n",
       "3            895       3                              Wirz, Mr. Albert   \n",
       "4            896       3  Hirvonen, Mrs. Alexander (Helga E Lindqvist)   \n",
       "..           ...     ...                                           ...   \n",
       "413         1305       3                            Spector, Mr. Woolf   \n",
       "414         1306       1                  Oliva y Ocana, Dona. Fermina   \n",
       "415         1307       3                  Saether, Mr. Simon Sivertsen   \n",
       "416         1308       3                           Ware, Mr. Frederick   \n",
       "417         1309       3                      Peter, Master. Michael J   \n",
       "\n",
       "        Sex   Age  SibSp  Parch              Ticket      Fare Cabin Embarked  \\\n",
       "0      male  34.5      0      0              330911    7.8292   NaN        Q   \n",
       "1    female  47.0      1      0              363272    7.0000   NaN        S   \n",
       "2      male  62.0      0      0              240276    9.6875   NaN        Q   \n",
       "3      male  27.0      0      0              315154    8.6625   NaN        S   \n",
       "4    female  22.0      1      1             3101298   12.2875   NaN        S   \n",
       "..      ...   ...    ...    ...                 ...       ...   ...      ...   \n",
       "413    male   NaN      0      0           A.5. 3236    8.0500   NaN        S   \n",
       "414  female  39.0      0      0            PC 17758  108.9000  C105        C   \n",
       "415    male  38.5      0      0  SOTON/O.Q. 3101262    7.2500   NaN        S   \n",
       "416    male   NaN      0      0              359309    8.0500   NaN        S   \n",
       "417    male   NaN      1      1                2668   22.3583   NaN        C   \n",
       "\n",
       "     Survived  \n",
       "0           0  \n",
       "1           1  \n",
       "2           0  \n",
       "3           0  \n",
       "4           1  \n",
       "..        ...  \n",
       "413         0  \n",
       "414         1  \n",
       "415         0  \n",
       "416         0  \n",
       "417         0  \n",
       "\n",
       "[418 rows x 12 columns]"
      ]
     },
     "execution_count": 6,
     "metadata": {},
     "output_type": "execute_result"
    }
   ],
   "source": [
    "test_df = pd.merge(test_df, GS_df, on='PassengerId', how='inner')\n",
    "test_df"
   ]
  },
  {
   "cell_type": "markdown",
   "id": "73b6b85b",
   "metadata": {
    "papermill": {
     "duration": 0.014974,
     "end_time": "2023-07-03T13:53:00.637867",
     "exception": false,
     "start_time": "2023-07-03T13:53:00.622893",
     "status": "completed"
    },
    "tags": []
   },
   "source": [
    "#   ****Data preparation****\n",
    "\n",
    "* Handle Missing Values\n",
    "* Extract varaible \n",
    "* Remove outliers\n",
    "\n"
   ]
  },
  {
   "cell_type": "code",
   "execution_count": 7,
   "id": "d6662e98",
   "metadata": {
    "execution": {
     "iopub.execute_input": "2023-07-03T13:53:00.670500Z",
     "iopub.status.busy": "2023-07-03T13:53:00.669566Z",
     "iopub.status.idle": "2023-07-03T13:53:00.680394Z",
     "shell.execute_reply": "2023-07-03T13:53:00.679117Z"
    },
    "papermill": {
     "duration": 0.030067,
     "end_time": "2023-07-03T13:53:00.683185",
     "exception": false,
     "start_time": "2023-07-03T13:53:00.653118",
     "status": "completed"
    },
    "tags": []
   },
   "outputs": [
    {
     "data": {
      "text/plain": [
       "Survived      0\n",
       "Pclass        0\n",
       "Name          0\n",
       "Sex           0\n",
       "Age         177\n",
       "SibSp         0\n",
       "Parch         0\n",
       "Ticket        0\n",
       "Fare          0\n",
       "Cabin       687\n",
       "Embarked      2\n",
       "dtype: int64"
      ]
     },
     "execution_count": 7,
     "metadata": {},
     "output_type": "execute_result"
    }
   ],
   "source": [
    "#Handle Missing Values\n",
    "train_df.isnull().sum()"
   ]
  },
  {
   "cell_type": "code",
   "execution_count": 8,
   "id": "4247e68a",
   "metadata": {
    "execution": {
     "iopub.execute_input": "2023-07-03T13:53:00.717519Z",
     "iopub.status.busy": "2023-07-03T13:53:00.716368Z",
     "iopub.status.idle": "2023-07-03T13:53:00.727387Z",
     "shell.execute_reply": "2023-07-03T13:53:00.726165Z"
    },
    "papermill": {
     "duration": 0.03104,
     "end_time": "2023-07-03T13:53:00.730072",
     "exception": false,
     "start_time": "2023-07-03T13:53:00.699032",
     "status": "completed"
    },
    "tags": []
   },
   "outputs": [],
   "source": [
    "train_df=train_df.dropna()\n",
    "test_df=test_df.dropna()"
   ]
  },
  {
   "cell_type": "code",
   "execution_count": 9,
   "id": "9913d460",
   "metadata": {
    "execution": {
     "iopub.execute_input": "2023-07-03T13:53:00.764585Z",
     "iopub.status.busy": "2023-07-03T13:53:00.763382Z",
     "iopub.status.idle": "2023-07-03T13:53:00.773083Z",
     "shell.execute_reply": "2023-07-03T13:53:00.771861Z"
    },
    "papermill": {
     "duration": 0.02976,
     "end_time": "2023-07-03T13:53:00.775873",
     "exception": false,
     "start_time": "2023-07-03T13:53:00.746113",
     "status": "completed"
    },
    "tags": []
   },
   "outputs": [
    {
     "data": {
      "text/plain": [
       "Survived    0\n",
       "Pclass      0\n",
       "Name        0\n",
       "Sex         0\n",
       "Age         0\n",
       "SibSp       0\n",
       "Parch       0\n",
       "Ticket      0\n",
       "Fare        0\n",
       "Cabin       0\n",
       "Embarked    0\n",
       "dtype: int64"
      ]
     },
     "execution_count": 9,
     "metadata": {},
     "output_type": "execute_result"
    }
   ],
   "source": [
    "train_df.isnull().sum()"
   ]
  },
  {
   "cell_type": "code",
   "execution_count": 10,
   "id": "32ffd115",
   "metadata": {
    "execution": {
     "iopub.execute_input": "2023-07-03T13:53:00.809059Z",
     "iopub.status.busy": "2023-07-03T13:53:00.808647Z",
     "iopub.status.idle": "2023-07-03T13:53:01.838927Z",
     "shell.execute_reply": "2023-07-03T13:53:01.837648Z"
    },
    "papermill": {
     "duration": 1.049905,
     "end_time": "2023-07-03T13:53:01.841605",
     "exception": false,
     "start_time": "2023-07-03T13:53:00.791700",
     "status": "completed"
    },
    "tags": []
   },
   "outputs": [
    {
     "data": {
      "text/plain": [
       "<seaborn.axisgrid.FacetGrid at 0x7ef5bc95a4d0>"
      ]
     },
     "execution_count": 10,
     "metadata": {},
     "output_type": "execute_result"
    },
    {
     "data": {
      "image/png": "[encoded data removed]",
      "text/plain": [
       "<Figure size 600x300 with 2 Axes>"
      ]
     },
     "metadata": {},
     "output_type": "display_data"
    }
   ],
   "source": [
    "# Removing Outliers\n",
    "import seaborn as sns\n",
    "g = sns.FacetGrid(train_df, col='Survived')\n",
    "g.map(plt.hist,'Age', bins=20)"
   ]
  },
  {
   "cell_type": "code",
   "execution_count": 11,
   "id": "42aa8674",
   "metadata": {
    "execution": {
     "iopub.execute_input": "2023-07-03T13:53:01.876857Z",
     "iopub.status.busy": "2023-07-03T13:53:01.876056Z",
     "iopub.status.idle": "2023-07-03T13:53:01.884630Z",
     "shell.execute_reply": "2023-07-03T13:53:01.883221Z"
    },
    "papermill": {
     "duration": 0.028842,
     "end_time": "2023-07-03T13:53:01.887065",
     "exception": false,
     "start_time": "2023-07-03T13:53:01.858223",
     "status": "completed"
    },
    "tags": []
   },
   "outputs": [
    {
     "data": {
      "text/plain": [
       "0.92"
      ]
     },
     "execution_count": 11,
     "metadata": {},
     "output_type": "execute_result"
    }
   ],
   "source": [
    "train_df['Age'].min()"
   ]
  },
  {
   "cell_type": "code",
   "execution_count": 12,
   "id": "4d756712",
   "metadata": {
    "execution": {
     "iopub.execute_input": "2023-07-03T13:53:01.922177Z",
     "iopub.status.busy": "2023-07-03T13:53:01.921779Z",
     "iopub.status.idle": "2023-07-03T13:53:01.948918Z",
     "shell.execute_reply": "2023-07-03T13:53:01.947815Z"
    },
    "papermill": {
     "duration": 0.047386,
     "end_time": "2023-07-03T13:53:01.951255",
     "exception": false,
     "start_time": "2023-07-03T13:53:01.903869",
     "status": "completed"
    },
    "tags": []
   },
   "outputs": [
    {
     "data": {
      "text/html": [
       "<div>\n",
       "<style scoped>\n",
       "    .dataframe tbody tr th:only-of-type {\n",
       "        vertical-align: middle;\n",
       "    }\n",
       "\n",
       "    .dataframe tbody tr th {\n",
       "        vertical-align: top;\n",
       "    }\n",
       "\n",
       "    .dataframe thead th {\n",
       "        text-align: right;\n",
       "    }\n",
       "</style>\n",
       "<table border=\"1\" class=\"dataframe\">\n",
       "  <thead>\n",
       "    <tr style=\"text-align: right;\">\n",
       "      <th></th>\n",
       "      <th>Survived</th>\n",
       "      <th>Pclass</th>\n",
       "      <th>Name</th>\n",
       "      <th>Sex</th>\n",
       "      <th>Age</th>\n",
       "      <th>SibSp</th>\n",
       "      <th>Parch</th>\n",
       "      <th>Ticket</th>\n",
       "      <th>Fare</th>\n",
       "      <th>Cabin</th>\n",
       "      <th>Embarked</th>\n",
       "    </tr>\n",
       "  </thead>\n",
       "  <tbody>\n",
       "    <tr>\n",
       "      <th>1</th>\n",
       "      <td>1</td>\n",
       "      <td>1</td>\n",
       "      <td>Cumings, Mrs. John Bradley (Florence Briggs Th...</td>\n",
       "      <td>female</td>\n",
       "      <td>38.0</td>\n",
       "      <td>1</td>\n",
       "      <td>0</td>\n",
       "      <td>PC 17599</td>\n",
       "      <td>71.2833</td>\n",
       "      <td>C85</td>\n",
       "      <td>C</td>\n",
       "    </tr>\n",
       "    <tr>\n",
       "      <th>3</th>\n",
       "      <td>1</td>\n",
       "      <td>1</td>\n",
       "      <td>Futrelle, Mrs. Jacques Heath (Lily May Peel)</td>\n",
       "      <td>female</td>\n",
       "      <td>35.0</td>\n",
       "      <td>1</td>\n",
       "      <td>0</td>\n",
       "      <td>113803</td>\n",
       "      <td>53.1000</td>\n",
       "      <td>C123</td>\n",
       "      <td>S</td>\n",
       "    </tr>\n",
       "    <tr>\n",
       "      <th>6</th>\n",
       "      <td>0</td>\n",
       "      <td>1</td>\n",
       "      <td>McCarthy, Mr. Timothy J</td>\n",
       "      <td>male</td>\n",
       "      <td>54.0</td>\n",
       "      <td>0</td>\n",
       "      <td>0</td>\n",
       "      <td>17463</td>\n",
       "      <td>51.8625</td>\n",
       "      <td>E46</td>\n",
       "      <td>S</td>\n",
       "    </tr>\n",
       "    <tr>\n",
       "      <th>11</th>\n",
       "      <td>1</td>\n",
       "      <td>1</td>\n",
       "      <td>Bonnell, Miss. Elizabeth</td>\n",
       "      <td>female</td>\n",
       "      <td>58.0</td>\n",
       "      <td>0</td>\n",
       "      <td>0</td>\n",
       "      <td>113783</td>\n",
       "      <td>26.5500</td>\n",
       "      <td>C103</td>\n",
       "      <td>S</td>\n",
       "    </tr>\n",
       "    <tr>\n",
       "      <th>21</th>\n",
       "      <td>1</td>\n",
       "      <td>2</td>\n",
       "      <td>Beesley, Mr. Lawrence</td>\n",
       "      <td>male</td>\n",
       "      <td>34.0</td>\n",
       "      <td>0</td>\n",
       "      <td>0</td>\n",
       "      <td>248698</td>\n",
       "      <td>13.0000</td>\n",
       "      <td>D56</td>\n",
       "      <td>S</td>\n",
       "    </tr>\n",
       "    <tr>\n",
       "      <th>...</th>\n",
       "      <td>...</td>\n",
       "      <td>...</td>\n",
       "      <td>...</td>\n",
       "      <td>...</td>\n",
       "      <td>...</td>\n",
       "      <td>...</td>\n",
       "      <td>...</td>\n",
       "      <td>...</td>\n",
       "      <td>...</td>\n",
       "      <td>...</td>\n",
       "      <td>...</td>\n",
       "    </tr>\n",
       "    <tr>\n",
       "      <th>867</th>\n",
       "      <td>0</td>\n",
       "      <td>1</td>\n",
       "      <td>Roebling, Mr. Washington Augustus II</td>\n",
       "      <td>male</td>\n",
       "      <td>31.0</td>\n",
       "      <td>0</td>\n",
       "      <td>0</td>\n",
       "      <td>PC 17590</td>\n",
       "      <td>50.4958</td>\n",
       "      <td>A24</td>\n",
       "      <td>S</td>\n",
       "    </tr>\n",
       "    <tr>\n",
       "      <th>871</th>\n",
       "      <td>1</td>\n",
       "      <td>1</td>\n",
       "      <td>Beckwith, Mrs. Richard Leonard (Sallie Monypeny)</td>\n",
       "      <td>female</td>\n",
       "      <td>47.0</td>\n",
       "      <td>1</td>\n",
       "      <td>1</td>\n",
       "      <td>11751</td>\n",
       "      <td>52.5542</td>\n",
       "      <td>D35</td>\n",
       "      <td>S</td>\n",
       "    </tr>\n",
       "    <tr>\n",
       "      <th>872</th>\n",
       "      <td>0</td>\n",
       "      <td>1</td>\n",
       "      <td>Carlsson, Mr. Frans Olof</td>\n",
       "      <td>male</td>\n",
       "      <td>33.0</td>\n",
       "      <td>0</td>\n",
       "      <td>0</td>\n",
       "      <td>695</td>\n",
       "      <td>5.0000</td>\n",
       "      <td>B51 B53 B55</td>\n",
       "      <td>S</td>\n",
       "    </tr>\n",
       "    <tr>\n",
       "      <th>879</th>\n",
       "      <td>1</td>\n",
       "      <td>1</td>\n",
       "      <td>Potter, Mrs. Thomas Jr (Lily Alexenia Wilson)</td>\n",
       "      <td>female</td>\n",
       "      <td>56.0</td>\n",
       "      <td>0</td>\n",
       "      <td>1</td>\n",
       "      <td>11767</td>\n",
       "      <td>83.1583</td>\n",
       "      <td>C50</td>\n",
       "      <td>C</td>\n",
       "    </tr>\n",
       "    <tr>\n",
       "      <th>889</th>\n",
       "      <td>1</td>\n",
       "      <td>1</td>\n",
       "      <td>Behr, Mr. Karl Howell</td>\n",
       "      <td>male</td>\n",
       "      <td>26.0</td>\n",
       "      <td>0</td>\n",
       "      <td>0</td>\n",
       "      <td>111369</td>\n",
       "      <td>30.0000</td>\n",
       "      <td>C148</td>\n",
       "      <td>C</td>\n",
       "    </tr>\n",
       "  </tbody>\n",
       "</table>\n",
       "<p>144 rows × 11 columns</p>\n",
       "</div>"
      ],
      "text/plain": [
       "     Survived  Pclass                                               Name  \\\n",
       "1           1       1  Cumings, Mrs. John Bradley (Florence Briggs Th...   \n",
       "3           1       1       Futrelle, Mrs. Jacques Heath (Lily May Peel)   \n",
       "6           0       1                            McCarthy, Mr. Timothy J   \n",
       "11          1       1                           Bonnell, Miss. Elizabeth   \n",
       "21          1       2                              Beesley, Mr. Lawrence   \n",
       "..        ...     ...                                                ...   \n",
       "867         0       1               Roebling, Mr. Washington Augustus II   \n",
       "871         1       1   Beckwith, Mrs. Richard Leonard (Sallie Monypeny)   \n",
       "872         0       1                           Carlsson, Mr. Frans Olof   \n",
       "879         1       1      Potter, Mrs. Thomas Jr (Lily Alexenia Wilson)   \n",
       "889         1       1                              Behr, Mr. Karl Howell   \n",
       "\n",
       "        Sex   Age  SibSp  Parch    Ticket     Fare        Cabin Embarked  \n",
       "1    female  38.0      1      0  PC 17599  71.2833          C85        C  \n",
       "3    female  35.0      1      0    113803  53.1000         C123        S  \n",
       "6      male  54.0      0      0     17463  51.8625          E46        S  \n",
       "11   female  58.0      0      0    113783  26.5500         C103        S  \n",
       "21     male  34.0      0      0    248698  13.0000          D56        S  \n",
       "..      ...   ...    ...    ...       ...      ...          ...      ...  \n",
       "867    male  31.0      0      0  PC 17590  50.4958          A24        S  \n",
       "871  female  47.0      1      1     11751  52.5542          D35        S  \n",
       "872    male  33.0      0      0       695   5.0000  B51 B53 B55        S  \n",
       "879  female  56.0      0      1     11767  83.1583          C50        C  \n",
       "889    male  26.0      0      0    111369  30.0000         C148        C  \n",
       "\n",
       "[144 rows x 11 columns]"
      ]
     },
     "execution_count": 12,
     "metadata": {},
     "output_type": "execute_result"
    }
   ],
   "source": [
    "train_df1=train_df[train_df['Age'] <= 60 ][train_df.columns]\n",
    "train_df2=train_df1[train_df1['Age']>= 20 ][train_df1.columns]\n",
    "# or (train_df['Age'].max())\n",
    "train_df2\n"
   ]
  },
  {
   "cell_type": "code",
   "execution_count": 13,
   "id": "5fde3d1a",
   "metadata": {
    "execution": {
     "iopub.execute_input": "2023-07-03T13:53:01.986453Z",
     "iopub.status.busy": "2023-07-03T13:53:01.986047Z",
     "iopub.status.idle": "2023-07-03T13:53:02.606489Z",
     "shell.execute_reply": "2023-07-03T13:53:02.605345Z"
    },
    "papermill": {
     "duration": 0.641253,
     "end_time": "2023-07-03T13:53:02.609260",
     "exception": false,
     "start_time": "2023-07-03T13:53:01.968007",
     "status": "completed"
    },
    "tags": []
   },
   "outputs": [
    {
     "data": {
      "image/png": "[encoded data removed]",
      "text/plain": [
       "<Figure size 600x300 with 2 Axes>"
      ]
     },
     "metadata": {},
     "output_type": "display_data"
    }
   ],
   "source": [
    "train_df=train_df2\n",
    "g = sns.FacetGrid(train_df, col='Survived')\n",
    "g.map(plt.hist,'Age', bins=10)\n",
    "train_df['Age'].min()\n",
    "\n",
    "train_df=train_df2\n"
   ]
  },
  {
   "cell_type": "code",
   "execution_count": 14,
   "id": "b16e6f99",
   "metadata": {
    "execution": {
     "iopub.execute_input": "2023-07-03T13:53:02.645530Z",
     "iopub.status.busy": "2023-07-03T13:53:02.645110Z",
     "iopub.status.idle": "2023-07-03T13:53:02.654067Z",
     "shell.execute_reply": "2023-07-03T13:53:02.652878Z"
    },
    "papermill": {
     "duration": 0.030067,
     "end_time": "2023-07-03T13:53:02.656426",
     "exception": false,
     "start_time": "2023-07-03T13:53:02.626359",
     "status": "completed"
    },
    "tags": []
   },
   "outputs": [],
   "source": [
    "# Extract varaibles\n",
    "x_train= pd.DataFrame(train_df[['Pclass',\"Age\",\"SibSp\",'Parch','Fare']])\n",
    "y_train= pd.DataFrame(train_df[\"Survived\"])\n",
    "\n",
    "x_test= pd.DataFrame(test_df[['Pclass',\"Age\",\"SibSp\",'Parch','Fare']])\n",
    "y_test= pd.DataFrame(test_df[\"Survived\"])\n"
   ]
  },
  {
   "cell_type": "code",
   "execution_count": 15,
   "id": "de419578",
   "metadata": {
    "execution": {
     "iopub.execute_input": "2023-07-03T13:53:02.693975Z",
     "iopub.status.busy": "2023-07-03T13:53:02.692962Z",
     "iopub.status.idle": "2023-07-03T13:53:02.710778Z",
     "shell.execute_reply": "2023-07-03T13:53:02.709364Z"
    },
    "papermill": {
     "duration": 0.03955,
     "end_time": "2023-07-03T13:53:02.713932",
     "exception": false,
     "start_time": "2023-07-03T13:53:02.674382",
     "status": "completed"
    },
    "tags": []
   },
   "outputs": [
    {
     "data": {
      "text/html": [
       "<div>\n",
       "<style scoped>\n",
       "    .dataframe tbody tr th:only-of-type {\n",
       "        vertical-align: middle;\n",
       "    }\n",
       "\n",
       "    .dataframe tbody tr th {\n",
       "        vertical-align: top;\n",
       "    }\n",
       "\n",
       "    .dataframe thead th {\n",
       "        text-align: right;\n",
       "    }\n",
       "</style>\n",
       "<table border=\"1\" class=\"dataframe\">\n",
       "  <thead>\n",
       "    <tr style=\"text-align: right;\">\n",
       "      <th></th>\n",
       "      <th>Pclass</th>\n",
       "      <th>Age</th>\n",
       "      <th>SibSp</th>\n",
       "      <th>Parch</th>\n",
       "      <th>Fare</th>\n",
       "    </tr>\n",
       "  </thead>\n",
       "  <tbody>\n",
       "    <tr>\n",
       "      <th>1</th>\n",
       "      <td>1</td>\n",
       "      <td>38.0</td>\n",
       "      <td>1</td>\n",
       "      <td>0</td>\n",
       "      <td>71.2833</td>\n",
       "    </tr>\n",
       "    <tr>\n",
       "      <th>3</th>\n",
       "      <td>1</td>\n",
       "      <td>35.0</td>\n",
       "      <td>1</td>\n",
       "      <td>0</td>\n",
       "      <td>53.1000</td>\n",
       "    </tr>\n",
       "    <tr>\n",
       "      <th>6</th>\n",
       "      <td>1</td>\n",
       "      <td>54.0</td>\n",
       "      <td>0</td>\n",
       "      <td>0</td>\n",
       "      <td>51.8625</td>\n",
       "    </tr>\n",
       "    <tr>\n",
       "      <th>11</th>\n",
       "      <td>1</td>\n",
       "      <td>58.0</td>\n",
       "      <td>0</td>\n",
       "      <td>0</td>\n",
       "      <td>26.5500</td>\n",
       "    </tr>\n",
       "    <tr>\n",
       "      <th>21</th>\n",
       "      <td>2</td>\n",
       "      <td>34.0</td>\n",
       "      <td>0</td>\n",
       "      <td>0</td>\n",
       "      <td>13.0000</td>\n",
       "    </tr>\n",
       "    <tr>\n",
       "      <th>...</th>\n",
       "      <td>...</td>\n",
       "      <td>...</td>\n",
       "      <td>...</td>\n",
       "      <td>...</td>\n",
       "      <td>...</td>\n",
       "    </tr>\n",
       "    <tr>\n",
       "      <th>867</th>\n",
       "      <td>1</td>\n",
       "      <td>31.0</td>\n",
       "      <td>0</td>\n",
       "      <td>0</td>\n",
       "      <td>50.4958</td>\n",
       "    </tr>\n",
       "    <tr>\n",
       "      <th>871</th>\n",
       "      <td>1</td>\n",
       "      <td>47.0</td>\n",
       "      <td>1</td>\n",
       "      <td>1</td>\n",
       "      <td>52.5542</td>\n",
       "    </tr>\n",
       "    <tr>\n",
       "      <th>872</th>\n",
       "      <td>1</td>\n",
       "      <td>33.0</td>\n",
       "      <td>0</td>\n",
       "      <td>0</td>\n",
       "      <td>5.0000</td>\n",
       "    </tr>\n",
       "    <tr>\n",
       "      <th>879</th>\n",
       "      <td>1</td>\n",
       "      <td>56.0</td>\n",
       "      <td>0</td>\n",
       "      <td>1</td>\n",
       "      <td>83.1583</td>\n",
       "    </tr>\n",
       "    <tr>\n",
       "      <th>889</th>\n",
       "      <td>1</td>\n",
       "      <td>26.0</td>\n",
       "      <td>0</td>\n",
       "      <td>0</td>\n",
       "      <td>30.0000</td>\n",
       "    </tr>\n",
       "  </tbody>\n",
       "</table>\n",
       "<p>144 rows × 5 columns</p>\n",
       "</div>"
      ],
      "text/plain": [
       "     Pclass   Age  SibSp  Parch     Fare\n",
       "1         1  38.0      1      0  71.2833\n",
       "3         1  35.0      1      0  53.1000\n",
       "6         1  54.0      0      0  51.8625\n",
       "11        1  58.0      0      0  26.5500\n",
       "21        2  34.0      0      0  13.0000\n",
       "..      ...   ...    ...    ...      ...\n",
       "867       1  31.0      0      0  50.4958\n",
       "871       1  47.0      1      1  52.5542\n",
       "872       1  33.0      0      0   5.0000\n",
       "879       1  56.0      0      1  83.1583\n",
       "889       1  26.0      0      0  30.0000\n",
       "\n",
       "[144 rows x 5 columns]"
      ]
     },
     "execution_count": 15,
     "metadata": {},
     "output_type": "execute_result"
    }
   ],
   "source": [
    "x_train"
   ]
  },
  {
   "cell_type": "code",
   "execution_count": 16,
   "id": "4e41111c",
   "metadata": {
    "execution": {
     "iopub.execute_input": "2023-07-03T13:53:02.751079Z",
     "iopub.status.busy": "2023-07-03T13:53:02.750450Z",
     "iopub.status.idle": "2023-07-03T13:53:02.761780Z",
     "shell.execute_reply": "2023-07-03T13:53:02.760624Z"
    },
    "papermill": {
     "duration": 0.032467,
     "end_time": "2023-07-03T13:53:02.764350",
     "exception": false,
     "start_time": "2023-07-03T13:53:02.731883",
     "status": "completed"
    },
    "tags": []
   },
   "outputs": [
    {
     "data": {
      "text/html": [
       "<div>\n",
       "<style scoped>\n",
       "    .dataframe tbody tr th:only-of-type {\n",
       "        vertical-align: middle;\n",
       "    }\n",
       "\n",
       "    .dataframe tbody tr th {\n",
       "        vertical-align: top;\n",
       "    }\n",
       "\n",
       "    .dataframe thead th {\n",
       "        text-align: right;\n",
       "    }\n",
       "</style>\n",
       "<table border=\"1\" class=\"dataframe\">\n",
       "  <thead>\n",
       "    <tr style=\"text-align: right;\">\n",
       "      <th></th>\n",
       "      <th>Survived</th>\n",
       "    </tr>\n",
       "  </thead>\n",
       "  <tbody>\n",
       "    <tr>\n",
       "      <th>1</th>\n",
       "      <td>1</td>\n",
       "    </tr>\n",
       "    <tr>\n",
       "      <th>3</th>\n",
       "      <td>1</td>\n",
       "    </tr>\n",
       "    <tr>\n",
       "      <th>6</th>\n",
       "      <td>0</td>\n",
       "    </tr>\n",
       "    <tr>\n",
       "      <th>11</th>\n",
       "      <td>1</td>\n",
       "    </tr>\n",
       "    <tr>\n",
       "      <th>21</th>\n",
       "      <td>1</td>\n",
       "    </tr>\n",
       "    <tr>\n",
       "      <th>...</th>\n",
       "      <td>...</td>\n",
       "    </tr>\n",
       "    <tr>\n",
       "      <th>867</th>\n",
       "      <td>0</td>\n",
       "    </tr>\n",
       "    <tr>\n",
       "      <th>871</th>\n",
       "      <td>1</td>\n",
       "    </tr>\n",
       "    <tr>\n",
       "      <th>872</th>\n",
       "      <td>0</td>\n",
       "    </tr>\n",
       "    <tr>\n",
       "      <th>879</th>\n",
       "      <td>1</td>\n",
       "    </tr>\n",
       "    <tr>\n",
       "      <th>889</th>\n",
       "      <td>1</td>\n",
       "    </tr>\n",
       "  </tbody>\n",
       "</table>\n",
       "<p>144 rows × 1 columns</p>\n",
       "</div>"
      ],
      "text/plain": [
       "     Survived\n",
       "1           1\n",
       "3           1\n",
       "6           0\n",
       "11          1\n",
       "21          1\n",
       "..        ...\n",
       "867         0\n",
       "871         1\n",
       "872         0\n",
       "879         1\n",
       "889         1\n",
       "\n",
       "[144 rows x 1 columns]"
      ]
     },
     "execution_count": 16,
     "metadata": {},
     "output_type": "execute_result"
    }
   ],
   "source": [
    "y_train"
   ]
  },
  {
   "cell_type": "markdown",
   "id": "f4edc9ee",
   "metadata": {
    "papermill": {
     "duration": 0.017204,
     "end_time": "2023-07-03T13:53:02.799219",
     "exception": false,
     "start_time": "2023-07-03T13:53:02.782015",
     "status": "completed"
    },
    "tags": []
   },
   "source": [
    "# **Model Training**"
   ]
  },
  {
   "cell_type": "markdown",
   "id": "6b5eaddd",
   "metadata": {
    "papermill": {
     "duration": 0.017439,
     "end_time": "2023-07-03T13:53:02.834083",
     "exception": false,
     "start_time": "2023-07-03T13:53:02.816644",
     "status": "completed"
    },
    "tags": []
   },
   "source": [
    "**Decision Tree:**"
   ]
  },
  {
   "cell_type": "code",
   "execution_count": 17,
   "id": "b1a747ed",
   "metadata": {
    "execution": {
     "iopub.execute_input": "2023-07-03T13:53:02.871150Z",
     "iopub.status.busy": "2023-07-03T13:53:02.870754Z",
     "iopub.status.idle": "2023-07-03T13:53:02.876285Z",
     "shell.execute_reply": "2023-07-03T13:53:02.875196Z"
    },
    "papermill": {
     "duration": 0.026673,
     "end_time": "2023-07-03T13:53:02.878597",
     "exception": false,
     "start_time": "2023-07-03T13:53:02.851924",
     "status": "completed"
    },
    "tags": []
   },
   "outputs": [],
   "source": [
    "from sklearn.tree import DecisionTreeClassifier  \n",
    "import sklearn.metrics\n",
    "\n",
    "classifier= DecisionTreeClassifier(criterion='entropy', random_state=0)  \n",
    "# classifier.fit(x_train,y_train)"
   ]
  },
  {
   "cell_type": "markdown",
   "id": "744f99f0",
   "metadata": {
    "papermill": {
     "duration": 0.017312,
     "end_time": "2023-07-03T13:53:02.914476",
     "exception": false,
     "start_time": "2023-07-03T13:53:02.897164",
     "status": "completed"
    },
    "tags": []
   },
   "source": [
    "ANN:"
   ]
  },
  {
   "cell_type": "code",
   "execution_count": 18,
   "id": "505be1a4",
   "metadata": {
    "execution": {
     "iopub.execute_input": "2023-07-03T13:53:02.952212Z",
     "iopub.status.busy": "2023-07-03T13:53:02.951470Z",
     "iopub.status.idle": "2023-07-03T13:53:02.955847Z",
     "shell.execute_reply": "2023-07-03T13:53:02.955041Z"
    },
    "papermill": {
     "duration": 0.025359,
     "end_time": "2023-07-03T13:53:02.957966",
     "exception": false,
     "start_time": "2023-07-03T13:53:02.932607",
     "status": "completed"
    },
    "tags": []
   },
   "outputs": [],
   "source": [
    "\n",
    "AdaBoost=AdaBoostClassifier(base_estimator=classifier,n_estimators=300,learning_rate=5)\n"
   ]
  },
  {
   "cell_type": "code",
   "execution_count": 19,
   "id": "cf0a8b67",
   "metadata": {
    "execution": {
     "iopub.execute_input": "2023-07-03T13:53:03.000054Z",
     "iopub.status.busy": "2023-07-03T13:53:02.999315Z",
     "iopub.status.idle": "2023-07-03T13:53:03.015824Z",
     "shell.execute_reply": "2023-07-03T13:53:03.014844Z"
    },
    "papermill": {
     "duration": 0.043148,
     "end_time": "2023-07-03T13:53:03.018679",
     "exception": false,
     "start_time": "2023-07-03T13:53:02.975531",
     "status": "completed"
    },
    "tags": []
   },
   "outputs": [
    {
     "name": "stderr",
     "output_type": "stream",
     "text": [
      "/opt/conda/lib/python3.10/site-packages/sklearn/utils/validation.py:1143: DataConversionWarning: A column-vector y was passed when a 1d array was expected. Please change the shape of y to (n_samples, ), for example using ravel().\n",
      "  y = column_or_1d(y, warn=True)\n",
      "/opt/conda/lib/python3.10/site-packages/sklearn/ensemble/_base.py:166: FutureWarning: `base_estimator` was renamed to `estimator` in version 1.2 and will be removed in 1.4.\n",
      "  warnings.warn(\n"
     ]
    }
   ],
   "source": [
    "\n",
    "\n",
    "boostmodel=AdaBoost.fit(x_train,y_train)\n"
   ]
  },
  {
   "cell_type": "code",
   "execution_count": 20,
   "id": "7f111f13",
   "metadata": {
    "execution": {
     "iopub.execute_input": "2023-07-03T13:53:03.056784Z",
     "iopub.status.busy": "2023-07-03T13:53:03.056006Z",
     "iopub.status.idle": "2023-07-03T13:53:03.070592Z",
     "shell.execute_reply": "2023-07-03T13:53:03.069653Z"
    },
    "papermill": {
     "duration": 0.036384,
     "end_time": "2023-07-03T13:53:03.073063",
     "exception": false,
     "start_time": "2023-07-03T13:53:03.036679",
     "status": "completed"
    },
    "tags": []
   },
   "outputs": [
    {
     "data": {
      "text/plain": [
       "58.620689655172406"
      ]
     },
     "execution_count": 20,
     "metadata": {},
     "output_type": "execute_result"
    }
   ],
   "source": [
    "from sklearn import metrics\n",
    "y_pred=boostmodel.predict(x_test)\n",
    "predictions=metrics.accuracy_score(y_test,y_pred)\n",
    "\n",
    "predictions*100"
   ]
  },
  {
   "cell_type": "markdown",
   "id": "b313d2a7",
   "metadata": {
    "papermill": {
     "duration": 0.017725,
     "end_time": "2023-07-03T13:53:03.109909",
     "exception": false,
     "start_time": "2023-07-03T13:53:03.092184",
     "status": "completed"
    },
    "tags": []
   },
   "source": [
    "# **Prediction**"
   ]
  },
  {
   "cell_type": "code",
   "execution_count": 21,
   "id": "758db1b3",
   "metadata": {
    "execution": {
     "iopub.execute_input": "2023-07-03T13:53:03.148690Z",
     "iopub.status.busy": "2023-07-03T13:53:03.147670Z",
     "iopub.status.idle": "2023-07-03T13:53:03.172560Z",
     "shell.execute_reply": "2023-07-03T13:53:03.171420Z"
    },
    "papermill": {
     "duration": 0.046879,
     "end_time": "2023-07-03T13:53:03.175062",
     "exception": false,
     "start_time": "2023-07-03T13:53:03.128183",
     "status": "completed"
    },
    "tags": []
   },
   "outputs": [
    {
     "data": {
      "text/html": [
       "<div>\n",
       "<style scoped>\n",
       "    .dataframe tbody tr th:only-of-type {\n",
       "        vertical-align: middle;\n",
       "    }\n",
       "\n",
       "    .dataframe tbody tr th {\n",
       "        vertical-align: top;\n",
       "    }\n",
       "\n",
       "    .dataframe thead th {\n",
       "        text-align: right;\n",
       "    }\n",
       "</style>\n",
       "<table border=\"1\" class=\"dataframe\">\n",
       "  <thead>\n",
       "    <tr style=\"text-align: right;\">\n",
       "      <th></th>\n",
       "      <th>Pclass</th>\n",
       "      <th>Age</th>\n",
       "      <th>SibSp</th>\n",
       "      <th>Parch</th>\n",
       "      <th>Fare</th>\n",
       "    </tr>\n",
       "  </thead>\n",
       "  <tbody>\n",
       "    <tr>\n",
       "      <th>1</th>\n",
       "      <td>1</td>\n",
       "      <td>38.0</td>\n",
       "      <td>1</td>\n",
       "      <td>0</td>\n",
       "      <td>71.2833</td>\n",
       "    </tr>\n",
       "    <tr>\n",
       "      <th>3</th>\n",
       "      <td>1</td>\n",
       "      <td>35.0</td>\n",
       "      <td>1</td>\n",
       "      <td>0</td>\n",
       "      <td>53.1000</td>\n",
       "    </tr>\n",
       "    <tr>\n",
       "      <th>6</th>\n",
       "      <td>1</td>\n",
       "      <td>54.0</td>\n",
       "      <td>0</td>\n",
       "      <td>0</td>\n",
       "      <td>51.8625</td>\n",
       "    </tr>\n",
       "    <tr>\n",
       "      <th>11</th>\n",
       "      <td>1</td>\n",
       "      <td>58.0</td>\n",
       "      <td>0</td>\n",
       "      <td>0</td>\n",
       "      <td>26.5500</td>\n",
       "    </tr>\n",
       "    <tr>\n",
       "      <th>21</th>\n",
       "      <td>2</td>\n",
       "      <td>34.0</td>\n",
       "      <td>0</td>\n",
       "      <td>0</td>\n",
       "      <td>13.0000</td>\n",
       "    </tr>\n",
       "    <tr>\n",
       "      <th>...</th>\n",
       "      <td>...</td>\n",
       "      <td>...</td>\n",
       "      <td>...</td>\n",
       "      <td>...</td>\n",
       "      <td>...</td>\n",
       "    </tr>\n",
       "    <tr>\n",
       "      <th>867</th>\n",
       "      <td>1</td>\n",
       "      <td>31.0</td>\n",
       "      <td>0</td>\n",
       "      <td>0</td>\n",
       "      <td>50.4958</td>\n",
       "    </tr>\n",
       "    <tr>\n",
       "      <th>871</th>\n",
       "      <td>1</td>\n",
       "      <td>47.0</td>\n",
       "      <td>1</td>\n",
       "      <td>1</td>\n",
       "      <td>52.5542</td>\n",
       "    </tr>\n",
       "    <tr>\n",
       "      <th>872</th>\n",
       "      <td>1</td>\n",
       "      <td>33.0</td>\n",
       "      <td>0</td>\n",
       "      <td>0</td>\n",
       "      <td>5.0000</td>\n",
       "    </tr>\n",
       "    <tr>\n",
       "      <th>879</th>\n",
       "      <td>1</td>\n",
       "      <td>56.0</td>\n",
       "      <td>0</td>\n",
       "      <td>1</td>\n",
       "      <td>83.1583</td>\n",
       "    </tr>\n",
       "    <tr>\n",
       "      <th>889</th>\n",
       "      <td>1</td>\n",
       "      <td>26.0</td>\n",
       "      <td>0</td>\n",
       "      <td>0</td>\n",
       "      <td>30.0000</td>\n",
       "    </tr>\n",
       "  </tbody>\n",
       "</table>\n",
       "<p>144 rows × 5 columns</p>\n",
       "</div>"
      ],
      "text/plain": [
       "     Pclass   Age  SibSp  Parch     Fare\n",
       "1         1  38.0      1      0  71.2833\n",
       "3         1  35.0      1      0  53.1000\n",
       "6         1  54.0      0      0  51.8625\n",
       "11        1  58.0      0      0  26.5500\n",
       "21        2  34.0      0      0  13.0000\n",
       "..      ...   ...    ...    ...      ...\n",
       "867       1  31.0      0      0  50.4958\n",
       "871       1  47.0      1      1  52.5542\n",
       "872       1  33.0      0      0   5.0000\n",
       "879       1  56.0      0      1  83.1583\n",
       "889       1  26.0      0      0  30.0000\n",
       "\n",
       "[144 rows x 5 columns]"
      ]
     },
     "execution_count": 21,
     "metadata": {},
     "output_type": "execute_result"
    }
   ],
   "source": [
    "x_train"
   ]
  },
  {
   "cell_type": "code",
   "execution_count": 22,
   "id": "209be7a9",
   "metadata": {
    "execution": {
     "iopub.execute_input": "2023-07-03T13:53:03.221541Z",
     "iopub.status.busy": "2023-07-03T13:53:03.220271Z",
     "iopub.status.idle": "2023-07-03T13:53:03.232266Z",
     "shell.execute_reply": "2023-07-03T13:53:03.231415Z"
    },
    "papermill": {
     "duration": 0.03992,
     "end_time": "2023-07-03T13:53:03.236136",
     "exception": false,
     "start_time": "2023-07-03T13:53:03.196216",
     "status": "completed"
    },
    "tags": []
   },
   "outputs": [
    {
     "name": "stderr",
     "output_type": "stream",
     "text": [
      "/opt/conda/lib/python3.10/site-packages/sklearn/base.py:439: UserWarning: X does not have valid feature names, but AdaBoostClassifier was fitted with feature names\n",
      "  warnings.warn(\n"
     ]
    },
    {
     "data": {
      "text/plain": [
       "array([1])"
      ]
     },
     "execution_count": 22,
     "metadata": {},
     "output_type": "execute_result"
    }
   ],
   "source": [
    "\n",
    "boostmodel.predict([[1,38.0,1,0,71.2833]])"
   ]
  },
  {
   "cell_type": "markdown",
   "id": "5fd1022b",
   "metadata": {
    "papermill": {
     "duration": 0.018261,
     "end_time": "2023-07-03T13:53:03.277122",
     "exception": false,
     "start_time": "2023-07-03T13:53:03.258861",
     "status": "completed"
    },
    "tags": []
   },
   "source": [
    "# **Test accuracy**"
   ]
  },
  {
   "cell_type": "code",
   "execution_count": 23,
   "id": "bce4210c",
   "metadata": {
    "execution": {
     "iopub.execute_input": "2023-07-03T13:53:03.315736Z",
     "iopub.status.busy": "2023-07-03T13:53:03.315293Z",
     "iopub.status.idle": "2023-07-03T13:53:03.324811Z",
     "shell.execute_reply": "2023-07-03T13:53:03.323481Z"
    },
    "papermill": {
     "duration": 0.031471,
     "end_time": "2023-07-03T13:53:03.327034",
     "exception": false,
     "start_time": "2023-07-03T13:53:03.295563",
     "status": "completed"
    },
    "tags": []
   },
   "outputs": [
    {
     "data": {
      "text/plain": [
       "Survived    87\n",
       "dtype: int64"
      ]
     },
     "execution_count": 23,
     "metadata": {},
     "output_type": "execute_result"
    }
   ],
   "source": [
    "y_test.count()\n"
   ]
  },
  {
   "cell_type": "code",
   "execution_count": 24,
   "id": "49a0496d",
   "metadata": {
    "execution": {
     "iopub.execute_input": "2023-07-03T13:53:03.366504Z",
     "iopub.status.busy": "2023-07-03T13:53:03.365801Z",
     "iopub.status.idle": "2023-07-03T13:53:03.376927Z",
     "shell.execute_reply": "2023-07-03T13:53:03.375747Z"
    },
    "papermill": {
     "duration": 0.033736,
     "end_time": "2023-07-03T13:53:03.379253",
     "exception": false,
     "start_time": "2023-07-03T13:53:03.345517",
     "status": "completed"
    },
    "tags": []
   },
   "outputs": [
    {
     "data": {
      "text/plain": [
       "0    87\n",
       "dtype: int64"
      ]
     },
     "execution_count": 24,
     "metadata": {},
     "output_type": "execute_result"
    }
   ],
   "source": [
    "y_predict=boostmodel.predict(x_test)\n",
    "y_predict=pd.DataFrame(y_predict)\n",
    "y_predict.count()"
   ]
  },
  {
   "cell_type": "code",
   "execution_count": 25,
   "id": "82f4cd13",
   "metadata": {
    "execution": {
     "iopub.execute_input": "2023-07-03T13:53:03.418485Z",
     "iopub.status.busy": "2023-07-03T13:53:03.418068Z",
     "iopub.status.idle": "2023-07-03T13:53:03.432019Z",
     "shell.execute_reply": "2023-07-03T13:53:03.431067Z"
    },
    "papermill": {
     "duration": 0.036265,
     "end_time": "2023-07-03T13:53:03.434477",
     "exception": false,
     "start_time": "2023-07-03T13:53:03.398212",
     "status": "completed"
    },
    "tags": []
   },
   "outputs": [],
   "source": [
    "\n",
    "from sklearn.metrics import confusion_matrix as CM\n",
    "from sklearn import metrics\n",
    "cm=CM(y_test,y_predict)"
   ]
  },
  {
   "cell_type": "code",
   "execution_count": 26,
   "id": "6b404852",
   "metadata": {
    "execution": {
     "iopub.execute_input": "2023-07-03T13:53:03.474389Z",
     "iopub.status.busy": "2023-07-03T13:53:03.473592Z",
     "iopub.status.idle": "2023-07-03T13:53:03.480589Z",
     "shell.execute_reply": "2023-07-03T13:53:03.479633Z"
    },
    "papermill": {
     "duration": 0.029714,
     "end_time": "2023-07-03T13:53:03.482958",
     "exception": false,
     "start_time": "2023-07-03T13:53:03.453244",
     "status": "completed"
    },
    "tags": []
   },
   "outputs": [
    {
     "data": {
      "text/plain": [
       "array([[15, 28],\n",
       "       [ 8, 36]])"
      ]
     },
     "execution_count": 26,
     "metadata": {},
     "output_type": "execute_result"
    }
   ],
   "source": [
    "cm"
   ]
  },
  {
   "cell_type": "code",
   "execution_count": 27,
   "id": "804cda38",
   "metadata": {
    "execution": {
     "iopub.execute_input": "2023-07-03T13:53:03.522797Z",
     "iopub.status.busy": "2023-07-03T13:53:03.522007Z",
     "iopub.status.idle": "2023-07-03T13:53:03.536223Z",
     "shell.execute_reply": "2023-07-03T13:53:03.535176Z"
    },
    "papermill": {
     "duration": 0.036867,
     "end_time": "2023-07-03T13:53:03.538562",
     "exception": false,
     "start_time": "2023-07-03T13:53:03.501695",
     "status": "completed"
    },
    "tags": []
   },
   "outputs": [
    {
     "data": {
      "text/plain": [
       "58.620689655172406"
      ]
     },
     "execution_count": 27,
     "metadata": {},
     "output_type": "execute_result"
    }
   ],
   "source": [
    "acc=metrics.accuracy_score(y_test,y_predict)\n",
    "acc*100"
   ]
  },
  {
   "cell_type": "code",
   "execution_count": 28,
   "id": "5204dc5f",
   "metadata": {
    "execution": {
     "iopub.execute_input": "2023-07-03T13:53:03.578300Z",
     "iopub.status.busy": "2023-07-03T13:53:03.577859Z",
     "iopub.status.idle": "2023-07-03T13:53:03.637655Z",
     "shell.execute_reply": "2023-07-03T13:53:03.636414Z"
    },
    "papermill": {
     "duration": 0.082704,
     "end_time": "2023-07-03T13:53:03.640354",
     "exception": false,
     "start_time": "2023-07-03T13:53:03.557650",
     "status": "completed"
    },
    "tags": []
   },
   "outputs": [
    {
     "name": "stdout",
     "output_type": "stream",
     "text": [
      "Accuracy   : 58.620689655172406\n",
      "Precision : 56.25\n",
      "Recall    : 81.81818181818183\n",
      "F1-score  : 66.66666666666666\n"
     ]
    }
   ],
   "source": [
    "# Finding precision and recall\n",
    "accuracy = metrics.accuracy_score(y_test, y_predict)\n",
    "print(\"Accuracy   :\", accuracy*100)\n",
    "precision = metrics.precision_score(y_test, y_predict)\n",
    "print(\"Precision :\", precision*100)\n",
    "recall = metrics.recall_score(y_test, y_predict)\n",
    "print(\"Recall    :\", recall*100)\n",
    "F1_score = metrics.f1_score(y_test, y_predict)\n",
    "print(\"F1-score  :\", F1_score*100)"
   ]
  },
  {
   "cell_type": "markdown",
   "id": "6625a893",
   "metadata": {
    "papermill": {
     "duration": 0.018626,
     "end_time": "2023-07-03T13:53:03.678451",
     "exception": false,
     "start_time": "2023-07-03T13:53:03.659825",
     "status": "completed"
    },
    "tags": []
   },
   "source": [
    "# **Virsualization**"
   ]
  },
  {
   "cell_type": "code",
   "execution_count": 29,
   "id": "9325acde",
   "metadata": {
    "execution": {
     "iopub.execute_input": "2023-07-03T13:53:03.719089Z",
     "iopub.status.busy": "2023-07-03T13:53:03.718695Z",
     "iopub.status.idle": "2023-07-03T13:53:03.968622Z",
     "shell.execute_reply": "2023-07-03T13:53:03.967413Z"
    },
    "papermill": {
     "duration": 0.273183,
     "end_time": "2023-07-03T13:53:03.971160",
     "exception": false,
     "start_time": "2023-07-03T13:53:03.697977",
     "status": "completed"
    },
    "tags": []
   },
   "outputs": [
    {
     "data": {
      "text/plain": [
       "[<matplotlib.lines.Line2D at 0x7ef5b93ad720>]"
      ]
     },
     "execution_count": 29,
     "metadata": {},
     "output_type": "execute_result"
    },
    {
     "data": {
      "image/png": "[encoded data removed]",
      "text/plain": [
       "<Figure size 640x480 with 1 Axes>"
      ]
     },
     "metadata": {},
     "output_type": "display_data"
    }
   ],
   "source": [
    "import numpy as np\n",
    "\n",
    "xpoints = train_df[train_df[\"Sex\"]==\"male\"]['Survived']\n",
    "ypoints = train_df[train_df[\"Sex\"]==\"male\"][\"Age\"]\n",
    "\n",
    "x1points = train_df[train_df[\"Sex\"]!=\"male\"]['Survived']\n",
    "y1points = train_df[train_df[\"Sex\"]!=\"male\"][\"Age\"]\n",
    "\n",
    "plt.plot(xpoints, ypoints,\".\")\n",
    "plt.plot(x1points, y1points,\"^\")\n",
    "\n",
    "\n",
    "\n"
   ]
  },
  {
   "cell_type": "code",
   "execution_count": 30,
   "id": "849525d1",
   "metadata": {
    "execution": {
     "iopub.execute_input": "2023-07-03T13:53:04.013779Z",
     "iopub.status.busy": "2023-07-03T13:53:04.012431Z",
     "iopub.status.idle": "2023-07-03T13:53:04.021904Z",
     "shell.execute_reply": "2023-07-03T13:53:04.020467Z"
    },
    "papermill": {
     "duration": 0.033944,
     "end_time": "2023-07-03T13:53:04.024602",
     "exception": false,
     "start_time": "2023-07-03T13:53:03.990658",
     "status": "completed"
    },
    "tags": []
   },
   "outputs": [
    {
     "data": {
      "text/plain": [
       "(21.0, 60.0)"
      ]
     },
     "execution_count": 30,
     "metadata": {},
     "output_type": "execute_result"
    }
   ],
   "source": [
    "train_df[\"Age\"].min(),train_df[\"Age\"].max()"
   ]
  },
  {
   "cell_type": "code",
   "execution_count": 31,
   "id": "da4a02b6",
   "metadata": {
    "execution": {
     "iopub.execute_input": "2023-07-03T13:53:04.066226Z",
     "iopub.status.busy": "2023-07-03T13:53:04.065833Z",
     "iopub.status.idle": "2023-07-03T13:53:04.991607Z",
     "shell.execute_reply": "2023-07-03T13:53:04.990373Z"
    },
    "papermill": {
     "duration": 0.949419,
     "end_time": "2023-07-03T13:53:04.994129",
     "exception": false,
     "start_time": "2023-07-03T13:53:04.044710",
     "status": "completed"
    },
    "tags": []
   },
   "outputs": [
    {
     "data": {
      "text/plain": [
       "21.0"
      ]
     },
     "execution_count": 31,
     "metadata": {},
     "output_type": "execute_result"
    },
    {
     "data": {
      "image/png": "[encoded data removed]",
      "text/plain": [
       "<Figure size 672.111x300 with 2 Axes>"
      ]
     },
     "metadata": {},
     "output_type": "display_data"
    }
   ],
   "source": [
    "g = sns.FacetGrid(train_df, col='Sex',hue='Survived')\n",
    "g.map(plt.scatter,'Age','Fare',edgecolor =\"w\").add_legend()\n",
    "train_df['Age'].min()"
   ]
  },
  {
   "cell_type": "code",
   "execution_count": 32,
   "id": "80543c50",
   "metadata": {
    "execution": {
     "iopub.execute_input": "2023-07-03T13:53:05.037040Z",
     "iopub.status.busy": "2023-07-03T13:53:05.036631Z",
     "iopub.status.idle": "2023-07-03T13:53:05.585259Z",
     "shell.execute_reply": "2023-07-03T13:53:05.584009Z"
    },
    "papermill": {
     "duration": 0.573083,
     "end_time": "2023-07-03T13:53:05.587791",
     "exception": false,
     "start_time": "2023-07-03T13:53:05.014708",
     "status": "completed"
    },
    "tags": []
   },
   "outputs": [
    {
     "name": "stderr",
     "output_type": "stream",
     "text": [
      "/tmp/ipykernel_20/663931128.py:1: FutureWarning: The default value of numeric_only in DataFrame.corr is deprecated. In a future version, it will default to False. Select only valid columns or specify the value of numeric_only to silence this warning.\n",
      "  sns.heatmap(train_df.corr())\n"
     ]
    },
    {
     "data": {
      "text/plain": [
       "<Axes: >"
      ]
     },
     "execution_count": 32,
     "metadata": {},
     "output_type": "execute_result"
    },
    {
     "data": {
      "image/png": "[encoded data removed]",
      "text/plain": [
       "<Figure size 640x480 with 2 Axes>"
      ]
     },
     "metadata": {},
     "output_type": "display_data"
    }
   ],
   "source": [
    "sns.heatmap(train_df.corr())"
   ]
  },
  {
   "cell_type": "code",
   "execution_count": 33,
   "id": "74a61947",
   "metadata": {
    "execution": {
     "iopub.execute_input": "2023-07-03T13:53:05.631990Z",
     "iopub.status.busy": "2023-07-03T13:53:05.631597Z",
     "iopub.status.idle": "2023-07-03T13:53:06.028717Z",
     "shell.execute_reply": "2023-07-03T13:53:06.027505Z"
    },
    "papermill": {
     "duration": 0.422329,
     "end_time": "2023-07-03T13:53:06.031403",
     "exception": false,
     "start_time": "2023-07-03T13:53:05.609074",
     "status": "completed"
    },
    "tags": []
   },
   "outputs": [
    {
     "data": {
      "image/png": "[encoded data removed]",
      "text/plain": [
       "<Figure size 640x480 with 1 Axes>"
      ]
     },
     "metadata": {},
     "output_type": "display_data"
    }
   ],
   "source": [
    "sns.lineplot(x=\"Pclass\", y=\"Survived\", data=train_df)\n",
    "plt.show()"
   ]
  },
  {
   "cell_type": "code",
   "execution_count": 34,
   "id": "a1609aef",
   "metadata": {
    "execution": {
     "iopub.execute_input": "2023-07-03T13:53:06.076696Z",
     "iopub.status.busy": "2023-07-03T13:53:06.076251Z",
     "iopub.status.idle": "2023-07-03T13:53:06.476341Z",
     "shell.execute_reply": "2023-07-03T13:53:06.475126Z"
    },
    "papermill": {
     "duration": 0.425519,
     "end_time": "2023-07-03T13:53:06.478758",
     "exception": false,
     "start_time": "2023-07-03T13:53:06.053239",
     "status": "completed"
    },
    "tags": []
   },
   "outputs": [
    {
     "name": "stderr",
     "output_type": "stream",
     "text": [
      "/tmp/ipykernel_20/2418938664.py:1: UserWarning: \n",
      "\n",
      "`distplot` is a deprecated function and will be removed in seaborn v0.14.0.\n",
      "\n",
      "Please adapt your code to use either `displot` (a figure-level function with\n",
      "similar flexibility) or `histplot` (an axes-level function for histograms).\n",
      "\n",
      "For a guide to updating your code to use the new functions, please see\n",
      "https://gist.github.com/mwaskom/de44147ed2974457ad6372750bbe5751\n",
      "\n",
      "  sns.distplot(train_df['Parch'], kde = True, color ='red', bins = 30)\n"
     ]
    },
    {
     "data": {
      "text/plain": [
       "<Axes: xlabel='Parch', ylabel='Density'>"
      ]
     },
     "execution_count": 34,
     "metadata": {},
     "output_type": "execute_result"
    },
    {
     "data": {
      "image/png": "[encoded data removed]",
      "text/plain": [
       "<Figure size 640x480 with 1 Axes>"
      ]
     },
     "metadata": {},
     "output_type": "display_data"
    }
   ],
   "source": [
    "\n",
    "sns.distplot(train_df['Parch'], kde = True, color ='red', bins = 30)\n"
   ]
  },
  {
   "cell_type": "code",
   "execution_count": 35,
   "id": "fefe9b0a",
   "metadata": {
    "execution": {
     "iopub.execute_input": "2023-07-03T13:53:06.526247Z",
     "iopub.status.busy": "2023-07-03T13:53:06.525842Z",
     "iopub.status.idle": "2023-07-03T13:53:06.863306Z",
     "shell.execute_reply": "2023-07-03T13:53:06.862233Z"
    },
    "papermill": {
     "duration": 0.363542,
     "end_time": "2023-07-03T13:53:06.865713",
     "exception": false,
     "start_time": "2023-07-03T13:53:06.502171",
     "status": "completed"
    },
    "tags": []
   },
   "outputs": [
    {
     "data": {
      "text/plain": [
       "<Axes: xlabel='Parch', ylabel='Survived'>"
      ]
     },
     "execution_count": 35,
     "metadata": {},
     "output_type": "execute_result"
    },
    {
     "data": {
      "image/png": "[encoded data removed]",
      "text/plain": [
       "<Figure size 640x480 with 1 Axes>"
      ]
     },
     "metadata": {},
     "output_type": "display_data"
    }
   ],
   "source": [
    "\n",
    "sns.barplot(data=train_df,x=\"Parch\",y=\"Survived\", palette='bright')"
   ]
  },
  {
   "cell_type": "code",
   "execution_count": 36,
   "id": "f551666c",
   "metadata": {
    "execution": {
     "iopub.execute_input": "2023-07-03T13:53:06.912637Z",
     "iopub.status.busy": "2023-07-03T13:53:06.912220Z",
     "iopub.status.idle": "2023-07-03T13:53:07.678296Z",
     "shell.execute_reply": "2023-07-03T13:53:07.677114Z"
    },
    "papermill": {
     "duration": 0.792939,
     "end_time": "2023-07-03T13:53:07.680987",
     "exception": false,
     "start_time": "2023-07-03T13:53:06.888048",
     "status": "completed"
    },
    "tags": []
   },
   "outputs": [
    {
     "data": {
      "text/plain": [
       "<seaborn.axisgrid.FacetGrid at 0x7ef5b91d3340>"
      ]
     },
     "execution_count": 36,
     "metadata": {},
     "output_type": "execute_result"
    },
    {
     "data": {
      "image/png": "[encoded data removed]",
      "text/plain": [
       "<Figure size 600x300 with 2 Axes>"
      ]
     },
     "metadata": {},
     "output_type": "display_data"
    }
   ],
   "source": [
    "\n",
    "sea = sns.FacetGrid(train_df, col = \"Survived\")\n",
    "sea.map(sns.histplot,\"Survived\",\"Fare\")"
   ]
  },
  {
   "cell_type": "code",
   "execution_count": 37,
   "id": "6b08c3e2",
   "metadata": {
    "execution": {
     "iopub.execute_input": "2023-07-03T13:53:07.728424Z",
     "iopub.status.busy": "2023-07-03T13:53:07.728021Z",
     "iopub.status.idle": "2023-07-03T13:53:07.974238Z",
     "shell.execute_reply": "2023-07-03T13:53:07.972938Z"
    },
    "papermill": {
     "duration": 0.272843,
     "end_time": "2023-07-03T13:53:07.976753",
     "exception": false,
     "start_time": "2023-07-03T13:53:07.703910",
     "status": "completed"
    },
    "tags": []
   },
   "outputs": [
    {
     "data": {
      "text/plain": [
       "<Axes: xlabel='SibSp', ylabel='count'>"
      ]
     },
     "execution_count": 37,
     "metadata": {},
     "output_type": "execute_result"
    },
    {
     "data": {
      "image/png": "[encoded data removed]",
      "text/plain": [
       "<Figure size 640x480 with 1 Axes>"
      ]
     },
     "metadata": {},
     "output_type": "display_data"
    }
   ],
   "source": [
    "# sns.barplot(data=train_df,x=\"SibSp\",y='Survived',color='y')\n",
    "\n",
    "\n",
    "sns.countplot(x=train_df['SibSp'],palette='pastel')"
   ]
  },
  {
   "cell_type": "markdown",
   "id": "1d430dc7",
   "metadata": {
    "papermill": {
     "duration": 0.023276,
     "end_time": "2023-07-03T13:53:08.023427",
     "exception": false,
     "start_time": "2023-07-03T13:53:08.000151",
     "status": "completed"
    },
    "tags": []
   },
   "source": [
    "# **Submission**"
   ]
  },
  {
   "cell_type": "code",
   "execution_count": 38,
   "id": "cc3453e3",
   "metadata": {
    "execution": {
     "iopub.execute_input": "2023-07-03T13:53:08.072393Z",
     "iopub.status.busy": "2023-07-03T13:53:08.071486Z",
     "iopub.status.idle": "2023-07-03T13:53:08.088027Z",
     "shell.execute_reply": "2023-07-03T13:53:08.086913Z"
    },
    "papermill": {
     "duration": 0.043379,
     "end_time": "2023-07-03T13:53:08.090238",
     "exception": false,
     "start_time": "2023-07-03T13:53:08.046859",
     "status": "completed"
    },
    "tags": []
   },
   "outputs": [
    {
     "data": {
      "text/html": [
       "<div>\n",
       "<style scoped>\n",
       "    .dataframe tbody tr th:only-of-type {\n",
       "        vertical-align: middle;\n",
       "    }\n",
       "\n",
       "    .dataframe tbody tr th {\n",
       "        vertical-align: top;\n",
       "    }\n",
       "\n",
       "    .dataframe thead th {\n",
       "        text-align: right;\n",
       "    }\n",
       "</style>\n",
       "<table border=\"1\" class=\"dataframe\">\n",
       "  <thead>\n",
       "    <tr style=\"text-align: right;\">\n",
       "      <th></th>\n",
       "      <th>PassengerId</th>\n",
       "      <th>Pclass</th>\n",
       "      <th>Name</th>\n",
       "      <th>Sex</th>\n",
       "      <th>Age</th>\n",
       "      <th>SibSp</th>\n",
       "      <th>Parch</th>\n",
       "      <th>Ticket</th>\n",
       "      <th>Fare</th>\n",
       "      <th>Cabin</th>\n",
       "      <th>Embarked</th>\n",
       "      <th>Survived</th>\n",
       "    </tr>\n",
       "  </thead>\n",
       "  <tbody>\n",
       "    <tr>\n",
       "      <th>12</th>\n",
       "      <td>904</td>\n",
       "      <td>1</td>\n",
       "      <td>Snyder, Mrs. John Pillsbury (Nelle Stevenson)</td>\n",
       "      <td>female</td>\n",
       "      <td>23.0</td>\n",
       "      <td>1</td>\n",
       "      <td>0</td>\n",
       "      <td>21228</td>\n",
       "      <td>82.2667</td>\n",
       "      <td>B45</td>\n",
       "      <td>S</td>\n",
       "      <td>1</td>\n",
       "    </tr>\n",
       "  </tbody>\n",
       "</table>\n",
       "</div>"
      ],
      "text/plain": [
       "    PassengerId  Pclass                                           Name  \\\n",
       "12          904       1  Snyder, Mrs. John Pillsbury (Nelle Stevenson)   \n",
       "\n",
       "       Sex   Age  SibSp  Parch Ticket     Fare Cabin Embarked  Survived  \n",
       "12  female  23.0      1      0  21228  82.2667   B45        S         1  "
      ]
     },
     "execution_count": 38,
     "metadata": {},
     "output_type": "execute_result"
    }
   ],
   "source": [
    "test_df.head(1)"
   ]
  },
  {
   "cell_type": "code",
   "execution_count": 39,
   "id": "d82dc62e",
   "metadata": {
    "execution": {
     "iopub.execute_input": "2023-07-03T13:53:08.141526Z",
     "iopub.status.busy": "2023-07-03T13:53:08.141098Z",
     "iopub.status.idle": "2023-07-03T13:53:08.157145Z",
     "shell.execute_reply": "2023-07-03T13:53:08.155990Z"
    },
    "papermill": {
     "duration": 0.043937,
     "end_time": "2023-07-03T13:53:08.159909",
     "exception": false,
     "start_time": "2023-07-03T13:53:08.115972",
     "status": "completed"
    },
    "tags": []
   },
   "outputs": [],
   "source": [
    "y_predict=boostmodel.predict(x_test)\n",
    "y_predict=pd.DataFrame(y_predict)\n",
    "submission=pd.DataFrame({'PassengerId':test_df['PassengerId'],'Survived':np.array(y_predict).ravel()})\n",
    "\n",
    "#submit file\n",
    "\n",
    "submission.to_csv(\"submission.csv\", index=True)\n",
    "\n"
   ]
  }
 ],
 "metadata": {
  "kernelspec": {
   "display_name": "Python 3",
   "language": "python",
   "name": "python3"
  },
  "language_info": {
   "codemirror_mode": {
    "name": "ipython",
    "version": 3
   },
   "file_extension": ".py",
   "mimetype": "text/x-python",
   "name": "python",
   "nbconvert_exporter": "python",
   "pygments_lexer": "ipython3",
   "version": "3.10.10"
  },
  "papermill": {
   "default_parameters": {},
   "duration": 23.905372,
   "end_time": "2023-07-03T13:53:09.307525",
   "environment_variables": {},
   "exception": null,
   "input_path": "__notebook__.ipynb",
   "output_path": "__notebook__.ipynb",
   "parameters": {},
   "start_time": "2023-07-03T13:52:45.402153",
   "version": "2.4.0"
  }
 },
 "nbformat": 4,
 "nbformat_minor": 5
}
